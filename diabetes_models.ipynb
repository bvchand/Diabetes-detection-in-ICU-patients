{
  "nbformat": 4,
  "nbformat_minor": 0,
  "metadata": {
    "colab": {
      "name": "diabetes_models.ipynb",
      "provenance": [],
      "include_colab_link": true
    },
    "kernelspec": {
      "name": "python3",
      "display_name": "Python 3"
    },
    "language_info": {
      "name": "python"
    },
    "accelerator": "TPU"
  },
  "cells": [
    {
      "cell_type": "markdown",
      "metadata": {
        "id": "view-in-github",
        "colab_type": "text"
      },
      "source": [
        "<a href=\"https://colab.research.google.com/github/bvchand/Diabetes-detection-in-ICU-patients/blob/main/diabetes_models.ipynb\" target=\"_parent\"><img src=\"https://colab.research.google.com/assets/colab-badge.svg\" alt=\"Open In Colab\"/></a>"
      ]
    },
    {
      "cell_type": "code",
      "metadata": {
        "id": "Qzv4fwuZWhGz",
        "colab": {
          "base_uri": "https://localhost:8080/"
        },
        "outputId": "67c2b629-8d56-453d-d271-d354ccdd5564"
      },
      "source": [
        "import sqlite3\n",
        "import pickle\n",
        "import pandas as pd\n",
        "import seaborn as sns\n",
        "import numpy as np\n",
        "import matplotlib.pyplot as plt\n",
        "from sklearn.ensemble import RandomForestClassifier\n",
        "from sklearn.model_selection import train_test_split, GridSearchCV , RandomizedSearchCV, RepeatedStratifiedKFold, cross_val_score\n",
        "from sklearn.preprocessing import LabelEncoder, LabelBinarizer, StandardScaler\n",
        "from fancyimpute import IterativeImputer\n",
        "from sklearn.impute import KNNImputer\n",
        "from sklearn.decomposition import PCA\n",
        "from xgboost.sklearn import XGBClassifier\n",
        "from sklearn.metrics import roc_auc_score, classification_report\n",
        "from sklearn.linear_model import LogisticRegression\n",
        "from sklearn.pipeline import Pipeline\n",
        "from matplotlib import pyplot\n",
        "from sklearn.svm import SVC\n",
        "from sklearn.pipeline import make_pipeline\n",
        "import warnings\n",
        "warnings.filterwarnings(\"ignore\")"
      ],
      "execution_count": 4,
      "outputs": [
        {
          "output_type": "stream",
          "text": [
            "/usr/local/lib/python3.7/dist-packages/sklearn/externals/six.py:31: FutureWarning: The module is deprecated in version 0.21 and will be removed in version 0.23 since we've dropped support for Python 2.7. Please rely on the official version of six (https://pypi.org/project/six/).\n",
            "  \"(https://pypi.org/project/six/).\", FutureWarning)\n"
          ],
          "name": "stderr"
        }
      ]
    },
    {
      "cell_type": "code",
      "metadata": {
        "colab": {
          "base_uri": "https://localhost:8080/"
        },
        "id": "nCyuyKjTXUPd",
        "outputId": "d0f93f23-75c9-45bb-a371-506b007bb16a"
      },
      "source": [
        "from google.colab import drive\n",
        "drive.mount('/content/drive', force_remount=True)"
      ],
      "execution_count": 5,
      "outputs": [
        {
          "output_type": "stream",
          "text": [
            "Mounted at /content/drive\n"
          ],
          "name": "stdout"
        }
      ]
    },
    {
      "cell_type": "code",
      "metadata": {
        "colab": {
          "base_uri": "https://localhost:8080/"
        },
        "id": "dI2iRXDFXV7N",
        "outputId": "d4750008-c6e2-44f9-d809-2db0d7185244"
      },
      "source": [
        "cd '/content/drive/Shareddrives/CMPE-255_Project/widsdatathon2021'"
      ],
      "execution_count": 6,
      "outputs": [
        {
          "output_type": "stream",
          "text": [
            "/content/drive/Shareddrives/CMPE-255_Project/widsdatathon2021\n"
          ],
          "name": "stdout"
        }
      ]
    },
    {
      "cell_type": "code",
      "metadata": {
        "id": "iLyBD0lZW3N_"
      },
      "source": [
        "#Load all pickled data\n",
        "KNN_imputed_trainX = pickle.load(open(\"KNN_imputed_trainX.pkl\", \"rb\"))\n",
        "KNN_imputed_testX_df = pickle.load(open(\"KNN_imputed_testX_df.pkl\", \"rb\"))\n",
        "train_y = pickle.load(open(\"diabetes_train_y.pkl\", \"rb\"))\n",
        "test_y = pickle.load(open(\"diabetes_test_y.pkl\", \"rb\"))"
      ],
      "execution_count": 7,
      "outputs": []
    },
    {
      "cell_type": "markdown",
      "metadata": {
        "id": "sU2ajvZ3s7FJ"
      },
      "source": [
        "# Logistic regression"
      ]
    },
    {
      "cell_type": "code",
      "metadata": {
        "id": "usJ2UgxzbCyW"
      },
      "source": [
        "#standardize data\n",
        "scaler = StandardScaler()\n",
        "scaled_df = scaler.fit_transform(KNN_imputed_trainX)\n",
        "scaled_test_df = scaler.fit_transform(KNN_imputed_testX_df)"
      ],
      "execution_count": null,
      "outputs": []
    },
    {
      "cell_type": "code",
      "metadata": {
        "colab": {
          "base_uri": "https://localhost:8080/"
        },
        "id": "UkxTG6LYX4xg",
        "outputId": "62795070-e569-4ac8-b0a8-e2dc84d94778"
      },
      "source": [
        "# Apply logistic regression\n",
        "clf = LogisticRegression(random_state=0, max_iter=200).fit(scaled_df, train_y)\n",
        "pred = clf.predict(scaled_test_df)\n",
        "score = clf.score(scaled_test_df,test_y)\n",
        "score"
      ],
      "execution_count": null,
      "outputs": [
        {
          "output_type": "execute_result",
          "data": {
            "text/plain": [
              "0.7824216349108789"
            ]
          },
          "metadata": {
            "tags": []
          },
          "execution_count": 6
        }
      ]
    },
    {
      "cell_type": "code",
      "metadata": {
        "colab": {
          "base_uri": "https://localhost:8080/",
          "height": 520
        },
        "id": "UeITDf7eZpi3",
        "outputId": "2cba6e8c-26c1-4c35-d8e8-24c343e576ba"
      },
      "source": [
        "#show confusion matrix\n",
        "cm = metrics.confusion_matrix(test_y, pred)\n",
        "plt.figure(figsize=(9,9))\n",
        "sns.heatmap(cm, annot=True, fmt=\".3f\", linewidths=.5, square = True, cmap = 'Blues_r');\n",
        "plt.ylabel('Actual label');\n",
        "plt.xlabel('Predicted label');\n",
        "all_sample_title = 'Accuracy Score: {0}'.format(score)\n",
        "plt.title(all_sample_title, size = 15);"
      ],
      "execution_count": null,
      "outputs": [
        {
          "output_type": "display_data",
          "data": {
            "image/png": "[encoded data removed]",
            "text/plain": [
              "<Figure size 648x648 with 2 Axes>"
            ]
          },
          "metadata": {
            "tags": [],
            "needs_background": "light"
          }
        }
      ]
    },
    {
      "cell_type": "markdown",
      "metadata": {
        "id": "eByAGxL0d7nl"
      },
      "source": [
        "### Logistic regression has accuracy  score of 78.24 on the dataset."
      ]
    },
    {
      "cell_type": "code",
      "metadata": {
        "colab": {
          "base_uri": "https://localhost:8080/"
        },
        "id": "jEIm8y_iesUU",
        "outputId": "ac922935-8303-470a-a237-975057e73d1b"
      },
      "source": [
        "# Hyperparameter tuning\n",
        "model = LogisticRegression()\n",
        "solvers = ['newton-cg', 'lbfgs', 'liblinear']\n",
        "penalty = ['l2']\n",
        "c_values = [100, 10, 1.0, 0.1, 0.01]\n",
        "max_iter = [200,300]\n",
        "# define grid search\n",
        "grid = dict(solver=solvers,penalty=penalty,C=c_values, max_iter = max_iter)\n",
        "cv = RepeatedStratifiedKFold(n_splits=5, n_repeats=2, random_state=1)\n",
        "grid_search = RandomizedSearchCV(estimator=model, param_distributions=grid, n_jobs=-1, cv=cv, scoring='accuracy',error_score=0)\n",
        "grid_result = grid_search.fit(scaled_df, train_y)\n",
        "# summarize results\n",
        "print(\"Best: %f using %s\" % (grid_result.best_score_, grid_result.best_params_))\n",
        "means = grid_result.cv_results_['mean_test_score']\n",
        "stds = grid_result.cv_results_['std_test_score']\n",
        "params = grid_result.cv_results_['params']\n",
        "for mean, stdev, param in zip(means, stds, params):\n",
        "    print(\"%f (%f) with: %r\" % (mean, stdev, param))"
      ],
      "execution_count": null,
      "outputs": [
        {
          "output_type": "stream",
          "text": [
            "Best: 0.783846 using {'solver': 'liblinear', 'penalty': 'l2', 'max_iter': 300, 'C': 100}\n",
            "0.783846 (0.000024) with: {'solver': 'liblinear', 'penalty': 'l2', 'max_iter': 300, 'C': 100}\n",
            "0.783846 (0.000024) with: {'solver': 'lbfgs', 'penalty': 'l2', 'max_iter': 300, 'C': 0.1}\n",
            "0.783846 (0.000024) with: {'solver': 'newton-cg', 'penalty': 'l2', 'max_iter': 200, 'C': 1.0}\n",
            "0.783846 (0.000024) with: {'solver': 'liblinear', 'penalty': 'l2', 'max_iter': 300, 'C': 10}\n",
            "0.783846 (0.000024) with: {'solver': 'lbfgs', 'penalty': 'l2', 'max_iter': 300, 'C': 10}\n",
            "0.783846 (0.000024) with: {'solver': 'lbfgs', 'penalty': 'l2', 'max_iter': 300, 'C': 1.0}\n",
            "0.783846 (0.000024) with: {'solver': 'newton-cg', 'penalty': 'l2', 'max_iter': 300, 'C': 0.01}\n",
            "0.783846 (0.000024) with: {'solver': 'newton-cg', 'penalty': 'l2', 'max_iter': 300, 'C': 100}\n",
            "0.783846 (0.000024) with: {'solver': 'lbfgs', 'penalty': 'l2', 'max_iter': 200, 'C': 0.01}\n",
            "0.783846 (0.000024) with: {'solver': 'liblinear', 'penalty': 'l2', 'max_iter': 200, 'C': 1.0}\n"
          ],
          "name": "stdout"
        }
      ]
    },
    {
      "cell_type": "markdown",
      "metadata": {
        "id": "DNgJbNJbqEdu"
      },
      "source": [
        "# SVM"
      ]
    },
    {
      "cell_type": "code",
      "metadata": {
        "id": "ugx8KYTGqDm5"
      },
      "source": [
        "KNN_imputed_trainX = KNN_imputed_trainX[KNN_imputed_testX_df.columns]\n",
        "KNN_imputed_testX = KNN_imputed_testX_df"
      ],
      "execution_count": 8,
      "outputs": []
    },
    {
      "cell_type": "code",
      "metadata": {
        "id": "jj4NhizFrggd",
        "colab": {
          "base_uri": "https://localhost:8080/"
        },
        "outputId": "81bb3c46-e1ed-4389-f018-e0eab1f2e6a2"
      },
      "source": [
        "#standardize the data for SVM\n",
        "scaler = StandardScaler()\n",
        "KNN_imputed_trainX_scaled = scaler.fit_transform(KNN_imputed_trainX)\n",
        "KNN_imputed_testX_scaled = scaler.transform(KNN_imputed_testX)\n",
        "\n",
        "KNN_imputed_trainX_scaled_df = pd.DataFrame(KNN_imputed_trainX_scaled, columns=KNN_imputed_trainX.columns, index=KNN_imputed_trainX.index)\n",
        "print(KNN_imputed_trainX_scaled_df.info)\n",
        "\n",
        "KNN_imputed_testX_scaled_df = pd.DataFrame(KNN_imputed_testX_scaled, columns=KNN_imputed_testX.columns, index=KNN_imputed_testX.index)\n",
        "print(KNN_imputed_testX_scaled_df.info)"
      ],
      "execution_count": 9,
      "outputs": [
        {
          "output_type": "stream",
          "text": [
            "<bound method DataFrame.info of              age       bmi  ethnicity  ...  d1_sodium_min  d1_wbc_max  d1_wbc_min\n",
            "115201 -0.119229 -0.042240  -1.884170  ...      -0.078927   -0.392034   -0.300572\n",
            "5903    0.668470  0.150551   2.787024  ...      -0.150119   -0.420961   -0.262781\n",
            "68265   0.486693  1.858973  -0.015693  ...      -0.363694   -0.610651   -0.480111\n",
            "109489  0.365509 -1.298778  -0.015693  ...      -0.150119   -1.021645   -0.950994\n",
            "14762  -0.664559 -0.812496  -1.884170  ...      -0.150119   -0.015131    0.066886\n",
            "...          ...       ...        ...  ...            ...         ...         ...\n",
            "128106 -2.542917 -0.376282  -0.015693  ...      -4.421627   -0.531614   -0.389557\n",
            "103694  0.001659 -0.887381  -0.015693  ...       1.131334   -0.721303   -0.606887\n",
            "860     1.516761  0.110271  -0.015693  ...      -0.271145   -0.193070   -0.093746\n",
            "15795   0.062548  0.267526  -0.015693  ...       1.772060    3.497712    4.226904\n",
            "121958  0.304917 -0.982155   0.918546  ...       0.277032   -1.132298   -1.077770\n",
            "\n",
            "[104125 rows x 90 columns]>\n",
            "<bound method DataFrame.info of              age       bmi  ethnicity  ...  d1_sodium_min  d1_wbc_max  d1_wbc_min\n",
            "71328   0.001659 -0.110966  -0.015693  ...      -0.150119    4.400319    5.261035\n",
            "107114  0.729062 -0.924508  -0.949931  ...      -4.421627   -0.523130   -0.431272\n",
            "33650   0.001956  0.232316  -0.015693  ...      -0.577270    0.227145   -0.117894\n",
            "119933  0.910839 -1.079548  -0.015693  ...       0.277032   -0.389346   -0.226559\n",
            "3395   -0.664559 -0.236942  -0.015693  ...       1.558484   -0.405154   -0.353335\n",
            "...          ...       ...        ...  ...            ...         ...         ...\n",
            "115047  1.577353 -1.081542  -0.015693  ...      -1.004420    0.021648   -0.081672\n",
            "113339  0.426101  0.382089  -0.015693  ...      -0.306741   -0.152076   -0.163533\n",
            "115270 -1.149296 -0.063283   2.787024  ...      -0.150119    1.807893    2.290852\n",
            "88601  -0.725151  2.350067  -0.015693  ...      -0.503942   -0.484191   -0.335224\n",
            "32553  -2.058179 -0.957722  -0.015693  ...       0.277032    1.365283    1.783748\n",
            "\n",
            "[26032 rows x 90 columns]>\n"
          ],
          "name": "stdout"
        }
      ]
    },
    {
      "cell_type": "markdown",
      "metadata": {
        "id": "wjeC-tOXVGw4"
      },
      "source": [
        "#### SVM classifier with C=0.1 and a linear kernel\n",
        "\n"
      ]
    },
    {
      "cell_type": "code",
      "metadata": {
        "id": "MFidXrcEEEjd"
      },
      "source": [
        "svm = SVC(C=0.1, kernel='linear', random_state=0)\n",
        "%time svm.fit(KNN_imputed_trainX_scaled_df, train_y)"
      ],
      "execution_count": null,
      "outputs": []
    },
    {
      "cell_type": "code",
      "metadata": {
        "id": "JmqjMhmzdYf4"
      },
      "source": [
        "pickle.dump(svm, open(\"svm_classifier.pkl\", \"wb\"))"
      ],
      "execution_count": 12,
      "outputs": []
    },
    {
      "cell_type": "code",
      "metadata": {
        "id": "U0AHZ7y8RX_V"
      },
      "source": [
        "diabetes_y_pred = svm.predict(KNN_imputed_testX_scaled_df)\n",
        "svm_test_accuracy = accuracy_score(test_y, diabetes_y_pred)"
      ],
      "execution_count": null,
      "outputs": []
    },
    {
      "cell_type": "code",
      "metadata": {
        "id": "ZGv2jd_9U1Ow"
      },
      "source": [
        "print(\"Test accuracy for the SVM classifier with C=0.1 and a linear kernel: \",svm_test_accuracy)"
      ],
      "execution_count": null,
      "outputs": []
    },
    {
      "cell_type": "markdown",
      "metadata": {
        "id": "tP4ciCASVNKL"
      },
      "source": [
        "#### Hyperparameter search for SVM classifier"
      ]
    },
    {
      "cell_type": "code",
      "metadata": {
        "id": "ez7e0JjkrvPr"
      },
      "source": [
        "params = {'C': [0.1, 1, 10], 'kernel': ['linear']} "
      ],
      "execution_count": null,
      "outputs": []
    },
    {
      "cell_type": "code",
      "metadata": {
        "id": "kKQN_Xvpshgb"
      },
      "source": [
        "randomCV = RandomizedSearchCV(SVC(), params, scoring='accuracy', cv=5, refit='True', random_state=0)\n",
        "\n",
        "%time randomCV.fit(KNN_imputed_trainX_scaled_df, train_y)\n",
        "pickle.dump(randomCV, open(\"randomCV_svm_classifier.pkl\", \"wb\"))"
      ],
      "execution_count": null,
      "outputs": []
    },
    {
      "cell_type": "code",
      "metadata": {
        "id": "m4wD-yP7V7Mn"
      },
      "source": [
        "rand_diabetes_y_pred = randomCV.predict(KNN_imputed_testX_scaled_df)\n",
        "rand_svm_test_accuracy = accuracy_score(test_y, rand_diabetes_y_pred)"
      ],
      "execution_count": null,
      "outputs": []
    },
    {
      "cell_type": "code",
      "metadata": {
        "id": "OngycJ00sjDk"
      },
      "source": [
        "print(\"Best parameters resulted from hyperparameter tuning: \",randomCV.best_params_)\n",
        "print(\"Best train accuracy score that resulted from the best estimator \",randomCV.best_score_)\n",
        "print(\"Test accuracy for the best SVM estimator from hyperparameter search: \",rand_svm_test_accuracy)"
      ],
      "execution_count": null,
      "outputs": []
    },
    {
      "cell_type": "code",
      "metadata": {
        "id": "6IRolls6tILK"
      },
      "source": [
        ""
      ],
      "execution_count": null,
      "outputs": []
    }
  ]
}