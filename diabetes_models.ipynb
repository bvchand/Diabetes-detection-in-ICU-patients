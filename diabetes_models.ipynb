{
  "nbformat": 4,
  "nbformat_minor": 0,
  "metadata": {
    "colab": {
      "name": "diabetes_models.ipynb",
      "provenance": [],
      "include_colab_link": true
    },
    "kernelspec": {
      "name": "python3",
      "display_name": "Python 3"
    },
    "language_info": {
      "name": "python"
    },
    "accelerator": "TPU"
  },
  "cells": [
    {
      "cell_type": "markdown",
      "metadata": {
        "id": "view-in-github",
        "colab_type": "text"
      },
      "source": [
        "<a href=\"https://colab.research.google.com/github/bvchand/Diabetes-detection-in-ICU-patients/blob/main/diabetes_models.ipynb\" target=\"_parent\"><img src=\"https://colab.research.google.com/assets/colab-badge.svg\" alt=\"Open In Colab\"/></a>"
      ]
    },
    {
      "cell_type": "code",
      "metadata": {
        "id": "Qzv4fwuZWhGz",
        "colab": {
          "base_uri": "https://localhost:8080/"
        },
        "outputId": "832d5ca1-fedc-4537-f68b-6dc0e690f061"
      },
      "source": [
        "import sqlite3\n",
        "import pickle\n",
        "import pandas as pd\n",
        "import seaborn as sns\n",
        "import numpy as np\n",
        "import matplotlib.pyplot as plt\n",
        "from sklearn.ensemble import RandomForestClassifier\n",
        "from sklearn.model_selection import train_test_split, GridSearchCV , RandomizedSearchCV, RepeatedStratifiedKFold, cross_val_score\n",
        "from sklearn.preprocessing import LabelEncoder, LabelBinarizer, StandardScaler\n",
        "from fancyimpute import IterativeImputer\n",
        "from sklearn.impute import KNNImputer\n",
        "from sklearn.decomposition import PCA\n",
        "from xgboost.sklearn import XGBClassifier\n",
        "from sklearn.metrics import roc_auc_score, classification_report\n",
        "from sklearn.linear_model import LogisticRegression\n",
        "from sklearn.pipeline import Pipeline\n",
        "from matplotlib import pyplot\n",
        "from sklearn.svm import SVC\n",
        "from sklearn.pipeline import make_pipeline\n",
        "from sklearn.metrics import accuracy_score\n",
        "import xgboost as xgb\n",
        "import warnings\n",
        "warnings.filterwarnings(\"ignore\")"
      ],
      "execution_count": 6,
      "outputs": [
        {
          "output_type": "stream",
          "text": [
            "/usr/local/lib/python3.7/dist-packages/sklearn/externals/six.py:31: FutureWarning: The module is deprecated in version 0.21 and will be removed in version 0.23 since we've dropped support for Python 2.7. Please rely on the official version of six (https://pypi.org/project/six/).\n",
            "  \"(https://pypi.org/project/six/).\", FutureWarning)\n"
          ],
          "name": "stderr"
        }
      ]
    },
    {
      "cell_type": "code",
      "metadata": {
        "colab": {
          "base_uri": "https://localhost:8080/"
        },
        "id": "nCyuyKjTXUPd",
        "outputId": "70fb21ca-662d-43cc-d3ae-874470f78641"
      },
      "source": [
        "from google.colab import drive\n",
        "drive.mount('/content/drive', force_remount=True)"
      ],
      "execution_count": 1,
      "outputs": [
        {
          "output_type": "stream",
          "text": [
            "Mounted at /content/drive\n"
          ],
          "name": "stdout"
        }
      ]
    },
    {
      "cell_type": "code",
      "metadata": {
        "colab": {
          "base_uri": "https://localhost:8080/"
        },
        "id": "dI2iRXDFXV7N",
        "outputId": "c6cb239c-f0cb-4f3d-e2b9-b3c590a3cee2"
      },
      "source": [
        "cd '/content/drive/Shareddrives/CMPE-255_Project/widsdatathon2021'"
      ],
      "execution_count": 2,
      "outputs": [
        {
          "output_type": "stream",
          "text": [
            "/content/drive/Shareddrives/CMPE-255_Project/widsdatathon2021\n"
          ],
          "name": "stdout"
        }
      ]
    },
    {
      "cell_type": "code",
      "metadata": {
        "id": "iLyBD0lZW3N_"
      },
      "source": [
        "#Load all pickled data\n",
        "KNN_imputed_trainX = pickle.load(open(\"KNN_imputed_trainX.pkl\", \"rb\"))\n",
        "KNN_imputed_testX_df = pickle.load(open(\"KNN_imputed_testX_df.pkl\", \"rb\"))\n",
        "train_y = pickle.load(open(\"diabetes_train_y.pkl\", \"rb\"))\n",
        "test_y = pickle.load(open(\"diabetes_test_y.pkl\", \"rb\"))"
      ],
      "execution_count": 7,
      "outputs": []
    },
    {
      "cell_type": "markdown",
      "metadata": {
        "id": "sU2ajvZ3s7FJ"
      },
      "source": [
        "# Logistic regression"
      ]
    },
    {
      "cell_type": "code",
      "metadata": {
        "id": "usJ2UgxzbCyW"
      },
      "source": [
        "#standardize data\n",
        "scaler = StandardScaler()\n",
        "scaled_df = scaler.fit_transform(KNN_imputed_trainX)\n",
        "scaled_test_df = scaler.fit_transform(KNN_imputed_testX_df)"
      ],
      "execution_count": null,
      "outputs": []
    },
    {
      "cell_type": "code",
      "metadata": {
        "colab": {
          "base_uri": "https://localhost:8080/"
        },
        "id": "UkxTG6LYX4xg",
        "outputId": "62795070-e569-4ac8-b0a8-e2dc84d94778"
      },
      "source": [
        "# Apply logistic regression\n",
        "clf = LogisticRegression(random_state=0, max_iter=200).fit(scaled_df, train_y)\n",
        "pred = clf.predict(scaled_test_df)\n",
        "score = clf.score(scaled_test_df,test_y)\n",
        "score"
      ],
      "execution_count": null,
      "outputs": [
        {
          "output_type": "execute_result",
          "data": {
            "text/plain": [
              "0.7824216349108789"
            ]
          },
          "metadata": {
            "tags": []
          },
          "execution_count": 6
        }
      ]
    },
    {
      "cell_type": "code",
      "metadata": {
        "colab": {
          "base_uri": "https://localhost:8080/",
          "height": 520
        },
        "id": "UeITDf7eZpi3",
        "outputId": "2cba6e8c-26c1-4c35-d8e8-24c343e576ba"
      },
      "source": [
        "#show confusion matrix\n",
        "cm = metrics.confusion_matrix(test_y, pred)\n",
        "plt.figure(figsize=(9,9))\n",
        "sns.heatmap(cm, annot=True, fmt=\".3f\", linewidths=.5, square = True, cmap = 'Blues_r');\n",
        "plt.ylabel('Actual label');\n",
        "plt.xlabel('Predicted label');\n",
        "all_sample_title = 'Accuracy Score: {0}'.format(score)\n",
        "plt.title(all_sample_title, size = 15);"
      ],
      "execution_count": null,
      "outputs": [
        {
          "output_type": "display_data",
          "data": {
            "image/png": "[encoded data removed]",
            "text/plain": [
              "<Figure size 648x648 with 2 Axes>"
            ]
          },
          "metadata": {
            "tags": [],
            "needs_background": "light"
          }
        }
      ]
    },
    {
      "cell_type": "markdown",
      "metadata": {
        "id": "eByAGxL0d7nl"
      },
      "source": [
        "### Logistic regression has accuracy  score of 78.24 on the dataset."
      ]
    },
    {
      "cell_type": "code",
      "metadata": {
        "colab": {
          "base_uri": "https://localhost:8080/"
        },
        "id": "jEIm8y_iesUU",
        "outputId": "ac922935-8303-470a-a237-975057e73d1b"
      },
      "source": [
        "# Hyperparameter tuning\n",
        "model = LogisticRegression()\n",
        "solvers = ['newton-cg', 'lbfgs', 'liblinear']\n",
        "penalty = ['l2']\n",
        "c_values = [100, 10, 1.0, 0.1, 0.01]\n",
        "max_iter = [200,300]\n",
        "# define grid search\n",
        "grid = dict(solver=solvers,penalty=penalty,C=c_values, max_iter = max_iter)\n",
        "cv = RepeatedStratifiedKFold(n_splits=5, n_repeats=2, random_state=1)\n",
        "grid_search = RandomizedSearchCV(estimator=model, param_distributions=grid, n_jobs=-1, cv=cv, scoring='accuracy',error_score=0)\n",
        "grid_result = grid_search.fit(scaled_df, train_y)\n",
        "# summarize results\n",
        "print(\"Best: %f using %s\" % (grid_result.best_score_, grid_result.best_params_))\n",
        "means = grid_result.cv_results_['mean_test_score']\n",
        "stds = grid_result.cv_results_['std_test_score']\n",
        "params = grid_result.cv_results_['params']\n",
        "for mean, stdev, param in zip(means, stds, params):\n",
        "    print(\"%f (%f) with: %r\" % (mean, stdev, param))"
      ],
      "execution_count": null,
      "outputs": [
        {
          "output_type": "stream",
          "text": [
            "Best: 0.783846 using {'solver': 'liblinear', 'penalty': 'l2', 'max_iter': 300, 'C': 100}\n",
            "0.783846 (0.000024) with: {'solver': 'liblinear', 'penalty': 'l2', 'max_iter': 300, 'C': 100}\n",
            "0.783846 (0.000024) with: {'solver': 'lbfgs', 'penalty': 'l2', 'max_iter': 300, 'C': 0.1}\n",
            "0.783846 (0.000024) with: {'solver': 'newton-cg', 'penalty': 'l2', 'max_iter': 200, 'C': 1.0}\n",
            "0.783846 (0.000024) with: {'solver': 'liblinear', 'penalty': 'l2', 'max_iter': 300, 'C': 10}\n",
            "0.783846 (0.000024) with: {'solver': 'lbfgs', 'penalty': 'l2', 'max_iter': 300, 'C': 10}\n",
            "0.783846 (0.000024) with: {'solver': 'lbfgs', 'penalty': 'l2', 'max_iter': 300, 'C': 1.0}\n",
            "0.783846 (0.000024) with: {'solver': 'newton-cg', 'penalty': 'l2', 'max_iter': 300, 'C': 0.01}\n",
            "0.783846 (0.000024) with: {'solver': 'newton-cg', 'penalty': 'l2', 'max_iter': 300, 'C': 100}\n",
            "0.783846 (0.000024) with: {'solver': 'lbfgs', 'penalty': 'l2', 'max_iter': 200, 'C': 0.01}\n",
            "0.783846 (0.000024) with: {'solver': 'liblinear', 'penalty': 'l2', 'max_iter': 200, 'C': 1.0}\n"
          ],
          "name": "stdout"
        }
      ]
    },
    {
      "cell_type": "markdown",
      "metadata": {
        "id": "DNgJbNJbqEdu"
      },
      "source": [
        "#SVM"
      ]
    },
    {
      "cell_type": "code",
      "metadata": {
        "id": "ugx8KYTGqDm5"
      },
      "source": [
        "KNN_imputed_trainX = KNN_imputed_trainX[KNN_imputed_testX_df.columns]\n",
        "KNN_imputed_testX = KNN_imputed_testX_df"
      ],
      "execution_count": 8,
      "outputs": []
    },
    {
      "cell_type": "code",
      "metadata": {
        "id": "jj4NhizFrggd",
        "colab": {
          "base_uri": "https://localhost:8080/"
        },
        "outputId": "ea401390-e322-4fc1-bf12-e9fd316482c7"
      },
      "source": [
        "#standardize the data for SVM\n",
        "scaler = StandardScaler()\n",
        "KNN_imputed_trainX_scaled = scaler.fit_transform(KNN_imputed_trainX)\n",
        "KNN_imputed_testX_scaled = scaler.transform(KNN_imputed_testX)\n",
        "\n",
        "KNN_imputed_trainX_scaled_df = pd.DataFrame(KNN_imputed_trainX_scaled, columns=KNN_imputed_trainX.columns, index=KNN_imputed_trainX.index)\n",
        "print(KNN_imputed_trainX_scaled_df.info)\n",
        "\n",
        "KNN_imputed_testX_scaled_df = pd.DataFrame(KNN_imputed_testX_scaled, columns=KNN_imputed_testX.columns, index=KNN_imputed_testX.index)\n",
        "print(KNN_imputed_testX_scaled_df.info)"
      ],
      "execution_count": 9,
      "outputs": [
        {
          "output_type": "stream",
          "text": [
            "<bound method DataFrame.info of              age       bmi  ethnicity  ...  d1_sodium_min  d1_wbc_max  d1_wbc_min\n",
            "115201 -0.119229 -0.042240  -1.884170  ...      -0.078927   -0.392034   -0.300572\n",
            "5903    0.668470  0.150551   2.787024  ...      -0.150119   -0.420961   -0.262781\n",
            "68265   0.486693  1.858973  -0.015693  ...      -0.363694   -0.610651   -0.480111\n",
            "109489  0.365509 -1.298778  -0.015693  ...      -0.150119   -1.021645   -0.950994\n",
            "14762  -0.664559 -0.812496  -1.884170  ...      -0.150119   -0.015131    0.066886\n",
            "...          ...       ...        ...  ...            ...         ...         ...\n",
            "128106 -2.542917 -0.376282  -0.015693  ...      -4.421627   -0.531614   -0.389557\n",
            "103694  0.001659 -0.887381  -0.015693  ...       1.131334   -0.721303   -0.606887\n",
            "860     1.516761  0.110271  -0.015693  ...      -0.271145   -0.193070   -0.093746\n",
            "15795   0.062548  0.267526  -0.015693  ...       1.772060    3.497712    4.226904\n",
            "121958  0.304917 -0.982155   0.918546  ...       0.277032   -1.132298   -1.077770\n",
            "\n",
            "[104125 rows x 90 columns]>\n",
            "<bound method DataFrame.info of              age       bmi  ethnicity  ...  d1_sodium_min  d1_wbc_max  d1_wbc_min\n",
            "71328   0.001659 -0.110966  -0.015693  ...      -0.150119    4.400319    5.261035\n",
            "107114  0.729062 -0.924508  -0.949931  ...      -4.421627   -0.523130   -0.431272\n",
            "33650   0.001956  0.232316  -0.015693  ...      -0.577270    0.227145   -0.117894\n",
            "119933  0.910839 -1.079548  -0.015693  ...       0.277032   -0.389346   -0.226559\n",
            "3395   -0.664559 -0.236942  -0.015693  ...       1.558484   -0.405154   -0.353335\n",
            "...          ...       ...        ...  ...            ...         ...         ...\n",
            "115047  1.577353 -1.081542  -0.015693  ...      -1.004420    0.021648   -0.081672\n",
            "113339  0.426101  0.382089  -0.015693  ...      -0.306741   -0.152076   -0.163533\n",
            "115270 -1.149296 -0.063283   2.787024  ...      -0.150119    1.807893    2.290852\n",
            "88601  -0.725151  2.350067  -0.015693  ...      -0.503942   -0.484191   -0.335224\n",
            "32553  -2.058179 -0.957722  -0.015693  ...       0.277032    1.365283    1.783748\n",
            "\n",
            "[26032 rows x 90 columns]>\n"
          ],
          "name": "stdout"
        }
      ]
    },
    {
      "cell_type": "markdown",
      "metadata": {
        "id": "wjeC-tOXVGw4"
      },
      "source": [
        "#### SVM classifier with C=0.1 and a linear kernel\n",
        "\n"
      ]
    },
    {
      "cell_type": "code",
      "metadata": {
        "id": "MFidXrcEEEjd"
      },
      "source": [
        "svm = SVC(C=0.1, kernel='linear', random_state=0)\n",
        "%time svm.fit(KNN_imputed_trainX_scaled_df, train_y)"
      ],
      "execution_count": null,
      "outputs": []
    },
    {
      "cell_type": "code",
      "metadata": {
        "id": "JmqjMhmzdYf4"
      },
      "source": [
        "# pickle.dump(svm, open(\"svm_classifier.pkl\", \"wb\"))\n",
        "svm = pickle.load(svm, open(\"svm_classifier.pkl\", \"rb\"))"
      ],
      "execution_count": null,
      "outputs": []
    },
    {
      "cell_type": "code",
      "metadata": {
        "id": "U0AHZ7y8RX_V"
      },
      "source": [
        "diabetes_y_pred = svm.predict(KNN_imputed_testX_scaled_df)"
      ],
      "execution_count": null,
      "outputs": []
    },
    {
      "cell_type": "code",
      "metadata": {
        "id": "Aib-4RK0eNl4"
      },
      "source": [
        "svm_test_accuracy = accuracy_score(test_y, diabetes_y_pred)"
      ],
      "execution_count": null,
      "outputs": []
    },
    {
      "cell_type": "code",
      "metadata": {
        "colab": {
          "base_uri": "https://localhost:8080/"
        },
        "id": "ZGv2jd_9U1Ow",
        "outputId": "c2f405ec-789e-4147-ece2-79b895e3fe1e"
      },
      "source": [
        "print(\"Test accuracy for the SVM classifier with C=0.1 and a linear kernel: \",svm_test_accuracy)"
      ],
      "execution_count": null,
      "outputs": [
        {
          "output_type": "stream",
          "text": [
            "Test accuracy for the SVM classifier with C=0.1 and a linear kernel:  0.7831899200983405\n"
          ],
          "name": "stdout"
        }
      ]
    },
    {
      "cell_type": "markdown",
      "metadata": {
        "id": "4Sm_rbOJKbtz"
      },
      "source": [
        "#### SVM classifier with C=1 and a linear kernel\n",
        "\n"
      ]
    },
    {
      "cell_type": "code",
      "metadata": {
        "id": "t6oZw3Q4Kbt0"
      },
      "source": [
        "svm1 = SVC(C=1, kernel='linear', random_state=0)\n",
        "%time svm1.fit(KNN_imputed_trainX_scaled_df, train_y)"
      ],
      "execution_count": null,
      "outputs": []
    },
    {
      "cell_type": "code",
      "metadata": {
        "id": "y5strFknKbt0"
      },
      "source": [
        "#pickle.dump(svm1, open(\"svm_classifier1.pkl\", \"wb\"))\n",
        "svm1 = pickle.load(open(\"svm_classifier1.pkl\", \"rb\"))"
      ],
      "execution_count": null,
      "outputs": []
    },
    {
      "cell_type": "code",
      "metadata": {
        "id": "UOCT-ZzFKbt0"
      },
      "source": [
        "diabetes_y_pred_svm1 = svm1.predict(KNN_imputed_testX_scaled_df)"
      ],
      "execution_count": null,
      "outputs": []
    },
    {
      "cell_type": "code",
      "metadata": {
        "id": "ApNliiF-Kbt1"
      },
      "source": [
        "pickle.dump(diabetes_y_pred_svm1, open(\"diabetes_y_pred_svm1.pkl\", \"wb\"))\n",
        "svm_test_accuracy1 = accuracy_score(test_y, diabetes_y_pred_svm1)"
      ],
      "execution_count": null,
      "outputs": []
    },
    {
      "cell_type": "code",
      "metadata": {
        "id": "_KqjKFamKbt1",
        "colab": {
          "base_uri": "https://localhost:8080/"
        },
        "outputId": "cdbc1f60-a9a4-4217-a91e-b3a564e12f6b"
      },
      "source": [
        "print(\"Test accuracy for the SVM classifier with C=1 and a linear kernel: \",svm_test_accuracy1)"
      ],
      "execution_count": null,
      "outputs": [
        {
          "output_type": "stream",
          "text": [
            "Test accuracy for the SVM classifier with C=1 and a linear kernel:  0.7831899200983405\n"
          ],
          "name": "stdout"
        }
      ]
    },
    {
      "cell_type": "markdown",
      "metadata": {
        "id": "FguFhz11wj45"
      },
      "source": [
        "# Random Forest Classifier"
      ]
    },
    {
      "cell_type": "code",
      "metadata": {
        "id": "Jhf4wf31xPr_",
        "colab": {
          "base_uri": "https://localhost:8080/"
        },
        "outputId": "4a6791ef-17f2-4868-b957-0399fb71540f"
      },
      "source": [
        "from sklearn.ensemble import RandomForestClassifier\n",
        "import time\n",
        "from sklearn.metrics import accuracy_score\n",
        "RF_Cl=RandomForestClassifier(n_estimators=200)\n",
        "start = time.time()\n",
        "RF_Cl.fit(scaled_df,train_y) #training\n",
        "end = time.time()\n",
        "print(\"Time taken to train data with RFC in seconds :\",end-start)"
      ],
      "execution_count": null,
      "outputs": [
        {
          "output_type": "stream",
          "text": [
            "Time taken to train data with RFC in seconds : 193.89659810066223\n"
          ],
          "name": "stdout"
        }
      ]
    },
    {
      "cell_type": "code",
      "metadata": {
        "id": "lZBxnvb2z_f9",
        "colab": {
          "base_uri": "https://localhost:8080/"
        },
        "outputId": "1bbf4432-c0f6-4251-dae8-325c4207dbcb"
      },
      "source": [
        "RF_Cl.get_params"
      ],
      "execution_count": null,
      "outputs": [
        {
          "output_type": "execute_result",
          "data": {
            "text/plain": [
              "<bound method BaseEstimator.get_params of RandomForestClassifier(bootstrap=True, ccp_alpha=0.0, class_weight=None,\n",
              "                       criterion='gini', max_depth=None, max_features='auto',\n",
              "                       max_leaf_nodes=None, max_samples=None,\n",
              "                       min_impurity_decrease=0.0, min_impurity_split=None,\n",
              "                       min_samples_leaf=1, min_samples_split=2,\n",
              "                       min_weight_fraction_leaf=0.0, n_estimators=200,\n",
              "                       n_jobs=None, oob_score=False, random_state=None,\n",
              "                       verbose=0, warm_start=False)>"
            ]
          },
          "metadata": {
            "tags": []
          },
          "execution_count": 10
        }
      ]
    },
    {
      "cell_type": "code",
      "metadata": {
        "id": "V_1acbIOyKhT"
      },
      "source": [
        "y_pred = RF_Cl.predict(scaled_test_df) #predicting on the test set"
      ],
      "execution_count": null,
      "outputs": []
    },
    {
      "cell_type": "code",
      "metadata": {
        "id": "j4Q09iEvypEE",
        "colab": {
          "base_uri": "https://localhost:8080/"
        },
        "outputId": "db0cda4b-f1e3-4c06-f66a-ce3f98c22194"
      },
      "source": [
        "from sklearn import metrics\n",
        "print(\"Accuracy of RFC model:\",metrics.accuracy_score(test_y, y_pred))"
      ],
      "execution_count": null,
      "outputs": [
        {
          "output_type": "stream",
          "text": [
            "Accuracy of RFC model: 0.7822295636140135\n"
          ],
          "name": "stdout"
        }
      ]
    },
    {
      "cell_type": "markdown",
      "metadata": {
        "id": "NUGd_Z8L1cQf"
      },
      "source": [
        "**Trying randomized SearchCV with RFC**"
      ]
    },
    {
      "cell_type": "code",
      "metadata": {
        "id": "O3g-DaN_1je2"
      },
      "source": [
        "from sklearn.model_selection import RandomizedSearchCV\n",
        "random_grid = {#'bootstrap': [True, False],\n",
        "#  'max_depth': [10, 20, 30, 40, 50, 60, 70, 80, 90, 100, None],\n",
        "#  'min_samples_leaf': [1, 2, 4],\n",
        "#  'min_samples_split': [2, 5, 10],\n",
        " 'n_estimators': [100, 400, 600]}"
      ],
      "execution_count": null,
      "outputs": []
    },
    {
      "cell_type": "code",
      "metadata": {
        "id": "mg3DcL8d1vIy",
        "colab": {
          "base_uri": "https://localhost:8080/"
        },
        "outputId": "fd020641-d991-47c8-ca4a-22d8fa7ab2b3"
      },
      "source": [
        "rf_random = RandomizedSearchCV(estimator = RF_Cl, param_distributions = random_grid,random_state=42)\n",
        "# Fit the random search model\n",
        "rf_random.fit(scaled_df,train_y)"
      ],
      "execution_count": null,
      "outputs": [
        {
          "output_type": "execute_result",
          "data": {
            "text/plain": [
              "RandomizedSearchCV(cv=None, error_score=nan,\n",
              "                   estimator=RandomForestClassifier(bootstrap=True,\n",
              "                                                    ccp_alpha=0.0,\n",
              "                                                    class_weight=None,\n",
              "                                                    criterion='gini',\n",
              "                                                    max_depth=None,\n",
              "                                                    max_features='auto',\n",
              "                                                    max_leaf_nodes=None,\n",
              "                                                    max_samples=None,\n",
              "                                                    min_impurity_decrease=0.0,\n",
              "                                                    min_impurity_split=None,\n",
              "                                                    min_samples_leaf=1,\n",
              "                                                    min_samples_split=2,\n",
              "                                                    min_weight_fraction_leaf=0.0,\n",
              "                                                    n_estimators=200,\n",
              "                                                    n_jobs=None,\n",
              "                                                    oob_score=False,\n",
              "                                                    random_state=None,\n",
              "                                                    verbose=0,\n",
              "                                                    warm_start=False),\n",
              "                   iid='deprecated', n_iter=10, n_jobs=None,\n",
              "                   param_distributions={'n_estimators': [100, 400, 600]},\n",
              "                   pre_dispatch='2*n_jobs', random_state=42, refit=True,\n",
              "                   return_train_score=False, scoring=None, verbose=0)"
            ]
          },
          "metadata": {
            "tags": []
          },
          "execution_count": 16
        }
      ]
    },
    {
      "cell_type": "code",
      "metadata": {
        "id": "QbULCEjJ3ErF",
        "colab": {
          "base_uri": "https://localhost:8080/"
        },
        "outputId": "8802cff4-be90-4584-9a25-3de71272d0ce"
      },
      "source": [
        "best_random = rf_random.best_estimator_\n",
        "y_pred = best_random.predict(scaled_test_df) #predicting on the test set\n",
        "random_accuracy = metrics.accuracy_score(test_y, y_pred)\n",
        "print(\"Accuracy for best param model with RFC is :\",random_accuracy)"
      ],
      "execution_count": null,
      "outputs": [
        {
          "output_type": "stream",
          "text": [
            "Accuracy for best param model with RFC is : 0.7825752919483713\n"
          ],
          "name": "stdout"
        }
      ]
    },
    {
      "cell_type": "markdown",
      "metadata": {
        "id": "IfZz9Yzuq0Ch"
      },
      "source": [
        "# XGB"
      ]
    },
    {
      "cell_type": "code",
      "metadata": {
        "id": "mFO7pLJpq0s-"
      },
      "source": [
        "# data_dmatrix = xgb.DMatrix(data=KNN_imputed_trainX,label=train_y)\n",
        "# data_test = xgb.DMatrix(data=KNN_imputed_testX_df,label=test_y)"
      ],
      "execution_count": null,
      "outputs": []
    },
    {
      "cell_type": "code",
      "metadata": {
        "id": "0QnCNtUnraxy"
      },
      "source": [
        "xg_cl = xgb.XGBClassifier(learning_rate = 0.1,max_depth = 5, alpha = 10, n_estimators = 100)\n",
        "xg_cl.fit(scaled_df,train_y)\n",
        "preds = xg_cl.predict(scaled_test_df)"
      ],
      "execution_count": null,
      "outputs": []
    },
    {
      "cell_type": "code",
      "metadata": {
        "id": "y_aNK7kr0VjV",
        "colab": {
          "base_uri": "https://localhost:8080/"
        },
        "outputId": "515b8b5c-8d59-49dc-b667-0133cda7c85e"
      },
      "source": [
        "from sklearn import metrics\n",
        "print(\"Accuracy of RFC model:\",metrics.accuracy_score(test_y, preds))"
      ],
      "execution_count": null,
      "outputs": [
        {
          "output_type": "stream",
          "text": [
            "Accuracy of RFC model: 0.7831515058389674\n"
          ],
          "name": "stdout"
        }
      ]
    },
    {
      "cell_type": "markdown",
      "metadata": {
        "id": "_JaYxeHYKGup"
      },
      "source": [
        "# Light GBM"
      ]
    },
    {
      "cell_type": "code",
      "metadata": {
        "colab": {
          "base_uri": "https://localhost:8080/"
        },
        "id": "m9Cf3iL6KFUa",
        "outputId": "f304838d-f5e6-411b-ac2d-c6c8d99444bc"
      },
      "source": [
        "import lightgbm as lgb\n",
        "clf = lgb.LGBMClassifier(n_estimators=100)\n",
        "%time clf.fit(KNN_imputed_trainX, train_y)"
      ],
      "execution_count": 58,
      "outputs": [
        {
          "output_type": "stream",
          "text": [
            "CPU times: user 9.82 s, sys: 170 ms, total: 9.99 s\n",
            "Wall time: 5.34 s\n"
          ],
          "name": "stdout"
        },
        {
          "output_type": "execute_result",
          "data": {
            "text/plain": [
              "LGBMClassifier(boosting_type='gbdt', class_weight=None, colsample_bytree=1.0,\n",
              "               importance_type='split', learning_rate=0.1, max_depth=-1,\n",
              "               min_child_samples=20, min_child_weight=0.001, min_split_gain=0.0,\n",
              "               n_estimators=100, n_jobs=-1, num_leaves=31, objective=None,\n",
              "               random_state=None, reg_alpha=0.0, reg_lambda=0.0, silent=True,\n",
              "               subsample=1.0, subsample_for_bin=200000, subsample_freq=0)"
            ]
          },
          "metadata": {
            "tags": []
          },
          "execution_count": 58
        }
      ]
    },
    {
      "cell_type": "code",
      "metadata": {
        "id": "7rCIb3LAL88Q"
      },
      "source": [
        "# predict the results\n",
        "lgb_y_pred=clf.predict(KNN_imputed_testX)"
      ],
      "execution_count": 59,
      "outputs": []
    },
    {
      "cell_type": "code",
      "metadata": {
        "colab": {
          "base_uri": "https://localhost:8080/"
        },
        "id": "Jb1B0R9FMJba",
        "outputId": "b5d40441-8bb8-4478-f315-d060cb2f232f"
      },
      "source": [
        "lgb_accuracy=accuracy_score(lgb_y_pred, test_y)\n",
        "print('LightGBM Model accuracy score: {0:0.4f}'.format(lgb_accuracy))"
      ],
      "execution_count": 60,
      "outputs": [
        {
          "output_type": "stream",
          "text": [
            "LightGBM Model accuracy score: 0.7830\n"
          ],
          "name": "stdout"
        }
      ]
    },
    {
      "cell_type": "markdown",
      "metadata": {
        "id": "Y-UvWK9IbscF"
      },
      "source": [
        "# Keras Classifier"
      ]
    },
    {
      "cell_type": "code",
      "metadata": {
        "id": "Xsrw0CfYMUJP"
      },
      "source": [
        "# Import `Sequential` from `keras.models`\n",
        "from keras.models import Sequential\n",
        "\n",
        "# Import `Dense` from `keras.layers`\n",
        "from keras.layers import Dense\n",
        "\n",
        "# Initialize the constructor\n",
        "nn_model = Sequential()\n",
        "\n",
        "# Add an input layer \n",
        "nn_model.add(Dense(90, activation='relu', input_dim=90))\n",
        "\n",
        "# Add two hidden layers \n",
        "nn_model.add(Dense(50, activation='relu'))\n",
        "nn_model.add(Dense(20, activation='relu'))\n",
        "\n",
        "# Add an output layer \n",
        "nn_model.add(Dense(1, activation='sigmoid'))"
      ],
      "execution_count": 46,
      "outputs": []
    },
    {
      "cell_type": "code",
      "metadata": {
        "colab": {
          "base_uri": "https://localhost:8080/"
        },
        "id": "Yj3u3RX1O-SQ",
        "outputId": "c153b2b5-b32e-45ed-9074-d98d856b4160"
      },
      "source": [
        "# Model output shape\n",
        "nn_model.output_shape\n",
        "\n",
        "# Model summary\n",
        "nn_model.summary()\n",
        "\n",
        "# Model config\n",
        "nn_model.get_config()\n",
        "\n",
        "# List all weight tensors \n",
        "nn_model.get_weights()"
      ],
      "execution_count": 47,
      "outputs": [
        {
          "output_type": "stream",
          "text": [
            "Model: \"sequential_7\"\n",
            "_________________________________________________________________\n",
            "Layer (type)                 Output Shape              Param #   \n",
            "=================================================================\n",
            "dense_22 (Dense)             (None, 90)                8190      \n",
            "_________________________________________________________________\n",
            "dense_23 (Dense)             (None, 50)                4550      \n",
            "_________________________________________________________________\n",
            "dense_24 (Dense)             (None, 20)                1020      \n",
            "_________________________________________________________________\n",
            "dense_25 (Dense)             (None, 1)                 21        \n",
            "=================================================================\n",
            "Total params: 13,781\n",
            "Trainable params: 13,781\n",
            "Non-trainable params: 0\n",
            "_________________________________________________________________\n"
          ],
          "name": "stdout"
        },
        {
          "output_type": "execute_result",
          "data": {
            "text/plain": [
              "[array([[-0.16577545, -0.10326707, -0.12477954, ..., -0.16795342,\n",
              "          0.07240164,  0.16572744],\n",
              "        [ 0.13111272, -0.15434593, -0.1049752 , ...,  0.15324742,\n",
              "         -0.07856772, -0.16017486],\n",
              "        [-0.07298076,  0.09074247,  0.162575  , ..., -0.02535403,\n",
              "         -0.1017604 , -0.1290938 ],\n",
              "        ...,\n",
              "        [ 0.17068413, -0.00602473,  0.16964892, ..., -0.00466602,\n",
              "         -0.04568325, -0.13627025],\n",
              "        [-0.15931968,  0.15522313,  0.01370117, ..., -0.1657841 ,\n",
              "         -0.13956293,  0.0041209 ],\n",
              "        [ 0.05842119,  0.14424887,  0.13643235, ...,  0.13434526,\n",
              "         -0.00870986, -0.14177033]], dtype=float32),\n",
              " array([0., 0., 0., 0., 0., 0., 0., 0., 0., 0., 0., 0., 0., 0., 0., 0., 0.,\n",
              "        0., 0., 0., 0., 0., 0., 0., 0., 0., 0., 0., 0., 0., 0., 0., 0., 0.,\n",
              "        0., 0., 0., 0., 0., 0., 0., 0., 0., 0., 0., 0., 0., 0., 0., 0., 0.,\n",
              "        0., 0., 0., 0., 0., 0., 0., 0., 0., 0., 0., 0., 0., 0., 0., 0., 0.,\n",
              "        0., 0., 0., 0., 0., 0., 0., 0., 0., 0., 0., 0., 0., 0., 0., 0., 0.,\n",
              "        0., 0., 0., 0., 0.], dtype=float32),\n",
              " array([[ 0.12436326, -0.01179087, -0.1959538 , ...,  0.19112118,\n",
              "          0.12003265, -0.06278406],\n",
              "        [-0.18540263,  0.10841991, -0.13032448, ...,  0.17998879,\n",
              "          0.04496498, -0.01431708],\n",
              "        [ 0.0079411 , -0.20030244,  0.15404959, ...,  0.00752655,\n",
              "          0.15733175, -0.17003883],\n",
              "        ...,\n",
              "        [-0.19550328,  0.18143667,  0.14893033, ...,  0.19569667,\n",
              "          0.11539464,  0.11036916],\n",
              "        [-0.09834716, -0.06769654, -0.17255853, ..., -0.16721082,\n",
              "         -0.14337027,  0.11790262],\n",
              "        [-0.18866876,  0.12129058,  0.12726356, ..., -0.11181934,\n",
              "         -0.13247558,  0.1478612 ]], dtype=float32),\n",
              " array([0., 0., 0., 0., 0., 0., 0., 0., 0., 0., 0., 0., 0., 0., 0., 0., 0.,\n",
              "        0., 0., 0., 0., 0., 0., 0., 0., 0., 0., 0., 0., 0., 0., 0., 0., 0.,\n",
              "        0., 0., 0., 0., 0., 0., 0., 0., 0., 0., 0., 0., 0., 0., 0., 0.],\n",
              "       dtype=float32),\n",
              " array([[-0.13109158, -0.24434838,  0.28245932,  0.03865206, -0.2746143 ,\n",
              "         -0.12903696,  0.01093146, -0.19618511,  0.02989247,  0.27459085,\n",
              "         -0.27510068,  0.00987521,  0.1603536 , -0.14333048,  0.19457194,\n",
              "          0.08241871,  0.07684419,  0.11899444, -0.11134318,  0.2616909 ],\n",
              "        [-0.29233962,  0.27784222,  0.24662292, -0.03598437,  0.29272407,\n",
              "         -0.28385904, -0.12173764, -0.26230273,  0.18043023, -0.0177134 ,\n",
              "          0.2890821 , -0.2762358 , -0.20262998, -0.20720634,  0.06612304,\n",
              "         -0.08685432, -0.03946784, -0.19857611,  0.23694456, -0.170666  ],\n",
              "        [-0.07963766,  0.16564104, -0.06361507, -0.22435015, -0.23626567,\n",
              "         -0.09991425,  0.04571816,  0.09566897, -0.22869784, -0.14631738,\n",
              "         -0.26488343,  0.14146614, -0.20635706,  0.2896036 ,  0.19797575,\n",
              "          0.14656413, -0.09923257, -0.20740485, -0.1791169 ,  0.03303587],\n",
              "        [ 0.29130554, -0.10995831, -0.08729178, -0.2689912 ,  0.27849305,\n",
              "          0.2839527 ,  0.09442544,  0.2300778 , -0.10518652, -0.25902098,\n",
              "         -0.03623572,  0.08248305,  0.20820373, -0.06907427, -0.1874971 ,\n",
              "         -0.04315135, -0.06440963, -0.2429626 , -0.26137024, -0.18138197],\n",
              "        [ 0.11358878, -0.0334059 , -0.05311786,  0.10348147, -0.17712831,\n",
              "         -0.07280909, -0.22913884,  0.2573607 ,  0.28752846, -0.07693598,\n",
              "         -0.26556358,  0.23386776,  0.1046392 ,  0.13095498, -0.16763757,\n",
              "          0.25445914, -0.21030274,  0.06262583, -0.19427744, -0.10593905],\n",
              "        [ 0.1624175 ,  0.01110122, -0.20750934,  0.28646874, -0.04842082,\n",
              "          0.12593329,  0.07895941, -0.23575856, -0.2618863 ,  0.18585011,\n",
              "         -0.26953697,  0.22366923,  0.09473091, -0.2260356 ,  0.13183895,\n",
              "          0.02396679, -0.28766844,  0.0300619 , -0.12302513, -0.26948163],\n",
              "        [ 0.15585753,  0.2587157 , -0.11701116,  0.2921222 ,  0.24552548,\n",
              "          0.02404791,  0.05562332, -0.10503875, -0.08510244, -0.26272342,\n",
              "          0.14752397, -0.08039054,  0.21348202, -0.23497245, -0.26345214,\n",
              "          0.20106274,  0.20697054,  0.20046908, -0.123978  , -0.27889714],\n",
              "        [-0.19761808,  0.06711215,  0.16446298,  0.04808402, -0.2748808 ,\n",
              "          0.29117423, -0.16232406, -0.24410874,  0.26100016,  0.20249715,\n",
              "          0.07051164,  0.11152697,  0.00064412, -0.15891549, -0.04776071,\n",
              "         -0.06569719, -0.07964261,  0.18055621, -0.09869984, -0.15261957],\n",
              "        [-0.1331901 ,  0.11806515,  0.08266321,  0.11267871, -0.13577981,\n",
              "          0.27065825,  0.07402754,  0.26453215,  0.02636442,  0.23008794,\n",
              "         -0.11420107, -0.0480931 , -0.10324924,  0.16526425, -0.22885662,\n",
              "          0.03432533,  0.13608435, -0.13533749, -0.13497074,  0.18027031],\n",
              "        [-0.07228313, -0.14443573, -0.08614011, -0.05935618, -0.06404106,\n",
              "         -0.06600487,  0.11615029,  0.08712062,  0.09973884,  0.1155867 ,\n",
              "         -0.08145942,  0.08751857, -0.05361827, -0.13071352, -0.19511065,\n",
              "         -0.12631999,  0.09119532, -0.2142689 ,  0.1384711 , -0.273707  ],\n",
              "        [-0.06206833, -0.00942728, -0.21733332, -0.15816623,  0.14530212,\n",
              "         -0.16568822, -0.19141354,  0.00815305,  0.04043627, -0.20601629,\n",
              "         -0.05373965,  0.0132148 , -0.24321318,  0.27127832, -0.08047193,\n",
              "         -0.11745872, -0.09773196, -0.01201332,  0.1280506 ,  0.10760698],\n",
              "        [ 0.21695751, -0.21013062,  0.2811193 , -0.10064395, -0.16180396,\n",
              "          0.19080925, -0.11572778, -0.2789362 ,  0.16737002, -0.1730623 ,\n",
              "         -0.2504216 ,  0.01652607,  0.0560371 , -0.22006404,  0.27794975,\n",
              "         -0.13270903,  0.08203557, -0.06254543, -0.28726873, -0.15139043],\n",
              "        [-0.11409113,  0.13415846,  0.03282005,  0.07269874,  0.19609925,\n",
              "          0.20569122,  0.25196964, -0.1795778 ,  0.01641732,  0.1481635 ,\n",
              "          0.28240544,  0.10660028,  0.23530328, -0.15267897, -0.19836956,\n",
              "          0.00573087, -0.04644509,  0.06145462, -0.12438516,  0.1814253 ],\n",
              "        [-0.20017917,  0.26581436,  0.18826646, -0.27582976,  0.15421847,\n",
              "         -0.28542653,  0.0609515 , -0.2892333 ,  0.21855116, -0.12985782,\n",
              "          0.2386238 ,  0.24343878, -0.2823928 ,  0.28081894, -0.19826256,\n",
              "         -0.25142676,  0.19882399,  0.04934061, -0.09554005,  0.14984152],\n",
              "        [-0.2807032 , -0.19268589, -0.24255711, -0.16299477,  0.23993129,\n",
              "         -0.19360085,  0.18055224, -0.13892244, -0.07496972, -0.15772578,\n",
              "         -0.02765828,  0.28794575, -0.09622431,  0.04937842,  0.13738456,\n",
              "          0.00123256,  0.08113065,  0.00888786,  0.10481092,  0.29252636],\n",
              "        [-0.20184688,  0.20913345,  0.05009899,  0.01527795, -0.291138  ,\n",
              "          0.13932812, -0.11574551,  0.00759864, -0.18718341,  0.00627044,\n",
              "          0.01170444, -0.04987423, -0.1972015 , -0.11635683,  0.13307005,\n",
              "          0.19711313, -0.24875546,  0.03368217, -0.19589698,  0.01725432],\n",
              "        [-0.21755794,  0.00243405,  0.23618525, -0.20135032,  0.07975394,\n",
              "         -0.00384378,  0.2068088 ,  0.02417487, -0.07820092,  0.0090512 ,\n",
              "         -0.13357945,  0.27315646,  0.2802422 ,  0.07785758, -0.03882203,\n",
              "         -0.0768    , -0.19521216, -0.1802141 ,  0.21139836, -0.14738765],\n",
              "        [-0.20036744, -0.23699594,  0.02992186, -0.19803487,  0.07329008,\n",
              "          0.15432817,  0.26374364, -0.01895544,  0.10342848,  0.20692539,\n",
              "          0.28362006,  0.26154077, -0.13151632, -0.09578219, -0.06766616,\n",
              "          0.05621013,  0.17274028, -0.10760655, -0.06397462, -0.10561936],\n",
              "        [ 0.02446386,  0.20767426,  0.16712335,  0.04230806,  0.19161567,\n",
              "         -0.12126523,  0.15947801,  0.22805053,  0.21327609, -0.06091668,\n",
              "          0.01765239, -0.2417805 , -0.22475787,  0.03262907,  0.24136662,\n",
              "          0.19320032,  0.27006453,  0.11573258,  0.10549986,  0.20880258],\n",
              "        [-0.18261418, -0.08015279,  0.28099775,  0.15742409, -0.29135683,\n",
              "         -0.26019442,  0.24071258, -0.1514714 , -0.10217758,  0.05783826,\n",
              "         -0.09892732,  0.0033364 , -0.20637527,  0.25913978, -0.08412822,\n",
              "         -0.16068204,  0.22209239, -0.20534194, -0.22743496,  0.08459464],\n",
              "        [-0.00089774, -0.2895119 , -0.27497706,  0.2894389 ,  0.23821777,\n",
              "          0.15211561, -0.04948111, -0.01033178,  0.12926948,  0.21309882,\n",
              "          0.18385953,  0.16103768,  0.17172363, -0.254411  , -0.16960487,\n",
              "          0.04249913,  0.26471674, -0.1698533 , -0.22404534,  0.20393604],\n",
              "        [ 0.03778434,  0.03749251,  0.14456066,  0.0743984 ,  0.06246954,\n",
              "          0.16505992,  0.2500826 ,  0.08392572,  0.09022772,  0.25590593,\n",
              "          0.1474872 ,  0.13538116, -0.25400937, -0.01356891, -0.01098156,\n",
              "         -0.05422686,  0.23514694,  0.00114495,  0.2381888 , -0.05188467],\n",
              "        [ 0.19706023,  0.25590962,  0.2367732 , -0.07320283,  0.00749022,\n",
              "         -0.02101028,  0.23042554, -0.1604385 ,  0.11149201, -0.11704731,\n",
              "          0.22997129,  0.09745163,  0.17558578,  0.03546861,  0.03717673,\n",
              "          0.12904373,  0.11132804,  0.1105873 ,  0.17277807, -0.11004856],\n",
              "        [-0.09377609,  0.12153551,  0.1491831 ,  0.11362904,  0.16777962,\n",
              "         -0.280861  ,  0.08562449,  0.22918779,  0.20121092, -0.20935303,\n",
              "         -0.1351278 ,  0.10194346, -0.25158325,  0.28495735,  0.09256294,\n",
              "          0.07533213,  0.01352459,  0.00678864, -0.02969822, -0.20375505],\n",
              "        [ 0.16984457, -0.2096721 , -0.232555  , -0.27876833,  0.15983316,\n",
              "         -0.16572563, -0.12492758, -0.23121327,  0.00966254, -0.14242718,\n",
              "         -0.27350786,  0.10603943,  0.05683488, -0.06035665,  0.09646696,\n",
              "          0.15485999,  0.25791728,  0.2527644 , -0.19223629, -0.27211833],\n",
              "        [ 0.04803538, -0.1070075 ,  0.05586401, -0.06138106,  0.15722257,\n",
              "          0.04125106, -0.2755417 , -0.17383423, -0.19601682, -0.0533089 ,\n",
              "          0.02652615,  0.25269097, -0.24015656,  0.23846096,  0.02775341,\n",
              "          0.08272082,  0.01837674,  0.17405474,  0.06688192,  0.00739014],\n",
              "        [-0.12961303,  0.16387561,  0.16216183, -0.16401388,  0.2622794 ,\n",
              "          0.22978854,  0.09661415,  0.16231692, -0.02953064, -0.26574883,\n",
              "         -0.08157243, -0.0400247 ,  0.19569594, -0.28110301,  0.23743623,\n",
              "         -0.14239332,  0.21296448, -0.16743906, -0.17069197, -0.04578748],\n",
              "        [-0.0512152 ,  0.22240001,  0.09534061, -0.18655974, -0.06410913,\n",
              "          0.06877384,  0.0702655 ,  0.25479025,  0.21719545, -0.23979667,\n",
              "         -0.20386067, -0.28902578,  0.14962333,  0.0708175 ,  0.18666339,\n",
              "          0.25103527,  0.14728889, -0.03582221,  0.28986746, -0.12333067],\n",
              "        [ 0.21345025,  0.14395583, -0.10164079, -0.23207708, -0.18139914,\n",
              "         -0.21985896, -0.2037589 , -0.28764433, -0.24072851,  0.03853589,\n",
              "         -0.27663994, -0.07200456,  0.28300327,  0.21577889,  0.0165424 ,\n",
              "         -0.06288174,  0.13191763,  0.14168301, -0.20449823, -0.09447131],\n",
              "        [ 0.21425104, -0.09119579, -0.03591004,  0.18681464, -0.00688621,\n",
              "          0.11905223,  0.12760645,  0.02139816,  0.01900417,  0.27066803,\n",
              "         -0.19791865,  0.0144186 , -0.08551113,  0.05943114, -0.05338463,\n",
              "         -0.18687013, -0.23863356, -0.08099692, -0.16808808,  0.17613071],\n",
              "        [-0.19349915, -0.21101591, -0.10250822, -0.00296232,  0.0091159 ,\n",
              "         -0.22412294, -0.06301527,  0.27296543,  0.12182963, -0.21156734,\n",
              "          0.07777968,  0.21803045,  0.10309839,  0.0163725 ,  0.12571013,\n",
              "          0.28945798,  0.19189313, -0.01474243, -0.28546932,  0.24642044],\n",
              "        [-0.13665345, -0.2578477 , -0.11785981, -0.29266846,  0.24572027,\n",
              "          0.09976682, -0.04262015, -0.00691912,  0.1487346 ,  0.28216624,\n",
              "         -0.21647832, -0.11892261, -0.12199081,  0.17928916, -0.28373522,\n",
              "         -0.15166315,  0.03069583,  0.08395818,  0.18502891, -0.19947383],\n",
              "        [ 0.23247778, -0.09317893, -0.275854  , -0.05688743, -0.17107287,\n",
              "          0.14045027,  0.26063138,  0.27568233, -0.23119897, -0.09750448,\n",
              "          0.04405415, -0.21195173,  0.20720586,  0.07833424,  0.0478493 ,\n",
              "          0.20260835,  0.19546267, -0.2011652 ,  0.23587596, -0.28701627],\n",
              "        [ 0.16360867,  0.11892128, -0.23625624, -0.0844678 , -0.07823436,\n",
              "          0.05700615,  0.21393007, -0.27457306, -0.12254378, -0.02402675,\n",
              "         -0.23331682,  0.1655029 , -0.04928002,  0.21576273, -0.24609035,\n",
              "         -0.05219458,  0.19205475, -0.281707  ,  0.07022348,  0.01102233],\n",
              "        [-0.07576421, -0.01813418, -0.23533145,  0.19949245,  0.04430586,\n",
              "          0.23958099,  0.05466202, -0.0397633 ,  0.12116149,  0.01182604,\n",
              "          0.20913637,  0.27850902, -0.273398  ,  0.28790903, -0.09540358,\n",
              "          0.01973605, -0.01877132,  0.02051336,  0.23731345,  0.1341655 ],\n",
              "        [-0.16171712, -0.05943953, -0.01492482, -0.25386775,  0.00518656,\n",
              "          0.15303454,  0.18055606,  0.06361431,  0.20486596,  0.13527668,\n",
              "         -0.20509517, -0.06613261,  0.21220613, -0.17540365,  0.1195358 ,\n",
              "         -0.1609486 ,  0.1048077 ,  0.14666954, -0.0247694 , -0.28865612],\n",
              "        [-0.16187446, -0.05706257,  0.13095036, -0.01426643, -0.153432  ,\n",
              "          0.07832399, -0.02765512, -0.22397763, -0.09835599, -0.14642683,\n",
              "         -0.21819837,  0.25725996, -0.02008721, -0.18129088, -0.18545462,\n",
              "          0.12188199, -0.03042048,  0.26715422,  0.28867418,  0.2885568 ],\n",
              "        [-0.13111816, -0.15624969,  0.26446092, -0.27462918, -0.1166008 ,\n",
              "         -0.22828613, -0.02154279,  0.17948699, -0.28048763,  0.0784291 ,\n",
              "          0.24785477, -0.10804588, -0.09991983, -0.11104673, -0.25208843,\n",
              "          0.28752637,  0.22014189,  0.06328771, -0.28666586,  0.26711547],\n",
              "        [ 0.28307498,  0.21986258,  0.27023667,  0.12127534,  0.08826432,\n",
              "         -0.26744565,  0.2917866 ,  0.2899977 ,  0.22115219, -0.2377084 ,\n",
              "         -0.0644543 , -0.01999751, -0.02882326, -0.16925502,  0.15965065,\n",
              "         -0.00482351,  0.13887113, -0.24022713, -0.16456413, -0.28937125],\n",
              "        [-0.02494675, -0.00719315,  0.15156654,  0.07139036,  0.10919201,\n",
              "          0.12736729,  0.22839427, -0.02792534, -0.04022387, -0.14312074,\n",
              "         -0.23878929,  0.00411651, -0.17990573, -0.23341218, -0.11992769,\n",
              "         -0.25719887,  0.09723952, -0.09457776, -0.12532888, -0.27661774],\n",
              "        [-0.08236775, -0.06085594, -0.26529443, -0.21207893, -0.27404082,\n",
              "          0.08708411,  0.25733805,  0.28167665,  0.19273704, -0.20860517,\n",
              "          0.16571543, -0.18275309,  0.23257917,  0.11855099,  0.13988227,\n",
              "         -0.06723213, -0.12868124,  0.21045822,  0.16291031,  0.10180637],\n",
              "        [-0.23455685, -0.26508537,  0.02469176,  0.07662362, -0.26021942,\n",
              "         -0.10528828,  0.18267784,  0.02267051, -0.11642328,  0.28274179,\n",
              "          0.02584413, -0.03977725, -0.0858697 , -0.2272969 , -0.15481393,\n",
              "          0.17517918, -0.14788248,  0.1857658 ,  0.01692617,  0.12376168],\n",
              "        [ 0.21663898, -0.24422573,  0.1765759 , -0.08753887,  0.1907213 ,\n",
              "         -0.23996998, -0.04828869,  0.06327918, -0.08528797,  0.05212018,\n",
              "         -0.05678831,  0.25589097, -0.23717183,  0.06146845,  0.19939187,\n",
              "         -0.03810152, -0.0204742 , -0.04491028, -0.0790879 , -0.0623074 ],\n",
              "        [-0.2864189 , -0.2711293 ,  0.2633006 , -0.11308382, -0.17356542,\n",
              "         -0.04103166, -0.22993165, -0.0249624 , -0.19309631, -0.25459367,\n",
              "         -0.10493161,  0.0838587 ,  0.09937686, -0.08706234,  0.09719512,\n",
              "          0.01710778, -0.08286844, -0.07096618,  0.25194114, -0.11052622],\n",
              "        [-0.25905624,  0.19560087,  0.0693846 , -0.22828802,  0.2807703 ,\n",
              "          0.03923693, -0.26056236, -0.29102534,  0.09541517,  0.02828482,\n",
              "          0.23419607,  0.27103347, -0.18356523,  0.04473808,  0.07834744,\n",
              "         -0.02382037,  0.09684688, -0.12149774, -0.2797653 , -0.23992252],\n",
              "        [-0.02954963,  0.14943641, -0.03916788, -0.17711562, -0.10702552,\n",
              "          0.10729906,  0.28580588, -0.06167144,  0.04942387, -0.27278578,\n",
              "         -0.1782406 ,  0.0792661 ,  0.0434725 ,  0.00223443, -0.17204878,\n",
              "         -0.15042591,  0.1784674 ,  0.18829247,  0.08652604, -0.11644353],\n",
              "        [ 0.21233958, -0.00232622,  0.2342835 ,  0.05947122,  0.25440735,\n",
              "         -0.2684342 ,  0.26222104, -0.23313938,  0.05803889,  0.1477615 ,\n",
              "         -0.2139515 ,  0.02096894,  0.11413226, -0.26899874,  0.18411604,\n",
              "          0.20473772,  0.05727428,  0.14605856, -0.0566138 ,  0.2510457 ],\n",
              "        [ 0.1458925 , -0.20937745,  0.14146385, -0.23077562,  0.24285626,\n",
              "          0.09337911, -0.08895509, -0.21657047,  0.19831309, -0.14406298,\n",
              "          0.14244345, -0.22205743, -0.24711937, -0.16305718,  0.01821527,\n",
              "          0.25426984,  0.12821722,  0.10675174,  0.23018628,  0.20129195],\n",
              "        [ 0.26704568, -0.15931992, -0.11928341, -0.20582336,  0.19897273,\n",
              "          0.05743426, -0.11196929, -0.03976351, -0.2798588 ,  0.12562728,\n",
              "         -0.09024467, -0.20260787,  0.22421604, -0.28243944,  0.2052941 ,\n",
              "         -0.16606082, -0.13812062,  0.11961687, -0.22519894, -0.26497424],\n",
              "        [-0.08074799, -0.23769054, -0.20511612,  0.06138077, -0.09499468,\n",
              "          0.27871513, -0.28592086,  0.1839545 ,  0.18176776, -0.25436744,\n",
              "          0.01184767,  0.13238904, -0.09783512,  0.2448985 , -0.03176108,\n",
              "          0.25942177,  0.08120909, -0.18982415, -0.03347352, -0.19102138]],\n",
              "       dtype=float32),\n",
              " array([0., 0., 0., 0., 0., 0., 0., 0., 0., 0., 0., 0., 0., 0., 0., 0., 0.,\n",
              "        0., 0., 0.], dtype=float32),\n",
              " array([[ 0.20160323],\n",
              "        [-0.0025562 ],\n",
              "        [ 0.3169338 ],\n",
              "        [ 0.19629663],\n",
              "        [ 0.5113043 ],\n",
              "        [-0.17636332],\n",
              "        [-0.37012082],\n",
              "        [ 0.27848756],\n",
              "        [-0.19533074],\n",
              "        [-0.21215653],\n",
              "        [-0.12011763],\n",
              "        [-0.08304811],\n",
              "        [ 0.2859497 ],\n",
              "        [ 0.32480538],\n",
              "        [-0.3982104 ],\n",
              "        [ 0.33427215],\n",
              "        [ 0.15895516],\n",
              "        [ 0.1448409 ],\n",
              "        [ 0.12159455],\n",
              "        [-0.16820154]], dtype=float32),\n",
              " array([0.], dtype=float32)]"
            ]
          },
          "metadata": {
            "tags": []
          },
          "execution_count": 47
        }
      ]
    },
    {
      "cell_type": "code",
      "metadata": {
        "colab": {
          "base_uri": "https://localhost:8080/"
        },
        "id": "6-D6lNLYPAuM",
        "outputId": "39931758-3e1e-482c-f46c-dc11212746f4"
      },
      "source": [
        "nn_model.compile(loss='binary_crossentropy',\n",
        "              optimizer='adam',\n",
        "              metrics=['accuracy'])\n",
        "                   \n",
        "%time nn_model.fit(KNN_imputed_trainX_scaled, train_y, epochs=20, batch_size=1, verbose=1)"
      ],
      "execution_count": 48,
      "outputs": [
        {
          "output_type": "stream",
          "text": [
            "Epoch 1/20\n",
            "104125/104125 [==============================] - 135s 1ms/step - loss: 0.5280 - accuracy: 0.7835\n",
            "Epoch 2/20\n",
            "104125/104125 [==============================] - 136s 1ms/step - loss: 0.5174 - accuracy: 0.7854\n",
            "Epoch 3/20\n",
            "104125/104125 [==============================] - 135s 1ms/step - loss: 0.5179 - accuracy: 0.7851\n",
            "Epoch 4/20\n",
            "104125/104125 [==============================] - 135s 1ms/step - loss: 0.5192 - accuracy: 0.7832\n",
            "Epoch 5/20\n",
            "104125/104125 [==============================] - 135s 1ms/step - loss: 0.5181 - accuracy: 0.7840\n",
            "Epoch 6/20\n",
            "104125/104125 [==============================] - 135s 1ms/step - loss: 0.5201 - accuracy: 0.7832\n",
            "Epoch 7/20\n",
            "104125/104125 [==============================] - 135s 1ms/step - loss: 0.5148 - accuracy: 0.7868\n",
            "Epoch 8/20\n",
            "104125/104125 [==============================] - 135s 1ms/step - loss: 0.5183 - accuracy: 0.7842\n",
            "Epoch 9/20\n",
            "104125/104125 [==============================] - 136s 1ms/step - loss: 0.5207 - accuracy: 0.7826\n",
            "Epoch 10/20\n",
            "104125/104125 [==============================] - 135s 1ms/step - loss: 0.5156 - accuracy: 0.7866\n",
            "Epoch 11/20\n",
            "104125/104125 [==============================] - 135s 1ms/step - loss: 0.5168 - accuracy: 0.7853\n",
            "Epoch 12/20\n",
            "104125/104125 [==============================] - 135s 1ms/step - loss: 0.5188 - accuracy: 0.7840\n",
            "Epoch 13/20\n",
            "104125/104125 [==============================] - 135s 1ms/step - loss: 0.5191 - accuracy: 0.7840\n",
            "Epoch 14/20\n",
            "104125/104125 [==============================] - 135s 1ms/step - loss: 0.5218 - accuracy: 0.7821\n",
            "Epoch 15/20\n",
            "104125/104125 [==============================] - 136s 1ms/step - loss: 0.5212 - accuracy: 0.7825\n",
            "Epoch 16/20\n",
            "104125/104125 [==============================] - 136s 1ms/step - loss: 0.5196 - accuracy: 0.7842\n",
            "Epoch 17/20\n",
            "104125/104125 [==============================] - 137s 1ms/step - loss: 0.5200 - accuracy: 0.7839\n",
            "Epoch 18/20\n",
            "104125/104125 [==============================] - 135s 1ms/step - loss: 0.5185 - accuracy: 0.7846\n",
            "Epoch 19/20\n",
            "104125/104125 [==============================] - 135s 1ms/step - loss: 0.5174 - accuracy: 0.7852\n",
            "Epoch 20/20\n",
            "104125/104125 [==============================] - 136s 1ms/step - loss: 0.5171 - accuracy: 0.7858\n",
            "CPU times: user 50min 12s, sys: 5min 54s, total: 56min 7s\n",
            "Wall time: 45min 7s\n"
          ],
          "name": "stdout"
        },
        {
          "output_type": "execute_result",
          "data": {
            "text/plain": [
              "<tensorflow.python.keras.callbacks.History at 0x7f190a5e9a10>"
            ]
          },
          "metadata": {
            "tags": []
          },
          "execution_count": 48
        }
      ]
    },
    {
      "cell_type": "code",
      "metadata": {
        "colab": {
          "base_uri": "https://localhost:8080/"
        },
        "id": "X7LzBypMph8R",
        "outputId": "66f2b35e-bebe-47eb-f3ee-50a47fc6861c"
      },
      "source": [
        "%time nn_y_pred= nn_model.predict(KNN_imputed_testX_scaled_df)\n",
        "nn_scores = nn_model.evaluate(KNN_imputed_testX_scaled_df, test_y, verbose=0)\n",
        "print('Accuracy on test data: {}'.format(nn_scores[1]))    "
      ],
      "execution_count": 57,
      "outputs": [
        {
          "output_type": "stream",
          "text": [
            "CPU times: user 674 ms, sys: 75.3 ms, total: 749 ms\n",
            "Wall time: 622 ms\n",
            "Accuracy on test data: 0.7831898927688599\n"
          ],
          "name": "stdout"
        }
      ]
    },
    {
      "cell_type": "code",
      "metadata": {
        "id": "jqDtP9mrbWs1"
      },
      "source": [
        ""
      ],
      "execution_count": null,
      "outputs": []
    }
  ]
}