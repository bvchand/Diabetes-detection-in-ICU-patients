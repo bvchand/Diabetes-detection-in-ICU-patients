{
  "nbformat": 4,
  "nbformat_minor": 0,
  "metadata": {
    "colab": {
      "name": "diabetes_models.ipynb",
      "provenance": [],
      "include_colab_link": true
    },
    "kernelspec": {
      "name": "python3",
      "display_name": "Python 3"
    },
    "language_info": {
      "name": "python"
    },
    "accelerator": "TPU"
  },
  "cells": [
    {
      "cell_type": "markdown",
      "metadata": {
        "id": "view-in-github",
        "colab_type": "text"
      },
      "source": [
        "<a href=\"https://colab.research.google.com/github/bvchand/Diabetes-detection-in-ICU-patients/blob/main/diabetes_models_stratified.ipynb\" target=\"_parent\"><img src=\"https://colab.research.google.com/assets/colab-badge.svg\" alt=\"Open In Colab\"/></a>"
      ]
    },
    {
      "cell_type": "code",
      "metadata": {
        "id": "Qzv4fwuZWhGz",
        "outputId": "e7e7f265-c999-4d5d-97b6-81784e87dcad",
        "colab": {
          "base_uri": "https://localhost:8080/"
        }
      },
      "source": [
        "import sqlite3\n",
        "import pickle\n",
        "import pandas as pd\n",
        "import seaborn as sns\n",
        "import numpy as np\n",
        "import matplotlib.pyplot as plt\n",
        "from sklearn.ensemble import RandomForestClassifier\n",
        "from sklearn.model_selection import train_test_split, GridSearchCV , RandomizedSearchCV, RepeatedStratifiedKFold, cross_val_score\n",
        "from sklearn.preprocessing import LabelEncoder, LabelBinarizer, StandardScaler\n",
        "from fancyimpute import IterativeImputer\n",
        "from sklearn.impute import KNNImputer\n",
        "from sklearn.decomposition import PCA\n",
        "from xgboost.sklearn import XGBClassifier\n",
        "from sklearn.metrics import roc_auc_score, classification_report\n",
        "from sklearn.linear_model import LogisticRegression\n",
        "from sklearn.pipeline import Pipeline\n",
        "from matplotlib import pyplot\n",
        "from sklearn.svm import SVC\n",
        "from sklearn.pipeline import make_pipeline\n",
        "from sklearn.metrics import accuracy_score, confusion_matrix\n",
        "import lightgbm as lgb\n",
        "import xgboost as xgb\n",
        "from sklearn.model_selection import StratifiedKFold\n",
        "from statistics import mean, stdev\n",
        "import warnings\n",
        "warnings.filterwarnings(\"ignore\")"
      ],
      "execution_count": 1,
      "outputs": [
        {
          "output_type": "stream",
          "text": [
            "/usr/local/lib/python3.7/dist-packages/sklearn/externals/six.py:31: FutureWarning: The module is deprecated in version 0.21 and will be removed in version 0.23 since we've dropped support for Python 2.7. Please rely on the official version of six (https://pypi.org/project/six/).\n",
            "  \"(https://pypi.org/project/six/).\", FutureWarning)\n"
          ],
          "name": "stderr"
        }
      ]
    },
    {
      "cell_type": "code",
      "metadata": {
        "colab": {
          "base_uri": "https://localhost:8080/"
        },
        "id": "nCyuyKjTXUPd",
        "outputId": "c10bb76d-8068-49d2-b79c-2a5625751b5c"
      },
      "source": [
        "from google.colab import drive\n",
        "drive.mount('/content/drive', force_remount=True)"
      ],
      "execution_count": 2,
      "outputs": [
        {
          "output_type": "stream",
          "text": [
            "Mounted at /content/drive\n"
          ],
          "name": "stdout"
        }
      ]
    },
    {
      "cell_type": "code",
      "metadata": {
        "colab": {
          "base_uri": "https://localhost:8080/"
        },
        "id": "dI2iRXDFXV7N",
        "outputId": "9b54dce4-58db-4f11-aad0-938b75995bad"
      },
      "source": [
        "cd '/content/drive/Shareddrives/CMPE-255_Project/widsdatathon2021'"
      ],
      "execution_count": 3,
      "outputs": [
        {
          "output_type": "stream",
          "text": [
            "/content/drive/Shareddrives/CMPE-255_Project/widsdatathon2021\n"
          ],
          "name": "stdout"
        }
      ]
    },
    {
      "cell_type": "code",
      "metadata": {
        "id": "iLyBD0lZW3N_"
      },
      "source": [
        "#Load all pickled data\n",
        "KNN_imputed_trainX = pickle.load(open(\"KNN_imputed_trainX.pkl\", \"rb\"))\n",
        "KNN_imputed_testX_df = pickle.load(open(\"KNN_imputed_testX_df.pkl\", \"rb\"))\n",
        "train_y = pickle.load(open(\"diabetes_train_y.pkl\", \"rb\"))\n",
        "test_y = pickle.load(open(\"diabetes_test_y.pkl\", \"rb\"))\n",
        "\n",
        "pca_95per_train = pickle.load(open(\"pca_95per_train.pkl\", \"rb\"))\n",
        "pca_97per_train = pickle.load(open(\"pca_97per_train.pkl\", \"rb\"))\n",
        "pca_99per_train = pickle.load(open(\"pca_99per_train.pkl\", \"rb\"))\n",
        "\n",
        "pca_95per_test = pickle.load(open(\"pca_95per_test.pkl\", \"rb\"))\n",
        "pca_97per_test = pickle.load(open(\"pca_97per_test.pkl\", \"rb\"))\n",
        "pca_99per_test = pickle.load(open(\"pca_99per_test.pkl\", \"rb\"))"
      ],
      "execution_count": 4,
      "outputs": []
    },
    {
      "cell_type": "code",
      "metadata": {
        "colab": {
          "base_uri": "https://localhost:8080/"
        },
        "id": "UL1OOBsMak87",
        "outputId": "25b6dcaa-2ba2-4523-c650-aea2b9091df8"
      },
      "source": [
        "train_y[[5903, 68265]]"
      ],
      "execution_count": 5,
      "outputs": [
        {
          "output_type": "execute_result",
          "data": {
            "text/plain": [
              "5903     0\n",
              "68265    0\n",
              "Name: diabetes_mellitus, dtype: int64"
            ]
          },
          "metadata": {
            "tags": []
          },
          "execution_count": 5
        }
      ]
    },
    {
      "cell_type": "code",
      "metadata": {
        "colab": {
          "base_uri": "https://localhost:8080/",
          "height": 435
        },
        "id": "3fxFG-_EbiEw",
        "outputId": "e7cc8540-2d71-4d9d-9207-2f74967f16ef"
      },
      "source": [
        "KNN_imputed_trainX.index = np.arange(104125)\n",
        "train_y.index = np.arange(104125)\n",
        "KNN_imputed_trainX"
      ],
      "execution_count": 6,
      "outputs": [
        {
          "output_type": "execute_result",
          "data": {
            "text/html": [
              "<div>\n",
              "<style scoped>\n",
              "    .dataframe tbody tr th:only-of-type {\n",
              "        vertical-align: middle;\n",
              "    }\n",
              "\n",
              "    .dataframe tbody tr th {\n",
              "        vertical-align: top;\n",
              "    }\n",
              "\n",
              "    .dataframe thead th {\n",
              "        text-align: right;\n",
              "    }\n",
              "</style>\n",
              "<table border=\"1\" class=\"dataframe\">\n",
              "  <thead>\n",
              "    <tr style=\"text-align: right;\">\n",
              "      <th></th>\n",
              "      <th>bmi</th>\n",
              "      <th>ethnicity</th>\n",
              "      <th>gender</th>\n",
              "      <th>height</th>\n",
              "      <th>hospital_admit_source</th>\n",
              "      <th>icu_admit_source</th>\n",
              "      <th>pre_icu_los_days</th>\n",
              "      <th>weight</th>\n",
              "      <th>apache_3j_diagnosis</th>\n",
              "      <th>apache_post_operative</th>\n",
              "      <th>arf_apache</th>\n",
              "      <th>bun_apache</th>\n",
              "      <th>creatinine_apache</th>\n",
              "      <th>gcs_eyes_apache</th>\n",
              "      <th>gcs_motor_apache</th>\n",
              "      <th>gcs_unable_apache</th>\n",
              "      <th>gcs_verbal_apache</th>\n",
              "      <th>glucose_apache</th>\n",
              "      <th>heart_rate_apache</th>\n",
              "      <th>hematocrit_apache</th>\n",
              "      <th>intubated_apache</th>\n",
              "      <th>map_apache</th>\n",
              "      <th>resprate_apache</th>\n",
              "      <th>sodium_apache</th>\n",
              "      <th>temp_apache</th>\n",
              "      <th>ventilated_apache</th>\n",
              "      <th>wbc_apache</th>\n",
              "      <th>d1_diasbp_max</th>\n",
              "      <th>d1_diasbp_min</th>\n",
              "      <th>d1_diasbp_noninvasive_max</th>\n",
              "      <th>d1_diasbp_noninvasive_min</th>\n",
              "      <th>d1_heartrate_max</th>\n",
              "      <th>d1_heartrate_min</th>\n",
              "      <th>d1_mbp_max</th>\n",
              "      <th>d1_mbp_min</th>\n",
              "      <th>d1_mbp_noninvasive_max</th>\n",
              "      <th>d1_mbp_noninvasive_min</th>\n",
              "      <th>d1_resprate_max</th>\n",
              "      <th>d1_resprate_min</th>\n",
              "      <th>d1_spo2_max</th>\n",
              "      <th>...</th>\n",
              "      <th>h1_diasbp_noninvasive_min</th>\n",
              "      <th>h1_heartrate_max</th>\n",
              "      <th>h1_heartrate_min</th>\n",
              "      <th>h1_mbp_max</th>\n",
              "      <th>h1_mbp_min</th>\n",
              "      <th>h1_mbp_noninvasive_max</th>\n",
              "      <th>h1_mbp_noninvasive_min</th>\n",
              "      <th>h1_resprate_max</th>\n",
              "      <th>h1_resprate_min</th>\n",
              "      <th>h1_spo2_max</th>\n",
              "      <th>h1_spo2_min</th>\n",
              "      <th>h1_sysbp_max</th>\n",
              "      <th>h1_sysbp_min</th>\n",
              "      <th>h1_sysbp_noninvasive_max</th>\n",
              "      <th>h1_sysbp_noninvasive_min</th>\n",
              "      <th>h1_temp_max</th>\n",
              "      <th>h1_temp_min</th>\n",
              "      <th>d1_bun_max</th>\n",
              "      <th>d1_bun_min</th>\n",
              "      <th>d1_calcium_max</th>\n",
              "      <th>d1_calcium_min</th>\n",
              "      <th>d1_creatinine_max</th>\n",
              "      <th>d1_creatinine_min</th>\n",
              "      <th>d1_glucose_max</th>\n",
              "      <th>d1_glucose_min</th>\n",
              "      <th>d1_hco3_max</th>\n",
              "      <th>d1_hco3_min</th>\n",
              "      <th>d1_hemaglobin_max</th>\n",
              "      <th>d1_hemaglobin_min</th>\n",
              "      <th>d1_hematocrit_max</th>\n",
              "      <th>d1_hematocrit_min</th>\n",
              "      <th>d1_platelets_max</th>\n",
              "      <th>d1_platelets_min</th>\n",
              "      <th>d1_potassium_max</th>\n",
              "      <th>d1_potassium_min</th>\n",
              "      <th>d1_sodium_max</th>\n",
              "      <th>d1_sodium_min</th>\n",
              "      <th>d1_wbc_max</th>\n",
              "      <th>d1_wbc_min</th>\n",
              "      <th>age</th>\n",
              "    </tr>\n",
              "  </thead>\n",
              "  <tbody>\n",
              "    <tr>\n",
              "      <th>0</th>\n",
              "      <td>28.734672</td>\n",
              "      <td>0.0</td>\n",
              "      <td>1.0</td>\n",
              "      <td>173.00</td>\n",
              "      <td>3.0</td>\n",
              "      <td>0.0</td>\n",
              "      <td>0.072917</td>\n",
              "      <td>86.00</td>\n",
              "      <td>403.0</td>\n",
              "      <td>0.0</td>\n",
              "      <td>0.0</td>\n",
              "      <td>18.333333</td>\n",
              "      <td>0.927000</td>\n",
              "      <td>4.000000</td>\n",
              "      <td>6.0</td>\n",
              "      <td>0.0</td>\n",
              "      <td>5.0</td>\n",
              "      <td>151.483333</td>\n",
              "      <td>55.0</td>\n",
              "      <td>36.133333</td>\n",
              "      <td>0.0</td>\n",
              "      <td>140.0</td>\n",
              "      <td>8.0</td>\n",
              "      <td>137.333333</td>\n",
              "      <td>36.6</td>\n",
              "      <td>0.0</td>\n",
              "      <td>9.123000</td>\n",
              "      <td>119.0</td>\n",
              "      <td>56.0</td>\n",
              "      <td>119.0</td>\n",
              "      <td>56.0</td>\n",
              "      <td>83.0</td>\n",
              "      <td>56.0</td>\n",
              "      <td>140.0</td>\n",
              "      <td>80.0</td>\n",
              "      <td>140.0</td>\n",
              "      <td>80.0</td>\n",
              "      <td>22.0</td>\n",
              "      <td>8.0</td>\n",
              "      <td>99.0</td>\n",
              "      <td>...</td>\n",
              "      <td>80.000000</td>\n",
              "      <td>75.000000</td>\n",
              "      <td>64.0</td>\n",
              "      <td>124.000000</td>\n",
              "      <td>96.000000</td>\n",
              "      <td>124.000000</td>\n",
              "      <td>96.000000</td>\n",
              "      <td>18.000000</td>\n",
              "      <td>14.000000</td>\n",
              "      <td>98.0</td>\n",
              "      <td>96.000000</td>\n",
              "      <td>173.000000</td>\n",
              "      <td>140.000000</td>\n",
              "      <td>173.000000</td>\n",
              "      <td>140.000000</td>\n",
              "      <td>36.800000</td>\n",
              "      <td>36.800000</td>\n",
              "      <td>19.866667</td>\n",
              "      <td>18.466667</td>\n",
              "      <td>8.653333</td>\n",
              "      <td>8.550000</td>\n",
              "      <td>1.104667</td>\n",
              "      <td>1.064333</td>\n",
              "      <td>168.166667</td>\n",
              "      <td>115.9</td>\n",
              "      <td>25.766667</td>\n",
              "      <td>24.033333</td>\n",
              "      <td>12.293333</td>\n",
              "      <td>12.146667</td>\n",
              "      <td>36.803333</td>\n",
              "      <td>36.416667</td>\n",
              "      <td>213.466667</td>\n",
              "      <td>210.000000</td>\n",
              "      <td>4.073333</td>\n",
              "      <td>3.756667</td>\n",
              "      <td>137.933333</td>\n",
              "      <td>137.333333</td>\n",
              "      <td>9.983000</td>\n",
              "      <td>9.591333</td>\n",
              "      <td>60.000000</td>\n",
              "    </tr>\n",
              "    <tr>\n",
              "      <th>1</th>\n",
              "      <td>30.295175</td>\n",
              "      <td>5.0</td>\n",
              "      <td>1.0</td>\n",
              "      <td>167.70</td>\n",
              "      <td>8.0</td>\n",
              "      <td>2.0</td>\n",
              "      <td>3.738889</td>\n",
              "      <td>85.20</td>\n",
              "      <td>1207.0</td>\n",
              "      <td>1.0</td>\n",
              "      <td>0.0</td>\n",
              "      <td>15.000000</td>\n",
              "      <td>0.960000</td>\n",
              "      <td>3.866667</td>\n",
              "      <td>5.9</td>\n",
              "      <td>1.0</td>\n",
              "      <td>4.3</td>\n",
              "      <td>124.000000</td>\n",
              "      <td>102.0</td>\n",
              "      <td>31.500000</td>\n",
              "      <td>0.0</td>\n",
              "      <td>160.0</td>\n",
              "      <td>36.0</td>\n",
              "      <td>137.000000</td>\n",
              "      <td>36.6</td>\n",
              "      <td>1.0</td>\n",
              "      <td>9.800000</td>\n",
              "      <td>100.0</td>\n",
              "      <td>36.0</td>\n",
              "      <td>100.0</td>\n",
              "      <td>36.0</td>\n",
              "      <td>102.0</td>\n",
              "      <td>72.0</td>\n",
              "      <td>114.0</td>\n",
              "      <td>59.0</td>\n",
              "      <td>114.0</td>\n",
              "      <td>59.0</td>\n",
              "      <td>28.0</td>\n",
              "      <td>0.0</td>\n",
              "      <td>100.0</td>\n",
              "      <td>...</td>\n",
              "      <td>49.000000</td>\n",
              "      <td>98.000000</td>\n",
              "      <td>84.0</td>\n",
              "      <td>102.000000</td>\n",
              "      <td>71.000000</td>\n",
              "      <td>102.000000</td>\n",
              "      <td>71.000000</td>\n",
              "      <td>23.000000</td>\n",
              "      <td>14.000000</td>\n",
              "      <td>100.0</td>\n",
              "      <td>95.000000</td>\n",
              "      <td>158.000000</td>\n",
              "      <td>108.000000</td>\n",
              "      <td>158.000000</td>\n",
              "      <td>108.000000</td>\n",
              "      <td>36.600000</td>\n",
              "      <td>36.600000</td>\n",
              "      <td>15.000000</td>\n",
              "      <td>15.000000</td>\n",
              "      <td>8.300000</td>\n",
              "      <td>8.300000</td>\n",
              "      <td>0.960000</td>\n",
              "      <td>0.960000</td>\n",
              "      <td>124.000000</td>\n",
              "      <td>124.0</td>\n",
              "      <td>21.000000</td>\n",
              "      <td>21.000000</td>\n",
              "      <td>10.800000</td>\n",
              "      <td>10.800000</td>\n",
              "      <td>31.500000</td>\n",
              "      <td>31.500000</td>\n",
              "      <td>123.000000</td>\n",
              "      <td>123.000000</td>\n",
              "      <td>4.400000</td>\n",
              "      <td>4.400000</td>\n",
              "      <td>137.000000</td>\n",
              "      <td>137.000000</td>\n",
              "      <td>9.800000</td>\n",
              "      <td>9.800000</td>\n",
              "      <td>73.000000</td>\n",
              "    </tr>\n",
              "    <tr>\n",
              "      <th>2</th>\n",
              "      <td>44.123628</td>\n",
              "      <td>2.0</td>\n",
              "      <td>1.0</td>\n",
              "      <td>172.70</td>\n",
              "      <td>3.0</td>\n",
              "      <td>0.0</td>\n",
              "      <td>0.109722</td>\n",
              "      <td>131.60</td>\n",
              "      <td>301.0</td>\n",
              "      <td>0.0</td>\n",
              "      <td>0.0</td>\n",
              "      <td>10.000000</td>\n",
              "      <td>1.100000</td>\n",
              "      <td>1.000000</td>\n",
              "      <td>4.0</td>\n",
              "      <td>0.0</td>\n",
              "      <td>2.0</td>\n",
              "      <td>140.000000</td>\n",
              "      <td>109.0</td>\n",
              "      <td>38.600000</td>\n",
              "      <td>0.0</td>\n",
              "      <td>47.0</td>\n",
              "      <td>48.0</td>\n",
              "      <td>136.000000</td>\n",
              "      <td>36.3</td>\n",
              "      <td>0.0</td>\n",
              "      <td>8.600000</td>\n",
              "      <td>74.0</td>\n",
              "      <td>26.0</td>\n",
              "      <td>74.0</td>\n",
              "      <td>26.0</td>\n",
              "      <td>100.0</td>\n",
              "      <td>60.0</td>\n",
              "      <td>108.0</td>\n",
              "      <td>60.0</td>\n",
              "      <td>108.0</td>\n",
              "      <td>60.0</td>\n",
              "      <td>48.0</td>\n",
              "      <td>14.0</td>\n",
              "      <td>99.0</td>\n",
              "      <td>...</td>\n",
              "      <td>70.000000</td>\n",
              "      <td>76.000000</td>\n",
              "      <td>76.0</td>\n",
              "      <td>106.000000</td>\n",
              "      <td>106.000000</td>\n",
              "      <td>106.000000</td>\n",
              "      <td>106.000000</td>\n",
              "      <td>20.000000</td>\n",
              "      <td>18.000000</td>\n",
              "      <td>96.0</td>\n",
              "      <td>96.000000</td>\n",
              "      <td>161.000000</td>\n",
              "      <td>154.000000</td>\n",
              "      <td>161.000000</td>\n",
              "      <td>154.000000</td>\n",
              "      <td>36.300000</td>\n",
              "      <td>36.300000</td>\n",
              "      <td>10.000000</td>\n",
              "      <td>10.000000</td>\n",
              "      <td>8.400000</td>\n",
              "      <td>8.400000</td>\n",
              "      <td>1.100000</td>\n",
              "      <td>1.100000</td>\n",
              "      <td>140.000000</td>\n",
              "      <td>140.0</td>\n",
              "      <td>27.000000</td>\n",
              "      <td>27.000000</td>\n",
              "      <td>13.700000</td>\n",
              "      <td>13.700000</td>\n",
              "      <td>38.600000</td>\n",
              "      <td>38.600000</td>\n",
              "      <td>122.000000</td>\n",
              "      <td>122.000000</td>\n",
              "      <td>3.900000</td>\n",
              "      <td>3.900000</td>\n",
              "      <td>136.000000</td>\n",
              "      <td>136.000000</td>\n",
              "      <td>8.600000</td>\n",
              "      <td>8.600000</td>\n",
              "      <td>70.000000</td>\n",
              "    </tr>\n",
              "    <tr>\n",
              "      <th>3</th>\n",
              "      <td>18.563897</td>\n",
              "      <td>2.0</td>\n",
              "      <td>1.0</td>\n",
              "      <td>195.59</td>\n",
              "      <td>3.0</td>\n",
              "      <td>0.0</td>\n",
              "      <td>0.340972</td>\n",
              "      <td>75.00</td>\n",
              "      <td>110.0</td>\n",
              "      <td>0.0</td>\n",
              "      <td>0.0</td>\n",
              "      <td>62.000000</td>\n",
              "      <td>1.820000</td>\n",
              "      <td>2.000000</td>\n",
              "      <td>5.0</td>\n",
              "      <td>0.0</td>\n",
              "      <td>2.0</td>\n",
              "      <td>157.000000</td>\n",
              "      <td>122.0</td>\n",
              "      <td>31.800000</td>\n",
              "      <td>0.0</td>\n",
              "      <td>156.0</td>\n",
              "      <td>27.0</td>\n",
              "      <td>137.000000</td>\n",
              "      <td>36.2</td>\n",
              "      <td>0.0</td>\n",
              "      <td>6.000000</td>\n",
              "      <td>152.0</td>\n",
              "      <td>58.0</td>\n",
              "      <td>152.0</td>\n",
              "      <td>58.0</td>\n",
              "      <td>122.0</td>\n",
              "      <td>86.0</td>\n",
              "      <td>156.0</td>\n",
              "      <td>70.0</td>\n",
              "      <td>156.0</td>\n",
              "      <td>70.0</td>\n",
              "      <td>27.0</td>\n",
              "      <td>13.0</td>\n",
              "      <td>100.0</td>\n",
              "      <td>...</td>\n",
              "      <td>79.000000</td>\n",
              "      <td>104.000000</td>\n",
              "      <td>102.0</td>\n",
              "      <td>118.000000</td>\n",
              "      <td>96.000000</td>\n",
              "      <td>118.000000</td>\n",
              "      <td>96.000000</td>\n",
              "      <td>21.000000</td>\n",
              "      <td>17.000000</td>\n",
              "      <td>98.0</td>\n",
              "      <td>92.000000</td>\n",
              "      <td>159.000000</td>\n",
              "      <td>147.000000</td>\n",
              "      <td>159.000000</td>\n",
              "      <td>147.000000</td>\n",
              "      <td>37.400000</td>\n",
              "      <td>37.400000</td>\n",
              "      <td>62.000000</td>\n",
              "      <td>54.000000</td>\n",
              "      <td>7.800000</td>\n",
              "      <td>6.900000</td>\n",
              "      <td>1.820000</td>\n",
              "      <td>1.670000</td>\n",
              "      <td>157.000000</td>\n",
              "      <td>109.0</td>\n",
              "      <td>22.000000</td>\n",
              "      <td>19.000000</td>\n",
              "      <td>10.300000</td>\n",
              "      <td>10.300000</td>\n",
              "      <td>31.800000</td>\n",
              "      <td>31.800000</td>\n",
              "      <td>76.000000</td>\n",
              "      <td>76.000000</td>\n",
              "      <td>4.800000</td>\n",
              "      <td>3.600000</td>\n",
              "      <td>141.000000</td>\n",
              "      <td>137.000000</td>\n",
              "      <td>6.000000</td>\n",
              "      <td>6.000000</td>\n",
              "      <td>68.000000</td>\n",
              "    </tr>\n",
              "    <tr>\n",
              "      <th>4</th>\n",
              "      <td>22.500000</td>\n",
              "      <td>0.0</td>\n",
              "      <td>0.0</td>\n",
              "      <td>160.00</td>\n",
              "      <td>3.0</td>\n",
              "      <td>0.0</td>\n",
              "      <td>0.001389</td>\n",
              "      <td>57.60</td>\n",
              "      <td>107.0</td>\n",
              "      <td>0.0</td>\n",
              "      <td>0.0</td>\n",
              "      <td>41.000000</td>\n",
              "      <td>1.600000</td>\n",
              "      <td>4.000000</td>\n",
              "      <td>6.0</td>\n",
              "      <td>0.0</td>\n",
              "      <td>5.0</td>\n",
              "      <td>90.000000</td>\n",
              "      <td>98.0</td>\n",
              "      <td>36.000000</td>\n",
              "      <td>0.0</td>\n",
              "      <td>50.0</td>\n",
              "      <td>12.0</td>\n",
              "      <td>135.000000</td>\n",
              "      <td>36.8</td>\n",
              "      <td>1.0</td>\n",
              "      <td>13.470000</td>\n",
              "      <td>99.0</td>\n",
              "      <td>38.0</td>\n",
              "      <td>99.0</td>\n",
              "      <td>38.0</td>\n",
              "      <td>98.0</td>\n",
              "      <td>67.0</td>\n",
              "      <td>107.0</td>\n",
              "      <td>51.0</td>\n",
              "      <td>107.0</td>\n",
              "      <td>51.0</td>\n",
              "      <td>26.0</td>\n",
              "      <td>12.0</td>\n",
              "      <td>100.0</td>\n",
              "      <td>...</td>\n",
              "      <td>63.633333</td>\n",
              "      <td>80.166667</td>\n",
              "      <td>72.9</td>\n",
              "      <td>88.833333</td>\n",
              "      <td>78.766667</td>\n",
              "      <td>88.833333</td>\n",
              "      <td>78.766667</td>\n",
              "      <td>21.466667</td>\n",
              "      <td>17.633333</td>\n",
              "      <td>98.2</td>\n",
              "      <td>95.666667</td>\n",
              "      <td>128.733333</td>\n",
              "      <td>113.566667</td>\n",
              "      <td>128.733333</td>\n",
              "      <td>113.566667</td>\n",
              "      <td>36.800000</td>\n",
              "      <td>36.800000</td>\n",
              "      <td>26.000000</td>\n",
              "      <td>26.000000</td>\n",
              "      <td>8.200000</td>\n",
              "      <td>8.200000</td>\n",
              "      <td>1.500000</td>\n",
              "      <td>1.500000</td>\n",
              "      <td>126.000000</td>\n",
              "      <td>114.0</td>\n",
              "      <td>23.000000</td>\n",
              "      <td>23.000000</td>\n",
              "      <td>12.113333</td>\n",
              "      <td>11.693333</td>\n",
              "      <td>36.680000</td>\n",
              "      <td>35.380000</td>\n",
              "      <td>209.900000</td>\n",
              "      <td>202.300000</td>\n",
              "      <td>4.600000</td>\n",
              "      <td>4.600000</td>\n",
              "      <td>137.000000</td>\n",
              "      <td>137.000000</td>\n",
              "      <td>12.367333</td>\n",
              "      <td>11.620267</td>\n",
              "      <td>51.000000</td>\n",
              "    </tr>\n",
              "    <tr>\n",
              "      <th>...</th>\n",
              "      <td>...</td>\n",
              "      <td>...</td>\n",
              "      <td>...</td>\n",
              "      <td>...</td>\n",
              "      <td>...</td>\n",
              "      <td>...</td>\n",
              "      <td>...</td>\n",
              "      <td>...</td>\n",
              "      <td>...</td>\n",
              "      <td>...</td>\n",
              "      <td>...</td>\n",
              "      <td>...</td>\n",
              "      <td>...</td>\n",
              "      <td>...</td>\n",
              "      <td>...</td>\n",
              "      <td>...</td>\n",
              "      <td>...</td>\n",
              "      <td>...</td>\n",
              "      <td>...</td>\n",
              "      <td>...</td>\n",
              "      <td>...</td>\n",
              "      <td>...</td>\n",
              "      <td>...</td>\n",
              "      <td>...</td>\n",
              "      <td>...</td>\n",
              "      <td>...</td>\n",
              "      <td>...</td>\n",
              "      <td>...</td>\n",
              "      <td>...</td>\n",
              "      <td>...</td>\n",
              "      <td>...</td>\n",
              "      <td>...</td>\n",
              "      <td>...</td>\n",
              "      <td>...</td>\n",
              "      <td>...</td>\n",
              "      <td>...</td>\n",
              "      <td>...</td>\n",
              "      <td>...</td>\n",
              "      <td>...</td>\n",
              "      <td>...</td>\n",
              "      <td>...</td>\n",
              "      <td>...</td>\n",
              "      <td>...</td>\n",
              "      <td>...</td>\n",
              "      <td>...</td>\n",
              "      <td>...</td>\n",
              "      <td>...</td>\n",
              "      <td>...</td>\n",
              "      <td>...</td>\n",
              "      <td>...</td>\n",
              "      <td>...</td>\n",
              "      <td>...</td>\n",
              "      <td>...</td>\n",
              "      <td>...</td>\n",
              "      <td>...</td>\n",
              "      <td>...</td>\n",
              "      <td>...</td>\n",
              "      <td>...</td>\n",
              "      <td>...</td>\n",
              "      <td>...</td>\n",
              "      <td>...</td>\n",
              "      <td>...</td>\n",
              "      <td>...</td>\n",
              "      <td>...</td>\n",
              "      <td>...</td>\n",
              "      <td>...</td>\n",
              "      <td>...</td>\n",
              "      <td>...</td>\n",
              "      <td>...</td>\n",
              "      <td>...</td>\n",
              "      <td>...</td>\n",
              "      <td>...</td>\n",
              "      <td>...</td>\n",
              "      <td>...</td>\n",
              "      <td>...</td>\n",
              "      <td>...</td>\n",
              "      <td>...</td>\n",
              "      <td>...</td>\n",
              "      <td>...</td>\n",
              "      <td>...</td>\n",
              "      <td>...</td>\n",
              "    </tr>\n",
              "    <tr>\n",
              "      <th>104120</th>\n",
              "      <td>26.030838</td>\n",
              "      <td>2.0</td>\n",
              "      <td>0.0</td>\n",
              "      <td>167.60</td>\n",
              "      <td>4.0</td>\n",
              "      <td>1.0</td>\n",
              "      <td>6.711806</td>\n",
              "      <td>73.12</td>\n",
              "      <td>403.0</td>\n",
              "      <td>0.0</td>\n",
              "      <td>0.0</td>\n",
              "      <td>30.000000</td>\n",
              "      <td>0.720000</td>\n",
              "      <td>3.000000</td>\n",
              "      <td>6.0</td>\n",
              "      <td>0.0</td>\n",
              "      <td>1.0</td>\n",
              "      <td>189.000000</td>\n",
              "      <td>120.0</td>\n",
              "      <td>32.500000</td>\n",
              "      <td>0.0</td>\n",
              "      <td>49.0</td>\n",
              "      <td>33.0</td>\n",
              "      <td>155.000000</td>\n",
              "      <td>36.1</td>\n",
              "      <td>1.0</td>\n",
              "      <td>9.100000</td>\n",
              "      <td>84.0</td>\n",
              "      <td>49.0</td>\n",
              "      <td>84.0</td>\n",
              "      <td>49.0</td>\n",
              "      <td>120.0</td>\n",
              "      <td>77.0</td>\n",
              "      <td>121.0</td>\n",
              "      <td>61.0</td>\n",
              "      <td>121.0</td>\n",
              "      <td>61.0</td>\n",
              "      <td>32.0</td>\n",
              "      <td>12.0</td>\n",
              "      <td>100.0</td>\n",
              "      <td>...</td>\n",
              "      <td>61.000000</td>\n",
              "      <td>120.000000</td>\n",
              "      <td>99.0</td>\n",
              "      <td>95.000000</td>\n",
              "      <td>73.000000</td>\n",
              "      <td>95.000000</td>\n",
              "      <td>73.000000</td>\n",
              "      <td>32.000000</td>\n",
              "      <td>18.000000</td>\n",
              "      <td>100.0</td>\n",
              "      <td>83.000000</td>\n",
              "      <td>136.000000</td>\n",
              "      <td>108.000000</td>\n",
              "      <td>136.000000</td>\n",
              "      <td>108.000000</td>\n",
              "      <td>36.600000</td>\n",
              "      <td>36.600000</td>\n",
              "      <td>30.000000</td>\n",
              "      <td>26.000000</td>\n",
              "      <td>9.000000</td>\n",
              "      <td>8.400000</td>\n",
              "      <td>0.800000</td>\n",
              "      <td>0.720000</td>\n",
              "      <td>189.000000</td>\n",
              "      <td>118.0</td>\n",
              "      <td>37.000000</td>\n",
              "      <td>29.000000</td>\n",
              "      <td>9.600000</td>\n",
              "      <td>9.600000</td>\n",
              "      <td>32.500000</td>\n",
              "      <td>32.500000</td>\n",
              "      <td>230.000000</td>\n",
              "      <td>230.000000</td>\n",
              "      <td>4.200000</td>\n",
              "      <td>3.900000</td>\n",
              "      <td>155.000000</td>\n",
              "      <td>117.000000</td>\n",
              "      <td>9.100000</td>\n",
              "      <td>9.100000</td>\n",
              "      <td>20.000000</td>\n",
              "    </tr>\n",
              "    <tr>\n",
              "      <th>104121</th>\n",
              "      <td>21.893861</td>\n",
              "      <td>2.0</td>\n",
              "      <td>0.0</td>\n",
              "      <td>155.00</td>\n",
              "      <td>15.0</td>\n",
              "      <td>0.0</td>\n",
              "      <td>0.104167</td>\n",
              "      <td>52.60</td>\n",
              "      <td>305.0</td>\n",
              "      <td>0.0</td>\n",
              "      <td>0.0</td>\n",
              "      <td>16.000000</td>\n",
              "      <td>0.730000</td>\n",
              "      <td>4.000000</td>\n",
              "      <td>6.0</td>\n",
              "      <td>0.0</td>\n",
              "      <td>4.0</td>\n",
              "      <td>112.000000</td>\n",
              "      <td>127.0</td>\n",
              "      <td>35.300000</td>\n",
              "      <td>0.0</td>\n",
              "      <td>65.0</td>\n",
              "      <td>10.0</td>\n",
              "      <td>143.000000</td>\n",
              "      <td>36.9</td>\n",
              "      <td>0.0</td>\n",
              "      <td>7.900000</td>\n",
              "      <td>106.0</td>\n",
              "      <td>47.0</td>\n",
              "      <td>106.0</td>\n",
              "      <td>47.0</td>\n",
              "      <td>127.0</td>\n",
              "      <td>83.0</td>\n",
              "      <td>111.0</td>\n",
              "      <td>59.0</td>\n",
              "      <td>111.0</td>\n",
              "      <td>59.0</td>\n",
              "      <td>26.0</td>\n",
              "      <td>13.0</td>\n",
              "      <td>100.0</td>\n",
              "      <td>...</td>\n",
              "      <td>79.000000</td>\n",
              "      <td>91.000000</td>\n",
              "      <td>87.0</td>\n",
              "      <td>89.000000</td>\n",
              "      <td>88.000000</td>\n",
              "      <td>89.000000</td>\n",
              "      <td>88.000000</td>\n",
              "      <td>19.000000</td>\n",
              "      <td>19.000000</td>\n",
              "      <td>99.0</td>\n",
              "      <td>98.000000</td>\n",
              "      <td>136.000000</td>\n",
              "      <td>118.000000</td>\n",
              "      <td>136.000000</td>\n",
              "      <td>118.000000</td>\n",
              "      <td>36.900000</td>\n",
              "      <td>36.900000</td>\n",
              "      <td>16.000000</td>\n",
              "      <td>16.000000</td>\n",
              "      <td>7.300000</td>\n",
              "      <td>7.300000</td>\n",
              "      <td>0.730000</td>\n",
              "      <td>0.730000</td>\n",
              "      <td>112.000000</td>\n",
              "      <td>112.0</td>\n",
              "      <td>27.000000</td>\n",
              "      <td>27.000000</td>\n",
              "      <td>13.300000</td>\n",
              "      <td>10.900000</td>\n",
              "      <td>43.900000</td>\n",
              "      <td>35.300000</td>\n",
              "      <td>188.000000</td>\n",
              "      <td>188.000000</td>\n",
              "      <td>4.300000</td>\n",
              "      <td>4.300000</td>\n",
              "      <td>143.000000</td>\n",
              "      <td>143.000000</td>\n",
              "      <td>7.900000</td>\n",
              "      <td>7.900000</td>\n",
              "      <td>61.995103</td>\n",
              "    </tr>\n",
              "    <tr>\n",
              "      <th>104122</th>\n",
              "      <td>29.969136</td>\n",
              "      <td>2.0</td>\n",
              "      <td>1.0</td>\n",
              "      <td>180.00</td>\n",
              "      <td>3.0</td>\n",
              "      <td>0.0</td>\n",
              "      <td>0.084028</td>\n",
              "      <td>97.10</td>\n",
              "      <td>106.0</td>\n",
              "      <td>0.0</td>\n",
              "      <td>0.0</td>\n",
              "      <td>26.200000</td>\n",
              "      <td>1.555667</td>\n",
              "      <td>4.000000</td>\n",
              "      <td>6.0</td>\n",
              "      <td>0.0</td>\n",
              "      <td>5.0</td>\n",
              "      <td>117.766667</td>\n",
              "      <td>56.0</td>\n",
              "      <td>33.013333</td>\n",
              "      <td>0.0</td>\n",
              "      <td>59.0</td>\n",
              "      <td>8.0</td>\n",
              "      <td>136.666667</td>\n",
              "      <td>36.6</td>\n",
              "      <td>0.0</td>\n",
              "      <td>11.333667</td>\n",
              "      <td>74.0</td>\n",
              "      <td>66.0</td>\n",
              "      <td>74.0</td>\n",
              "      <td>66.0</td>\n",
              "      <td>79.0</td>\n",
              "      <td>61.0</td>\n",
              "      <td>82.0</td>\n",
              "      <td>75.0</td>\n",
              "      <td>82.0</td>\n",
              "      <td>75.0</td>\n",
              "      <td>21.0</td>\n",
              "      <td>8.0</td>\n",
              "      <td>95.0</td>\n",
              "      <td>...</td>\n",
              "      <td>66.000000</td>\n",
              "      <td>79.000000</td>\n",
              "      <td>62.0</td>\n",
              "      <td>82.000000</td>\n",
              "      <td>76.000000</td>\n",
              "      <td>82.000000</td>\n",
              "      <td>76.000000</td>\n",
              "      <td>21.000000</td>\n",
              "      <td>8.000000</td>\n",
              "      <td>95.0</td>\n",
              "      <td>94.000000</td>\n",
              "      <td>122.000000</td>\n",
              "      <td>104.000000</td>\n",
              "      <td>122.000000</td>\n",
              "      <td>104.000000</td>\n",
              "      <td>36.600000</td>\n",
              "      <td>36.600000</td>\n",
              "      <td>24.600000</td>\n",
              "      <td>23.300000</td>\n",
              "      <td>8.380000</td>\n",
              "      <td>8.296667</td>\n",
              "      <td>1.419333</td>\n",
              "      <td>1.394000</td>\n",
              "      <td>129.000000</td>\n",
              "      <td>129.0</td>\n",
              "      <td>24.073333</td>\n",
              "      <td>23.473333</td>\n",
              "      <td>11.260000</td>\n",
              "      <td>10.843333</td>\n",
              "      <td>34.293333</td>\n",
              "      <td>33.233333</td>\n",
              "      <td>197.500000</td>\n",
              "      <td>193.381667</td>\n",
              "      <td>4.136667</td>\n",
              "      <td>4.030000</td>\n",
              "      <td>137.200000</td>\n",
              "      <td>136.433333</td>\n",
              "      <td>11.241667</td>\n",
              "      <td>10.733333</td>\n",
              "      <td>87.000000</td>\n",
              "    </tr>\n",
              "    <tr>\n",
              "      <th>104123</th>\n",
              "      <td>31.242010</td>\n",
              "      <td>2.0</td>\n",
              "      <td>0.0</td>\n",
              "      <td>162.60</td>\n",
              "      <td>3.0</td>\n",
              "      <td>0.0</td>\n",
              "      <td>0.170139</td>\n",
              "      <td>82.60</td>\n",
              "      <td>501.0</td>\n",
              "      <td>0.0</td>\n",
              "      <td>0.0</td>\n",
              "      <td>71.000000</td>\n",
              "      <td>3.000000</td>\n",
              "      <td>3.000000</td>\n",
              "      <td>6.0</td>\n",
              "      <td>0.0</td>\n",
              "      <td>2.0</td>\n",
              "      <td>130.000000</td>\n",
              "      <td>134.0</td>\n",
              "      <td>41.000000</td>\n",
              "      <td>0.0</td>\n",
              "      <td>176.0</td>\n",
              "      <td>41.0</td>\n",
              "      <td>146.000000</td>\n",
              "      <td>36.3</td>\n",
              "      <td>0.0</td>\n",
              "      <td>34.590000</td>\n",
              "      <td>98.0</td>\n",
              "      <td>50.0</td>\n",
              "      <td>98.0</td>\n",
              "      <td>50.0</td>\n",
              "      <td>130.0</td>\n",
              "      <td>91.0</td>\n",
              "      <td>118.0</td>\n",
              "      <td>56.0</td>\n",
              "      <td>118.0</td>\n",
              "      <td>56.0</td>\n",
              "      <td>41.0</td>\n",
              "      <td>26.0</td>\n",
              "      <td>100.0</td>\n",
              "      <td>...</td>\n",
              "      <td>73.000000</td>\n",
              "      <td>130.000000</td>\n",
              "      <td>111.0</td>\n",
              "      <td>107.000000</td>\n",
              "      <td>85.000000</td>\n",
              "      <td>107.000000</td>\n",
              "      <td>85.000000</td>\n",
              "      <td>41.000000</td>\n",
              "      <td>30.000000</td>\n",
              "      <td>100.0</td>\n",
              "      <td>96.000000</td>\n",
              "      <td>131.000000</td>\n",
              "      <td>103.000000</td>\n",
              "      <td>131.000000</td>\n",
              "      <td>103.000000</td>\n",
              "      <td>36.300000</td>\n",
              "      <td>36.300000</td>\n",
              "      <td>71.000000</td>\n",
              "      <td>71.000000</td>\n",
              "      <td>7.600000</td>\n",
              "      <td>7.600000</td>\n",
              "      <td>3.000000</td>\n",
              "      <td>3.000000</td>\n",
              "      <td>130.000000</td>\n",
              "      <td>130.0</td>\n",
              "      <td>17.000000</td>\n",
              "      <td>17.000000</td>\n",
              "      <td>13.100000</td>\n",
              "      <td>13.100000</td>\n",
              "      <td>41.000000</td>\n",
              "      <td>41.000000</td>\n",
              "      <td>58.000000</td>\n",
              "      <td>58.000000</td>\n",
              "      <td>4.000000</td>\n",
              "      <td>4.000000</td>\n",
              "      <td>146.000000</td>\n",
              "      <td>146.000000</td>\n",
              "      <td>34.590000</td>\n",
              "      <td>34.590000</td>\n",
              "      <td>63.000000</td>\n",
              "    </tr>\n",
              "    <tr>\n",
              "      <th>104124</th>\n",
              "      <td>21.126731</td>\n",
              "      <td>3.0</td>\n",
              "      <td>0.0</td>\n",
              "      <td>170.20</td>\n",
              "      <td>15.0</td>\n",
              "      <td>0.0</td>\n",
              "      <td>0.069444</td>\n",
              "      <td>61.20</td>\n",
              "      <td>704.0</td>\n",
              "      <td>0.0</td>\n",
              "      <td>0.0</td>\n",
              "      <td>16.000000</td>\n",
              "      <td>0.320000</td>\n",
              "      <td>4.000000</td>\n",
              "      <td>6.0</td>\n",
              "      <td>0.0</td>\n",
              "      <td>5.0</td>\n",
              "      <td>181.000000</td>\n",
              "      <td>122.0</td>\n",
              "      <td>34.300000</td>\n",
              "      <td>0.0</td>\n",
              "      <td>62.0</td>\n",
              "      <td>35.0</td>\n",
              "      <td>139.000000</td>\n",
              "      <td>36.4</td>\n",
              "      <td>0.0</td>\n",
              "      <td>5.300000</td>\n",
              "      <td>87.0</td>\n",
              "      <td>47.0</td>\n",
              "      <td>87.0</td>\n",
              "      <td>47.0</td>\n",
              "      <td>119.0</td>\n",
              "      <td>90.0</td>\n",
              "      <td>96.0</td>\n",
              "      <td>62.0</td>\n",
              "      <td>96.0</td>\n",
              "      <td>62.0</td>\n",
              "      <td>26.0</td>\n",
              "      <td>16.0</td>\n",
              "      <td>100.0</td>\n",
              "      <td>...</td>\n",
              "      <td>67.000000</td>\n",
              "      <td>122.000000</td>\n",
              "      <td>113.0</td>\n",
              "      <td>81.000000</td>\n",
              "      <td>81.000000</td>\n",
              "      <td>81.000000</td>\n",
              "      <td>81.000000</td>\n",
              "      <td>26.000000</td>\n",
              "      <td>19.000000</td>\n",
              "      <td>100.0</td>\n",
              "      <td>99.000000</td>\n",
              "      <td>125.000000</td>\n",
              "      <td>125.000000</td>\n",
              "      <td>125.000000</td>\n",
              "      <td>125.000000</td>\n",
              "      <td>36.984407</td>\n",
              "      <td>36.837741</td>\n",
              "      <td>16.000000</td>\n",
              "      <td>16.000000</td>\n",
              "      <td>8.800000</td>\n",
              "      <td>8.800000</td>\n",
              "      <td>0.340000</td>\n",
              "      <td>0.320000</td>\n",
              "      <td>181.000000</td>\n",
              "      <td>181.0</td>\n",
              "      <td>27.000000</td>\n",
              "      <td>27.000000</td>\n",
              "      <td>11.300000</td>\n",
              "      <td>11.300000</td>\n",
              "      <td>34.300000</td>\n",
              "      <td>34.300000</td>\n",
              "      <td>211.000000</td>\n",
              "      <td>211.000000</td>\n",
              "      <td>4.300000</td>\n",
              "      <td>4.300000</td>\n",
              "      <td>139.000000</td>\n",
              "      <td>139.000000</td>\n",
              "      <td>5.300000</td>\n",
              "      <td>5.300000</td>\n",
              "      <td>67.000000</td>\n",
              "    </tr>\n",
              "  </tbody>\n",
              "</table>\n",
              "<p>104125 rows × 90 columns</p>\n",
              "</div>"
            ],
            "text/plain": [
              "              bmi  ethnicity  gender  ...  d1_wbc_max  d1_wbc_min        age\n",
              "0       28.734672        0.0     1.0  ...    9.983000    9.591333  60.000000\n",
              "1       30.295175        5.0     1.0  ...    9.800000    9.800000  73.000000\n",
              "2       44.123628        2.0     1.0  ...    8.600000    8.600000  70.000000\n",
              "3       18.563897        2.0     1.0  ...    6.000000    6.000000  68.000000\n",
              "4       22.500000        0.0     0.0  ...   12.367333   11.620267  51.000000\n",
              "...           ...        ...     ...  ...         ...         ...        ...\n",
              "104120  26.030838        2.0     0.0  ...    9.100000    9.100000  20.000000\n",
              "104121  21.893861        2.0     0.0  ...    7.900000    7.900000  61.995103\n",
              "104122  29.969136        2.0     1.0  ...   11.241667   10.733333  87.000000\n",
              "104123  31.242010        2.0     0.0  ...   34.590000   34.590000  63.000000\n",
              "104124  21.126731        3.0     0.0  ...    5.300000    5.300000  67.000000\n",
              "\n",
              "[104125 rows x 90 columns]"
            ]
          },
          "metadata": {
            "tags": []
          },
          "execution_count": 6
        }
      ]
    },
    {
      "cell_type": "code",
      "metadata": {
        "colab": {
          "base_uri": "https://localhost:8080/"
        },
        "id": "1w5rplGrb4RZ",
        "outputId": "f2aca208-536e-48b9-8288-7a161f6514a2"
      },
      "source": [
        "train_y"
      ],
      "execution_count": 7,
      "outputs": [
        {
          "output_type": "execute_result",
          "data": {
            "text/plain": [
              "0         1\n",
              "1         0\n",
              "2         0\n",
              "3         0\n",
              "4         0\n",
              "         ..\n",
              "104120    0\n",
              "104121    1\n",
              "104122    0\n",
              "104123    1\n",
              "104124    0\n",
              "Name: diabetes_mellitus, Length: 104125, dtype: int64"
            ]
          },
          "metadata": {
            "tags": []
          },
          "execution_count": 7
        }
      ]
    },
    {
      "cell_type": "markdown",
      "metadata": {
        "id": "sU2ajvZ3s7FJ"
      },
      "source": [
        "# Logistic regression"
      ]
    },
    {
      "cell_type": "code",
      "metadata": {
        "id": "usJ2UgxzbCyW"
      },
      "source": [
        "#standardize data\n",
        "scaler = StandardScaler()\n",
        "scaled_df = scaler.fit_transform(KNN_imputed_trainX)\n",
        "scaled_test_df = scaler.fit_transform(KNN_imputed_testX_df)"
      ],
      "execution_count": 8,
      "outputs": []
    },
    {
      "cell_type": "markdown",
      "metadata": {
        "id": "v3jCIJhocf2P"
      },
      "source": [
        "#### stratefied k fold LR"
      ]
    },
    {
      "cell_type": "code",
      "metadata": {
        "id": "ZgJ2ZWZ0ZT9C"
      },
      "source": [
        "def stratKfold(clf_strat):\n",
        "\n",
        "    skf = StratifiedKFold(n_splits=5, shuffle=True, random_state=1)\n",
        "    lst_accu_stratified = []\n",
        "\n",
        "    # clf_strat = LogisticRegression(random_state=0, max_iter=200)\n",
        "\n",
        "    for train_index, test_index in skf.split(KNN_imputed_trainX, train_y):\n",
        "        x_train_fold, x_val_fold = scaled_df[train_index], scaled_df[test_index]\n",
        "        y_train_fold, y_val_fold = train_y[train_index.tolist()], train_y[test_index.tolist()]\n",
        "        %time clf_strat.fit(x_train_fold, y_train_fold)\n",
        "        lst_accu_stratified.append(clf_strat.score(x_val_fold, y_val_fold))\n",
        "    \n",
        "    # Print the output.\n",
        "    print('List of possible validation scores:', lst_accu_stratified)\n",
        "    print('\\nMaximum validation score that can be obtained from this model is:',\n",
        "        max(lst_accu_stratified)*100, '%')\n",
        "    print('\\nMinimum validation score:',\n",
        "        min(lst_accu_stratified)*100, '%')\n",
        "    print('\\nOverall validation score:',\n",
        "        mean(lst_accu_stratified)*100, '%')\n",
        "    print('\\nStandard Deviation is:', stdev(lst_accu_stratified))\n",
        "\n",
        "    return clf_strat"
      ],
      "execution_count": 9,
      "outputs": []
    },
    {
      "cell_type": "code",
      "metadata": {
        "colab": {
          "base_uri": "https://localhost:8080/"
        },
        "id": "iZnt09wRg8ZE",
        "outputId": "f52220a9-d9e0-4745-9ab4-41031fe966df"
      },
      "source": [
        "clf_strat_lr = LogisticRegression(random_state=0, max_iter=200)\n",
        "clf_strat_lr = stratKfold(clf_strat_lr)"
      ],
      "execution_count": null,
      "outputs": [
        {
          "output_type": "stream",
          "text": [
            "CPU times: user 4.37 s, sys: 1.15 s, total: 5.52 s\n",
            "Wall time: 2.86 s\n",
            "CPU times: user 5.63 s, sys: 1.43 s, total: 7.07 s\n",
            "Wall time: 3.64 s\n",
            "CPU times: user 5.95 s, sys: 1.48 s, total: 7.42 s\n",
            "Wall time: 3.81 s\n",
            "CPU times: user 6.08 s, sys: 1.51 s, total: 7.59 s\n",
            "Wall time: 3.88 s\n",
            "CPU times: user 5.08 s, sys: 1.31 s, total: 6.38 s\n",
            "Wall time: 3.28 s\n",
            "List of possible validation scores: [0.7838175270108043, 0.7838175270108043, 0.7838655462184874, 0.7838655462184874, 0.7838655462184874]\n",
            "\n",
            "Maximum validation score that can be obtained from this model is: 78.38655462184873 %\n",
            "\n",
            "Minimum validation score: 78.38175270108043 %\n",
            "\n",
            "Overall validation score: 78.38463385354142 %\n",
            "\n",
            "Standard Deviation is: 2.6301203241530598e-05\n"
          ],
          "name": "stdout"
        }
      ]
    },
    {
      "cell_type": "code",
      "metadata": {
        "colab": {
          "base_uri": "https://localhost:8080/"
        },
        "id": "KsVJLj4GdW31",
        "outputId": "e7f92bb1-e31d-4b09-808b-1951c0d32370"
      },
      "source": [
        "LR_y_pred_strat = clf_strat.predict(scaled_test_df)\n",
        "test_score = clf_strat.score(scaled_test_df,test_y)\n",
        "print(test_score)"
      ],
      "execution_count": null,
      "outputs": [
        {
          "output_type": "stream",
          "text": [
            "0.7816533497234174\n"
          ],
          "name": "stdout"
        }
      ]
    },
    {
      "cell_type": "code",
      "metadata": {
        "colab": {
          "base_uri": "https://localhost:8080/",
          "height": 282
        },
        "id": "07i0EGUYd8cj",
        "outputId": "e14a3fa3-7802-4d50-f9ed-8aea44212a6c"
      },
      "source": [
        "sns.countplot(LR_y_pred_strat)"
      ],
      "execution_count": null,
      "outputs": [
        {
          "output_type": "execute_result",
          "data": {
            "text/plain": [
              "<matplotlib.axes._subplots.AxesSubplot at 0x7fca604d6d90>"
            ]
          },
          "metadata": {
            "tags": []
          },
          "execution_count": 70
        },
        {
          "output_type": "display_data",
          "data": {
            "image/png": "[encoded data removed]",
            "text/plain": [
              "<Figure size 432x288 with 1 Axes>"
            ]
          },
          "metadata": {
            "tags": [],
            "needs_background": "light"
          }
        }
      ]
    },
    {
      "cell_type": "code",
      "metadata": {
        "colab": {
          "base_uri": "https://localhost:8080/",
          "height": 309
        },
        "id": "jmY2e3a2esdB",
        "outputId": "6d1430d8-771f-4c87-bb67-91d63c2e59ef"
      },
      "source": [
        "#show confusion matrix\n",
        "cm = confusion_matrix(test_y, LR_y_pred_strat)\n",
        "plt.figure(figsize=(5,5))\n",
        "sns.heatmap(cm, annot=True, fmt=\".3f\", linewidths=.5, square = True, cmap = 'Blues_r');\n",
        "plt.ylabel('Actual label');\n",
        "plt.xlabel('Predicted label');\n",
        "all_sample_title = 'Accuracy Score: {0:.4f}'.format(test_score)\n",
        "plt.title(all_sample_title, size = 15);"
      ],
      "execution_count": null,
      "outputs": [
        {
          "output_type": "display_data",
          "data": {
            "image/png": "[encoded data removed]",
            "text/plain": [
              "<Figure size 360x360 with 2 Axes>"
            ]
          },
          "metadata": {
            "tags": [],
            "needs_background": "light"
          }
        }
      ]
    },
    {
      "cell_type": "markdown",
      "metadata": {
        "id": "wG0Q1OPScj58"
      },
      "source": [
        "#### normal LR"
      ]
    },
    {
      "cell_type": "code",
      "metadata": {
        "colab": {
          "base_uri": "https://localhost:8080/"
        },
        "id": "UkxTG6LYX4xg",
        "outputId": "48567820-ad7c-4482-afe9-c790d94a7bd5"
      },
      "source": [
        "# Apply logistic regression\n",
        "clf = LogisticRegression(random_state=0, max_iter=200).fit(scaled_df, train_y)\n",
        "pred = clf.predict(scaled_test_df)\n",
        "train_score = clf.score(scaled_df,train_y)\n",
        "test_score = clf.score(scaled_test_df,test_y)\n",
        "\n",
        "print(train_score)\n",
        "print(test_score)"
      ],
      "execution_count": null,
      "outputs": [
        {
          "output_type": "stream",
          "text": [
            "0.7838463385354142\n",
            "0.7824216349108789\n"
          ],
          "name": "stdout"
        }
      ]
    },
    {
      "cell_type": "code",
      "metadata": {
        "colab": {
          "base_uri": "https://localhost:8080/"
        },
        "id": "isnKS6IfQdsM",
        "outputId": "ea491fc1-a4b2-45a1-de6f-a4405b58c507"
      },
      "source": [
        "pred"
      ],
      "execution_count": null,
      "outputs": [
        {
          "output_type": "execute_result",
          "data": {
            "text/plain": [
              "array([0, 0, 0, ..., 0, 0, 0])"
            ]
          },
          "metadata": {
            "tags": []
          },
          "execution_count": 58
        }
      ]
    },
    {
      "cell_type": "code",
      "metadata": {
        "colab": {
          "base_uri": "https://localhost:8080/",
          "height": 282
        },
        "id": "HMGaw32ZemRr",
        "outputId": "57a6ac1f-51d2-4034-85f8-1faf3ec70b23"
      },
      "source": [
        "sns.countplot(pred)"
      ],
      "execution_count": null,
      "outputs": [
        {
          "output_type": "execute_result",
          "data": {
            "text/plain": [
              "<matplotlib.axes._subplots.AxesSubplot at 0x7fca606876d0>"
            ]
          },
          "metadata": {
            "tags": []
          },
          "execution_count": 59
        },
        {
          "output_type": "display_data",
          "data": {
            "image/png": "[encoded data removed]",
            "text/plain": [
              "<Figure size 432x288 with 1 Axes>"
            ]
          },
          "metadata": {
            "tags": [],
            "needs_background": "light"
          }
        }
      ]
    },
    {
      "cell_type": "code",
      "metadata": {
        "colab": {
          "base_uri": "https://localhost:8080/",
          "height": 309
        },
        "id": "UeITDf7eZpi3",
        "outputId": "219f0e30-4a81-4d1a-dc87-a84aa66f6234"
      },
      "source": [
        "#show confusion matrix\n",
        "cm = confusion_matrix(test_y, pred)\n",
        "plt.figure(figsize=(5,5))\n",
        "sns.heatmap(cm, annot=True, fmt=\".3f\", linewidths=.5, square = True, cmap = 'Blues_r');\n",
        "plt.ylabel('Actual label');\n",
        "plt.xlabel('Predicted label');\n",
        "all_sample_title = 'Accuracy Score: {0:.4f}'.format(test_score)\n",
        "plt.title(all_sample_title, size = 15);"
      ],
      "execution_count": null,
      "outputs": [
        {
          "output_type": "display_data",
          "data": {
            "image/png": "[encoded data removed]",
            "text/plain": [
              "<Figure size 360x360 with 2 Axes>"
            ]
          },
          "metadata": {
            "tags": [],
            "needs_background": "light"
          }
        }
      ]
    },
    {
      "cell_type": "markdown",
      "metadata": {
        "id": "DNgJbNJbqEdu"
      },
      "source": [
        "#SVM"
      ]
    },
    {
      "cell_type": "code",
      "metadata": {
        "id": "ugx8KYTGqDm5"
      },
      "source": [
        "KNN_imputed_trainX = KNN_imputed_trainX[KNN_imputed_testX_df.columns]\n",
        "KNN_imputed_testX = KNN_imputed_testX_df"
      ],
      "execution_count": null,
      "outputs": []
    },
    {
      "cell_type": "code",
      "metadata": {
        "id": "jj4NhizFrggd",
        "colab": {
          "base_uri": "https://localhost:8080/"
        },
        "outputId": "db72c429-0655-4695-abf5-69b90f1e8107"
      },
      "source": [
        "#standardize the data for SVM\n",
        "scaler = StandardScaler()\n",
        "KNN_imputed_trainX_scaled = scaler.fit_transform(KNN_imputed_trainX)\n",
        "KNN_imputed_testX_scaled = scaler.transform(KNN_imputed_testX)\n",
        "\n",
        "KNN_imputed_trainX_scaled_df = pd.DataFrame(KNN_imputed_trainX_scaled, columns=KNN_imputed_trainX.columns, index=KNN_imputed_trainX.index)\n",
        "print(KNN_imputed_trainX_scaled_df.info)\n",
        "\n",
        "KNN_imputed_testX_scaled_df = pd.DataFrame(KNN_imputed_testX_scaled, columns=KNN_imputed_testX.columns, index=KNN_imputed_testX.index)\n",
        "print(KNN_imputed_testX_scaled_df.info)"
      ],
      "execution_count": null,
      "outputs": [
        {
          "output_type": "stream",
          "text": [
            "<bound method DataFrame.info of              age       bmi  ethnicity  ...  d1_sodium_min  d1_wbc_max  d1_wbc_min\n",
            "115201 -0.119229 -0.042240  -1.884170  ...      -0.078927   -0.392034   -0.300572\n",
            "5903    0.668470  0.150551   2.787024  ...      -0.150119   -0.420961   -0.262781\n",
            "68265   0.486693  1.858973  -0.015693  ...      -0.363694   -0.610651   -0.480111\n",
            "109489  0.365509 -1.298778  -0.015693  ...      -0.150119   -1.021645   -0.950994\n",
            "14762  -0.664559 -0.812496  -1.884170  ...      -0.150119   -0.015131    0.066886\n",
            "...          ...       ...        ...  ...            ...         ...         ...\n",
            "128106 -2.542917 -0.376282  -0.015693  ...      -4.421627   -0.531614   -0.389557\n",
            "103694  0.001659 -0.887381  -0.015693  ...       1.131334   -0.721303   -0.606887\n",
            "860     1.516761  0.110271  -0.015693  ...      -0.271145   -0.193070   -0.093746\n",
            "15795   0.062548  0.267526  -0.015693  ...       1.772060    3.497712    4.226904\n",
            "121958  0.304917 -0.982155   0.918546  ...       0.277032   -1.132298   -1.077770\n",
            "\n",
            "[104125 rows x 90 columns]>\n",
            "<bound method DataFrame.info of              age       bmi  ethnicity  ...  d1_sodium_min  d1_wbc_max  d1_wbc_min\n",
            "71328   0.001659 -0.110966  -0.015693  ...      -0.150119    4.400319    5.261035\n",
            "107114  0.729062 -0.924508  -0.949931  ...      -4.421627   -0.523130   -0.431272\n",
            "33650   0.001956  0.232316  -0.015693  ...      -0.577270    0.227145   -0.117894\n",
            "119933  0.910839 -1.079548  -0.015693  ...       0.277032   -0.389346   -0.226559\n",
            "3395   -0.664559 -0.236942  -0.015693  ...       1.558484   -0.405154   -0.353335\n",
            "...          ...       ...        ...  ...            ...         ...         ...\n",
            "115047  1.577353 -1.081542  -0.015693  ...      -1.004420    0.021648   -0.081672\n",
            "113339  0.426101  0.382089  -0.015693  ...      -0.306741   -0.152076   -0.163533\n",
            "115270 -1.149296 -0.063283   2.787024  ...      -0.150119    1.807893    2.290852\n",
            "88601  -0.725151  2.350067  -0.015693  ...      -0.503942   -0.484191   -0.335224\n",
            "32553  -2.058179 -0.957722  -0.015693  ...       0.277032    1.365283    1.783748\n",
            "\n",
            "[26032 rows x 90 columns]>\n"
          ],
          "name": "stdout"
        }
      ]
    },
    {
      "cell_type": "markdown",
      "metadata": {
        "id": "wjeC-tOXVGw4"
      },
      "source": [
        "#### SVM classifier with C=0.1 and a linear kernel\n",
        "\n"
      ]
    },
    {
      "cell_type": "code",
      "metadata": {
        "id": "MFidXrcEEEjd"
      },
      "source": [
        "svm = SVC(C=0.1, kernel='linear', random_state=0)\n",
        "# %time svm.fit(KNN_imputed_trainX_scaled_df, train_y)"
      ],
      "execution_count": null,
      "outputs": []
    },
    {
      "cell_type": "code",
      "metadata": {
        "id": "JmqjMhmzdYf4"
      },
      "source": [
        "# pickle.dump(svm, open(\"svm_classifier.pkl\", \"wb\"))\n",
        "svm = pickle.load(open(\"svm_classifier.pkl\", \"rb\"))"
      ],
      "execution_count": null,
      "outputs": []
    },
    {
      "cell_type": "code",
      "metadata": {
        "id": "U0AHZ7y8RX_V"
      },
      "source": [
        "diabetes_y_pred = svm.predict(KNN_imputed_testX_scaled_df)"
      ],
      "execution_count": null,
      "outputs": []
    },
    {
      "cell_type": "code",
      "metadata": {
        "id": "Aib-4RK0eNl4"
      },
      "source": [
        "svm_test_accuracy = accuracy_score(test_y, diabetes_y_pred)"
      ],
      "execution_count": null,
      "outputs": []
    },
    {
      "cell_type": "code",
      "metadata": {
        "colab": {
          "base_uri": "https://localhost:8080/"
        },
        "id": "ZGv2jd_9U1Ow",
        "outputId": "c2f405ec-789e-4147-ece2-79b895e3fe1e"
      },
      "source": [
        "print(\"Test accuracy for the SVM classifier with C=0.1 and a linear kernel: \",svm_test_accuracy)"
      ],
      "execution_count": null,
      "outputs": [
        {
          "output_type": "stream",
          "text": [
            "Test accuracy for the SVM classifier with C=0.1 and a linear kernel:  0.7831899200983405\n"
          ],
          "name": "stdout"
        }
      ]
    },
    {
      "cell_type": "markdown",
      "metadata": {
        "id": "4Sm_rbOJKbtz"
      },
      "source": [
        "#### SVM classifier with C=1 and a linear kernel\n",
        "\n"
      ]
    },
    {
      "cell_type": "code",
      "metadata": {
        "id": "t6oZw3Q4Kbt0"
      },
      "source": [
        "svm1 = SVC(C=1, kernel='linear', random_state=0)\n",
        "%time svm1.fit(KNN_imputed_trainX_scaled_df, train_y)"
      ],
      "execution_count": null,
      "outputs": []
    },
    {
      "cell_type": "code",
      "metadata": {
        "id": "y5strFknKbt0"
      },
      "source": [
        "#pickle.dump(svm1, open(\"svm_classifier1.pkl\", \"wb\"))\n",
        "svm1 = pickle.load(open(\"svm_classifier1.pkl\", \"rb\"))"
      ],
      "execution_count": null,
      "outputs": []
    },
    {
      "cell_type": "code",
      "metadata": {
        "id": "UOCT-ZzFKbt0"
      },
      "source": [
        "diabetes_y_pred_svm1 = svm1.predict(KNN_imputed_testX_scaled_df)"
      ],
      "execution_count": null,
      "outputs": []
    },
    {
      "cell_type": "code",
      "metadata": {
        "id": "ApNliiF-Kbt1"
      },
      "source": [
        "pickle.dump(diabetes_y_pred_svm1, open(\"diabetes_y_pred_svm1.pkl\", \"wb\"))\n",
        "svm_test_accuracy1 = accuracy_score(test_y, diabetes_y_pred_svm1)"
      ],
      "execution_count": null,
      "outputs": []
    },
    {
      "cell_type": "code",
      "metadata": {
        "id": "_KqjKFamKbt1",
        "colab": {
          "base_uri": "https://localhost:8080/"
        },
        "outputId": "cdbc1f60-a9a4-4217-a91e-b3a564e12f6b"
      },
      "source": [
        "print(\"Test accuracy for the SVM classifier with C=1 and a linear kernel: \",svm_test_accuracy1)"
      ],
      "execution_count": null,
      "outputs": [
        {
          "output_type": "stream",
          "text": [
            "Test accuracy for the SVM classifier with C=1 and a linear kernel:  0.7831899200983405\n"
          ],
          "name": "stdout"
        }
      ]
    },
    {
      "cell_type": "markdown",
      "metadata": {
        "id": "FguFhz11wj45"
      },
      "source": [
        "# Random Forest Classifier"
      ]
    },
    {
      "cell_type": "code",
      "metadata": {
        "id": "Jhf4wf31xPr_",
        "colab": {
          "base_uri": "https://localhost:8080/"
        },
        "outputId": "398a313a-bef4-482f-977b-e43fa07cde14"
      },
      "source": [
        "from sklearn.ensemble import RandomForestClassifier\n",
        "import time\n",
        "from sklearn.metrics import accuracy_score\n",
        "RF_Cl_strat=RandomForestClassifier(n_estimators=200)\n",
        "RF_Cl_stratr = stratKfold(RF_Cl_strat)\n",
        "# start = time.time()\n",
        "# # RF_Cl.fit(scaled_df,train_y) #training\n",
        "# end = time.time()\n",
        "# print(\"Time taken to train data with RFC in seconds :\",end-start)"
      ],
      "execution_count": 10,
      "outputs": [
        {
          "output_type": "stream",
          "text": [
            "CPU times: user 2min 48s, sys: 578 ms, total: 2min 49s\n",
            "Wall time: 2min 49s\n",
            "CPU times: user 2min 43s, sys: 771 ms, total: 2min 44s\n",
            "Wall time: 2min 44s\n",
            "CPU times: user 2min 44s, sys: 753 ms, total: 2min 45s\n",
            "Wall time: 2min 45s\n",
            "CPU times: user 2min 51s, sys: 715 ms, total: 2min 52s\n",
            "Wall time: 2min 53s\n",
            "CPU times: user 2min 45s, sys: 554 ms, total: 2min 45s\n",
            "Wall time: 2min 45s\n",
            "List of possible validation scores: [0.7837695078031213, 0.7838655462184874, 0.7838655462184874, 0.7838175270108043, 0.7838655462184874]\n",
            "\n",
            "Maximum validation score that can be obtained from this model is: 78.38655462184873 %\n",
            "\n",
            "Minimum validation score: 78.37695078031213 %\n",
            "\n",
            "Overall validation score: 78.38367346938774 %\n",
            "\n",
            "Standard Deviation is: 4.2949685041989916e-05\n"
          ],
          "name": "stdout"
        }
      ]
    },
    {
      "cell_type": "code",
      "metadata": {
        "id": "V_1acbIOyKhT",
        "outputId": "1fb1d8f8-6214-499c-bd3c-22f00e220a2b",
        "colab": {
          "base_uri": "https://localhost:8080/"
        }
      },
      "source": [
        "y_pred = RF_Cl_stratr.predict(scaled_test_df)\n",
        "test_score = RF_Cl_stratr.score(scaled_test_df,test_y)\n",
        "print(test_score)"
      ],
      "execution_count": 11,
      "outputs": [
        {
          "output_type": "stream",
          "text": [
            "0.7821527350952674\n"
          ],
          "name": "stdout"
        }
      ]
    },
    {
      "cell_type": "code",
      "metadata": {
        "id": "mBfG23qY58JK",
        "outputId": "879f23f0-9156-4ec0-bf8d-173b1847cab4",
        "colab": {
          "base_uri": "https://localhost:8080/",
          "height": 283
        }
      },
      "source": [
        "sns.countplot(y_pred)"
      ],
      "execution_count": 12,
      "outputs": [
        {
          "output_type": "execute_result",
          "data": {
            "text/plain": [
              "<matplotlib.axes._subplots.AxesSubplot at 0x7f8005af4950>"
            ]
          },
          "metadata": {
            "tags": []
          },
          "execution_count": 12
        },
        {
          "output_type": "display_data",
          "data": {
            "image/png": "[encoded data removed]",
            "text/plain": [
              "<Figure size 432x288 with 1 Axes>"
            ]
          },
          "metadata": {
            "tags": [],
            "needs_background": "light"
          }
        }
      ]
    },
    {
      "cell_type": "code",
      "metadata": {
        "id": "zaHkQ4zj6Cj3",
        "outputId": "eaae0da8-afc9-47bd-ef05-a0e961cc13e6",
        "colab": {
          "base_uri": "https://localhost:8080/"
        }
      },
      "source": [
        "print(RF_Cl_stratr.predict_proba(scaled_test_df))"
      ],
      "execution_count": 13,
      "outputs": [
        {
          "output_type": "stream",
          "text": [
            "[[0.775 0.225]\n",
            " [0.62  0.38 ]\n",
            " [0.555 0.445]\n",
            " ...\n",
            " [0.675 0.325]\n",
            " [0.645 0.355]\n",
            " [0.58  0.42 ]]\n"
          ],
          "name": "stdout"
        }
      ]
    },
    {
      "cell_type": "markdown",
      "metadata": {
        "id": "IfZz9Yzuq0Ch"
      },
      "source": [
        "# XGB"
      ]
    },
    {
      "cell_type": "code",
      "metadata": {
        "id": "mFO7pLJpq0s-"
      },
      "source": [
        "# data_dmatrix = xgb.DMatrix(data=KNN_imputed_trainX,label=train_y)\n",
        "# data_test = xgb.DMatrix(data=KNN_imputed_testX_df,label=test_y)"
      ],
      "execution_count": null,
      "outputs": []
    },
    {
      "cell_type": "code",
      "metadata": {
        "id": "0QnCNtUnraxy",
        "outputId": "b00d66aa-3724-4c99-8690-90fe2b3ca74e",
        "colab": {
          "base_uri": "https://localhost:8080/"
        }
      },
      "source": [
        "xg_cl_strat = xgb.XGBClassifier(learning_rate = 0.1,max_depth = 5, alpha = 10, n_estimators = 100)\n",
        "xg_cl_strat = stratKfold(xg_cl_strat)"
      ],
      "execution_count": 14,
      "outputs": [
        {
          "output_type": "stream",
          "text": [
            "CPU times: user 34.7 s, sys: 335 ms, total: 35 s\n",
            "Wall time: 35.1 s\n",
            "CPU times: user 34.9 s, sys: 233 ms, total: 35.1 s\n",
            "Wall time: 35.1 s\n",
            "CPU times: user 35.3 s, sys: 47 ms, total: 35.4 s\n",
            "Wall time: 35.4 s\n",
            "CPU times: user 35.2 s, sys: 55 ms, total: 35.3 s\n",
            "Wall time: 35.3 s\n",
            "CPU times: user 35.5 s, sys: 54.4 ms, total: 35.5 s\n",
            "Wall time: 35.6 s\n",
            "List of possible validation scores: [0.7837695078031213, 0.7837214885954382, 0.7838175270108043, 0.7838175270108043, 0.7838655462184874]\n",
            "\n",
            "Maximum validation score that can be obtained from this model is: 78.38655462184873 %\n",
            "\n",
            "Minimum validation score: 78.37214885954383 %\n",
            "\n",
            "Overall validation score: 78.37983193277311 %\n",
            "\n",
            "Standard Deviation is: 5.4750320532942686e-05\n"
          ],
          "name": "stdout"
        }
      ]
    },
    {
      "cell_type": "code",
      "metadata": {
        "colab": {
          "base_uri": "https://localhost:8080/"
        },
        "id": "RwAtvVUnWMdQ",
        "outputId": "a9e21645-862b-4c94-bbca-d3f08cf9a9c0"
      },
      "source": [
        "y_pred = xg_cl_strat.predict(scaled_test_df)\n",
        "test_score = xg_cl_strat.score(scaled_test_df,test_y)\n",
        "print(test_score)"
      ],
      "execution_count": 15,
      "outputs": [
        {
          "output_type": "stream",
          "text": [
            "0.7831130915795943\n"
          ],
          "name": "stdout"
        }
      ]
    },
    {
      "cell_type": "code",
      "metadata": {
        "id": "e5rd69cP9-TH",
        "outputId": "cd91f9d5-4200-466e-fff2-d5770123fed6",
        "colab": {
          "base_uri": "https://localhost:8080/",
          "height": 283
        }
      },
      "source": [
        "sns.countplot(y_pred)"
      ],
      "execution_count": 16,
      "outputs": [
        {
          "output_type": "execute_result",
          "data": {
            "text/plain": [
              "<matplotlib.axes._subplots.AxesSubplot at 0x7f8005888850>"
            ]
          },
          "metadata": {
            "tags": []
          },
          "execution_count": 16
        },
        {
          "output_type": "display_data",
          "data": {
            "image/png": "[encoded data removed]",
            "text/plain": [
              "<Figure size 432x288 with 1 Axes>"
            ]
          },
          "metadata": {
            "tags": [],
            "needs_background": "light"
          }
        }
      ]
    },
    {
      "cell_type": "code",
      "metadata": {
        "id": "y_aNK7kr0VjV",
        "colab": {
          "base_uri": "https://localhost:8080/"
        },
        "outputId": "edea6fab-2d52-42c1-db1b-5fde3cc7736c"
      },
      "source": [
        "print(xg_cl_strat.predict_proba(scaled_test_df))"
      ],
      "execution_count": 17,
      "outputs": [
        {
          "output_type": "stream",
          "text": [
            "[[0.86458224 0.13541774]\n",
            " [0.77518976 0.22481021]\n",
            " [0.8030861  0.19691391]\n",
            " ...\n",
            " [0.83764976 0.16235024]\n",
            " [0.7403462  0.25965378]\n",
            " [0.79056346 0.20943655]]\n"
          ],
          "name": "stdout"
        }
      ]
    },
    {
      "cell_type": "markdown",
      "metadata": {
        "id": "_JaYxeHYKGup"
      },
      "source": [
        "# Light GBM"
      ]
    },
    {
      "cell_type": "code",
      "metadata": {
        "id": "RotWfaYvFQ91"
      },
      "source": [
        "def evaluate_macroF1_lgb(truth, predictions):  \n",
        "    pred_labels = predictions.reshape(len(np.unique(truth)),-1).argmax(axis=0)\n",
        "    f1 = f1_score(truth, pred_labels, average='macro')\n",
        "    return ('macroF1', f1, True)"
      ],
      "execution_count": null,
      "outputs": []
    },
    {
      "cell_type": "code",
      "metadata": {
        "colab": {
          "base_uri": "https://localhost:8080/"
        },
        "id": "m9Cf3iL6KFUa",
        "outputId": "321782ae-fc0e-477e-82c3-2101c15024fa"
      },
      "source": [
        "clf = lgb.LGBMClassifier(n_estimators=100)\n",
        "%time clf.fit(KNN_imputed_trainX, train_y, eval_metric=evaluate_macroF1_lgb)"
      ],
      "execution_count": null,
      "outputs": [
        {
          "output_type": "stream",
          "text": [
            "CPU times: user 10.2 s, sys: 46.8 ms, total: 10.2 s\n",
            "Wall time: 5.44 s\n"
          ],
          "name": "stdout"
        },
        {
          "output_type": "execute_result",
          "data": {
            "text/plain": [
              "LGBMClassifier(boosting_type='gbdt', class_weight=None, colsample_bytree=1.0,\n",
              "               importance_type='split', learning_rate=0.1, max_depth=-1,\n",
              "               min_child_samples=20, min_child_weight=0.001, min_split_gain=0.0,\n",
              "               n_estimators=100, n_jobs=-1, num_leaves=31, objective=None,\n",
              "               random_state=None, reg_alpha=0.0, reg_lambda=0.0, silent=True,\n",
              "               subsample=1.0, subsample_for_bin=200000, subsample_freq=0)"
            ]
          },
          "metadata": {
            "tags": []
          },
          "execution_count": 59
        }
      ]
    },
    {
      "cell_type": "code",
      "metadata": {
        "colab": {
          "base_uri": "https://localhost:8080/"
        },
        "id": "D_EHLDCNIcGN",
        "outputId": "cad28844-b04b-4b90-aba0-929e73eed5c1"
      },
      "source": [
        "lgb_y_train_pred=clf.predict(KNN_imputed_trainX)\n",
        "print(\"Train accuracy = {}\".format(accuracy_score(train_y,lgb_y_train_pred)))"
      ],
      "execution_count": null,
      "outputs": [
        {
          "output_type": "stream",
          "text": [
            "Train accuracy = 0.7843649459783913\n"
          ],
          "name": "stdout"
        }
      ]
    },
    {
      "cell_type": "code",
      "metadata": {
        "colab": {
          "base_uri": "https://localhost:8080/",
          "height": 282
        },
        "id": "1V1du9zQJtFR",
        "outputId": "b201148b-1394-47f4-b15a-ef575960c95c"
      },
      "source": [
        "sns.countplot(lgb_y_train_pred)"
      ],
      "execution_count": null,
      "outputs": [
        {
          "output_type": "execute_result",
          "data": {
            "text/plain": [
              "<matplotlib.axes._subplots.AxesSubplot at 0x7fe3d5143f10>"
            ]
          },
          "metadata": {
            "tags": []
          },
          "execution_count": 73
        },
        {
          "output_type": "display_data",
          "data": {
            "image/png": "[encoded data removed]",
            "text/plain": [
              "<Figure size 432x288 with 1 Axes>"
            ]
          },
          "metadata": {
            "tags": [],
            "needs_background": "light"
          }
        }
      ]
    },
    {
      "cell_type": "code",
      "metadata": {
        "id": "7rCIb3LAL88Q"
      },
      "source": [
        "# predict the results\n",
        "lgb_y_pred=clf.predict(KNN_imputed_testX)"
      ],
      "execution_count": null,
      "outputs": []
    },
    {
      "cell_type": "code",
      "metadata": {
        "colab": {
          "base_uri": "https://localhost:8080/",
          "height": 297
        },
        "id": "Jm84MC-dDI4Q",
        "outputId": "b361080b-35ca-4fea-fbde-dae86d29be8e"
      },
      "source": [
        "sns.countplot(test_y)"
      ],
      "execution_count": null,
      "outputs": [
        {
          "output_type": "execute_result",
          "data": {
            "text/plain": [
              "<matplotlib.axes._subplots.AxesSubplot at 0x7fe3de6ea4d0>"
            ]
          },
          "metadata": {
            "tags": []
          },
          "execution_count": 62
        },
        {
          "output_type": "display_data",
          "data": {
            "image/png": "[encoded data removed]",
            "text/plain": [
              "<Figure size 432x288 with 1 Axes>"
            ]
          },
          "metadata": {
            "tags": [],
            "needs_background": "light"
          }
        }
      ]
    },
    {
      "cell_type": "code",
      "metadata": {
        "colab": {
          "base_uri": "https://localhost:8080/",
          "height": 282
        },
        "id": "55g7wzfBIWew",
        "outputId": "003008ad-b9b4-4282-b245-526088188b69"
      },
      "source": [
        "sns.countplot(lgb_y_pred)"
      ],
      "execution_count": null,
      "outputs": [
        {
          "output_type": "execute_result",
          "data": {
            "text/plain": [
              "<matplotlib.axes._subplots.AxesSubplot at 0x7fe3de120650>"
            ]
          },
          "metadata": {
            "tags": []
          },
          "execution_count": 63
        },
        {
          "output_type": "display_data",
          "data": {
            "image/png": "[encoded data removed]",
            "text/plain": [
              "<Figure size 432x288 with 1 Axes>"
            ]
          },
          "metadata": {
            "tags": [],
            "needs_background": "light"
          }
        }
      ]
    },
    {
      "cell_type": "code",
      "metadata": {
        "colab": {
          "base_uri": "https://localhost:8080/"
        },
        "id": "QUQYSEb_9-VH",
        "outputId": "053ac3ac-8683-498d-f102-ed526dc2c468"
      },
      "source": [
        "print(classification_report(test_y, lgb_y_pred, labels=[0,1]))"
      ],
      "execution_count": null,
      "outputs": [
        {
          "output_type": "stream",
          "text": [
            "              precision    recall  f1-score   support\n",
            "\n",
            "           0       0.78      1.00      0.88     20388\n",
            "           1       0.14      0.00      0.00      5644\n",
            "\n",
            "    accuracy                           0.78     26032\n",
            "   macro avg       0.46      0.50      0.44     26032\n",
            "weighted avg       0.64      0.78      0.69     26032\n",
            "\n"
          ],
          "name": "stdout"
        }
      ]
    },
    {
      "cell_type": "code",
      "metadata": {
        "colab": {
          "base_uri": "https://localhost:8080/"
        },
        "id": "Jb1B0R9FMJba",
        "outputId": "55fbe817-3ce3-4aa7-a09f-df30369b7629"
      },
      "source": [
        "lgb_accuracy=accuracy_score(lgb_y_pred, test_y)\n",
        "print('LightGBM Model accuracy score: {0:0.4f}'.format(lgb_accuracy))"
      ],
      "execution_count": null,
      "outputs": [
        {
          "output_type": "stream",
          "text": [
            "LightGBM Model accuracy score: 0.7830\n"
          ],
          "name": "stdout"
        }
      ]
    },
    {
      "cell_type": "code",
      "metadata": {
        "colab": {
          "base_uri": "https://localhost:8080/",
          "height": 309
        },
        "id": "V-zMXu_i-uPJ",
        "outputId": "0eb1d0cd-408c-4837-f64b-de2294a966c1"
      },
      "source": [
        "#show confusion matrix\n",
        "cm = confusion_matrix(test_y, lgb_y_pred)\n",
        "plt.figure(figsize=(5,5))\n",
        "sns.heatmap(cm, annot=True, fmt=\".3f\", linewidths=.5, square = True, cmap = 'Blues_r');\n",
        "plt.ylabel('Actual label');\n",
        "plt.xlabel('Predicted label');\n",
        "all_sample_title = 'LGBM Accuracy Score: {0:.3f}'.format(lgb_accuracy)\n",
        "plt.title(all_sample_title, size = 15);"
      ],
      "execution_count": null,
      "outputs": [
        {
          "output_type": "display_data",
          "data": {
            "image/png": "[encoded data removed]",
            "text/plain": [
              "<Figure size 360x360 with 2 Axes>"
            ]
          },
          "metadata": {
            "tags": [],
            "needs_background": "light"
          }
        }
      ]
    },
    {
      "cell_type": "code",
      "metadata": {
        "colab": {
          "base_uri": "https://localhost:8080/",
          "height": 369
        },
        "id": "4gMCHuB7AJVf",
        "outputId": "7d9c7e6c-af90-44b8-a4b2-f86d57c4e70c"
      },
      "source": [
        "feature_imp = pd.DataFrame(sorted(zip(clf.feature_importances_[:10],KNN_imputed_trainX.columns)), columns=['Value','Feature'])\n",
        "\n",
        "plt.figure(figsize=(10, 5))\n",
        "sns.barplot(x=\"Value\", y=\"Feature\", data=feature_imp.sort_values(by=\"Value\", ascending=False))\n",
        "plt.title('LightGBM Features')\n",
        "plt.tight_layout()\n",
        "plt.show()"
      ],
      "execution_count": null,
      "outputs": [
        {
          "output_type": "display_data",
          "data": {
            "image/png": "[encoded data removed]",
            "text/plain": [
              "<Figure size 720x360 with 1 Axes>"
            ]
          },
          "metadata": {
            "tags": [],
            "needs_background": "light"
          }
        }
      ]
    },
    {
      "cell_type": "markdown",
      "metadata": {
        "id": "cjomW_JDQJcc"
      },
      "source": [
        "### Light GBM on the principal componenets"
      ]
    },
    {
      "cell_type": "code",
      "metadata": {
        "colab": {
          "base_uri": "https://localhost:8080/"
        },
        "id": "HQLNFPXRQJcc",
        "outputId": "8e74e664-59e8-49cf-ab1b-61f7c2364383"
      },
      "source": [
        "lgbm_pca = lgb.LGBMClassifier(n_estimators=100)\n",
        "%time lgbm_pca.fit(pca_97per_train, train_y)"
      ],
      "execution_count": null,
      "outputs": [
        {
          "output_type": "stream",
          "text": [
            "CPU times: user 7.68 s, sys: 34.4 ms, total: 7.72 s\n",
            "Wall time: 4.16 s\n"
          ],
          "name": "stdout"
        },
        {
          "output_type": "execute_result",
          "data": {
            "text/plain": [
              "LGBMClassifier(boosting_type='gbdt', class_weight=None, colsample_bytree=1.0,\n",
              "               importance_type='split', learning_rate=0.1, max_depth=-1,\n",
              "               min_child_samples=20, min_child_weight=0.001, min_split_gain=0.0,\n",
              "               n_estimators=100, n_jobs=-1, num_leaves=31, objective=None,\n",
              "               random_state=None, reg_alpha=0.0, reg_lambda=0.0, silent=True,\n",
              "               subsample=1.0, subsample_for_bin=200000, subsample_freq=0)"
            ]
          },
          "metadata": {
            "tags": []
          },
          "execution_count": 79
        }
      ]
    },
    {
      "cell_type": "code",
      "metadata": {
        "id": "V1gRUWo1QJcd"
      },
      "source": [
        "# predict the results\n",
        "lgb_pca_y_pred=lgbm_pca.predict(pca_97per_test)"
      ],
      "execution_count": null,
      "outputs": []
    },
    {
      "cell_type": "code",
      "metadata": {
        "colab": {
          "base_uri": "https://localhost:8080/"
        },
        "id": "0DlcnPJNQJcd",
        "outputId": "2dcce2b0-bc43-41d4-f789-f449a22c6d0a"
      },
      "source": [
        "lgb_pca_accuracy=accuracy_score(lgb_pca_y_pred, test_y)\n",
        "print('LightGBM Model accuracy score: {0:0.4f}'.format(lgb_pca_accuracy))"
      ],
      "execution_count": null,
      "outputs": [
        {
          "output_type": "stream",
          "text": [
            "LightGBM Model accuracy score: 0.7810\n"
          ],
          "name": "stdout"
        }
      ]
    },
    {
      "cell_type": "code",
      "metadata": {
        "colab": {
          "base_uri": "https://localhost:8080/",
          "height": 282
        },
        "id": "M9tFoYaJO-du",
        "outputId": "ff0d1af8-b1e2-49a9-e08b-0d3329ea7b21"
      },
      "source": [
        "sns.countplot(lgb_pca_y_pred)"
      ],
      "execution_count": null,
      "outputs": [
        {
          "output_type": "execute_result",
          "data": {
            "text/plain": [
              "<matplotlib.axes._subplots.AxesSubplot at 0x7fe3d4da9490>"
            ]
          },
          "metadata": {
            "tags": []
          },
          "execution_count": 82
        },
        {
          "output_type": "display_data",
          "data": {
            "image/png": "[encoded data removed]",
            "text/plain": [
              "<Figure size 432x288 with 1 Axes>"
            ]
          },
          "metadata": {
            "tags": [],
            "needs_background": "light"
          }
        }
      ]
    }
  ]
}