{
  "nbformat": 4,
  "nbformat_minor": 0,
  "metadata": {
    "colab": {
      "name": "Copy of diabetes_models.ipynb",
      "provenance": [],
      "collapsed_sections": [],
      "include_colab_link": true
    },
    "kernelspec": {
      "name": "python3",
      "display_name": "Python 3"
    },
    "language_info": {
      "name": "python"
    },
    "accelerator": "TPU"
  },
  "cells": [
    {
      "cell_type": "markdown",
      "metadata": {
        "id": "view-in-github",
        "colab_type": "text"
      },
      "source": [
        "<a href=\"https://colab.research.google.com/github/bvchand/Diabetes-detection-in-ICU-patients/blob/main/final_diabetes_models.ipynb\" target=\"_parent\"><img src=\"https://colab.research.google.com/assets/colab-badge.svg\" alt=\"Open In Colab\"/></a>"
      ]
    },
    {
      "cell_type": "code",
      "metadata": {
        "id": "Qzv4fwuZWhGz",
        "colab": {
          "base_uri": "https://localhost:8080/"
        },
        "outputId": "23f8aef0-533b-41c1-c371-590f1a89bae1"
      },
      "source": [
        "import sqlite3\n",
        "import pickle\n",
        "import pandas as pd\n",
        "import seaborn as sns\n",
        "import numpy as np\n",
        "import matplotlib.pyplot as plt\n",
        "from sklearn.ensemble import RandomForestClassifier\n",
        "from sklearn.model_selection import train_test_split, GridSearchCV , RandomizedSearchCV, RepeatedStratifiedKFold, cross_val_score\n",
        "from sklearn.preprocessing import LabelEncoder, LabelBinarizer, StandardScaler\n",
        "from fancyimpute import IterativeImputer\n",
        "from sklearn.impute import KNNImputer\n",
        "from sklearn.decomposition import PCA\n",
        "from xgboost.sklearn import XGBClassifier\n",
        "from sklearn.metrics import roc_auc_score, classification_report\n",
        "from sklearn.linear_model import LogisticRegression\n",
        "from sklearn.pipeline import Pipeline\n",
        "from matplotlib import pyplot\n",
        "from sklearn.svm import SVC\n",
        "from sklearn.pipeline import make_pipeline\n",
        "from sklearn.metrics import accuracy_score, confusion_matrix\n",
        "import lightgbm as lgb\n",
        "import xgboost as xgb\n",
        "from sklearn.naive_bayes import MultinomialNB\n",
        "from sklearn.preprocessing import MinMaxScaler\n",
        "import warnings\n",
        "warnings.filterwarnings(\"ignore\")"
      ],
      "execution_count": 1,
      "outputs": [
        {
          "output_type": "stream",
          "text": [
            "/usr/local/lib/python3.7/dist-packages/sklearn/externals/six.py:31: FutureWarning: The module is deprecated in version 0.21 and will be removed in version 0.23 since we've dropped support for Python 2.7. Please rely on the official version of six (https://pypi.org/project/six/).\n",
            "  \"(https://pypi.org/project/six/).\", FutureWarning)\n"
          ],
          "name": "stderr"
        }
      ]
    },
    {
      "cell_type": "code",
      "metadata": {
        "id": "nCyuyKjTXUPd",
        "colab": {
          "base_uri": "https://localhost:8080/"
        },
        "outputId": "1e9dc1bd-73c3-4914-8eee-b6ae35ef20c8"
      },
      "source": [
        "from google.colab import drive\n",
        "drive.mount('/content/drive', force_remount=True)"
      ],
      "execution_count": 2,
      "outputs": [
        {
          "output_type": "stream",
          "text": [
            "Mounted at /content/drive\n"
          ],
          "name": "stdout"
        }
      ]
    },
    {
      "cell_type": "code",
      "metadata": {
        "id": "dI2iRXDFXV7N",
        "colab": {
          "base_uri": "https://localhost:8080/"
        },
        "outputId": "1b52eca5-adcb-4c1e-f36f-43751bda7997"
      },
      "source": [
        "cd '/content/drive/Shareddrives/CMPE-255_Project/widsdatathon2021'"
      ],
      "execution_count": 3,
      "outputs": [
        {
          "output_type": "stream",
          "text": [
            "/content/drive/Shareddrives/CMPE-255_Project/widsdatathon2021\n"
          ],
          "name": "stdout"
        }
      ]
    },
    {
      "cell_type": "code",
      "metadata": {
        "id": "iLyBD0lZW3N_"
      },
      "source": [
        "#Load all pickled data\n",
        "KNN_imputed_trainX = pickle.load(open(\"KNN_imputed_trainX_70.pkl\", \"rb\"))\n",
        "KNN_imputed_testX_df = pickle.load(open(\"KNN_imputed_testX_df_70.pkl\", \"rb\"))\n",
        "train_y = pickle.load(open(\"diabetes_train_y.pkl\", \"rb\"))\n",
        "test_y = pickle.load(open(\"diabetes_test_y.pkl\", \"rb\"))\n",
        "\n",
        "pca_95per_train = pickle.load(open(\"pca_95per_train_70.pkl\", \"rb\"))\n",
        "pca_97per_train = pickle.load(open(\"pca_97per_train_70.pkl\", \"rb\"))\n",
        "pca_99per_train = pickle.load(open(\"pca_99per_train_70.pkl\", \"rb\"))\n",
        "\n",
        "pca_95per_test = pickle.load(open(\"pca_95per_test_70.pkl\", \"rb\"))\n",
        "pca_97per_test = pickle.load(open(\"pca_97per_test_70.pkl\", \"rb\"))\n",
        "pca_99per_test = pickle.load(open(\"pca_99per_test_70.pkl\", \"rb\"))"
      ],
      "execution_count": 24,
      "outputs": []
    },
    {
      "cell_type": "code",
      "metadata": {
        "id": "usJ2UgxzbCyW"
      },
      "source": [
        "#standardize data\n",
        "scaler = StandardScaler()\n",
        "scaled_df = scaler.fit_transform(KNN_imputed_trainX)\n",
        "scaled_test_df = scaler.fit_transform(KNN_imputed_testX_df)"
      ],
      "execution_count": 5,
      "outputs": []
    },
    {
      "cell_type": "markdown",
      "metadata": {
        "id": "FguFhz11wj45"
      },
      "source": [
        "# Random Forest Classifier"
      ]
    },
    {
      "cell_type": "code",
      "metadata": {
        "id": "Jhf4wf31xPr_",
        "colab": {
          "base_uri": "https://localhost:8080/"
        },
        "outputId": "3a44abee-96b6-4710-c8ec-251b5fa8029f"
      },
      "source": [
        "from sklearn.ensemble import RandomForestClassifier\n",
        "import time\n",
        "from sklearn.metrics import accuracy_score\n",
        "RF_Cl=RandomForestClassifier(n_estimators=200)\n",
        "start = time.time()\n",
        "RF_Cl.fit(scaled_df,train_y) #training\n",
        "end = time.time()\n",
        "print(\"Time taken to train data with RFC in seconds :\",end-start)"
      ],
      "execution_count": null,
      "outputs": [
        {
          "output_type": "stream",
          "text": [
            "Time taken to train data with RFC in seconds : 194.90589928627014\n"
          ],
          "name": "stdout"
        }
      ]
    },
    {
      "cell_type": "code",
      "metadata": {
        "id": "lZBxnvb2z_f9",
        "colab": {
          "base_uri": "https://localhost:8080/"
        },
        "outputId": "361e0a57-0f16-4077-ed44-c83ce8d5ede7"
      },
      "source": [
        "RF_Cl.get_params"
      ],
      "execution_count": null,
      "outputs": [
        {
          "output_type": "execute_result",
          "data": {
            "text/plain": [
              "<bound method BaseEstimator.get_params of RandomForestClassifier(bootstrap=True, ccp_alpha=0.0, class_weight=None,\n",
              "                       criterion='gini', max_depth=None, max_features='auto',\n",
              "                       max_leaf_nodes=None, max_samples=None,\n",
              "                       min_impurity_decrease=0.0, min_impurity_split=None,\n",
              "                       min_samples_leaf=1, min_samples_split=2,\n",
              "                       min_weight_fraction_leaf=0.0, n_estimators=200,\n",
              "                       n_jobs=None, oob_score=False, random_state=None,\n",
              "                       verbose=0, warm_start=False)>"
            ]
          },
          "metadata": {
            "tags": []
          },
          "execution_count": 16
        }
      ]
    },
    {
      "cell_type": "code",
      "metadata": {
        "id": "V_1acbIOyKhT"
      },
      "source": [
        "y_pred = RF_Cl.predict(scaled_test_df) #predicting on the test set"
      ],
      "execution_count": null,
      "outputs": []
    },
    {
      "cell_type": "code",
      "metadata": {
        "id": "j4Q09iEvypEE",
        "colab": {
          "base_uri": "https://localhost:8080/"
        },
        "outputId": "d5b25920-a753-4ee8-b83e-3977b83d7cf5"
      },
      "source": [
        "from sklearn import metrics\n",
        "rfc_test_score = metrics.accuracy_score(test_y, y_pred)\n",
        "print(\"Accuracy of RFC model:\",rfc_test_score)"
      ],
      "execution_count": null,
      "outputs": [
        {
          "output_type": "stream",
          "text": [
            "Accuracy of RFC model: 0.7715888137676705\n"
          ],
          "name": "stdout"
        }
      ]
    },
    {
      "cell_type": "code",
      "metadata": {
        "colab": {
          "base_uri": "https://localhost:8080/",
          "height": 282
        },
        "id": "QRqwiksb9q6I",
        "outputId": "b85efb04-a111-4c39-abc7-30b511d4f16b"
      },
      "source": [
        "sns.countplot(y_pred)"
      ],
      "execution_count": null,
      "outputs": [
        {
          "output_type": "execute_result",
          "data": {
            "text/plain": [
              "<matplotlib.axes._subplots.AxesSubplot at 0x7f7909148890>"
            ]
          },
          "metadata": {
            "tags": []
          },
          "execution_count": 19
        },
        {
          "output_type": "display_data",
          "data": {
            "image/png": "[encoded data removed]",
            "text/plain": [
              "<Figure size 432x288 with 1 Axes>"
            ]
          },
          "metadata": {
            "tags": [],
            "needs_background": "light"
          }
        }
      ]
    },
    {
      "cell_type": "code",
      "metadata": {
        "colab": {
          "base_uri": "https://localhost:8080/",
          "height": 308
        },
        "id": "Qns93Wf7-eSc",
        "outputId": "5aff3161-0bda-4fa5-ddcf-43c7a8ff9e76"
      },
      "source": [
        "#show confusion matrix\n",
        "cm = confusion_matrix(test_y, y_pred)\n",
        "plt.figure(figsize=(5,5))\n",
        "sns.heatmap(cm, annot=True, fmt=\".3f\", linewidths=.5, square = True, cmap = 'Blues_r');\n",
        "plt.ylabel('Actual label');\n",
        "plt.xlabel('Predicted label');\n",
        "all_sample_title = 'Accuracy Score: {0:.4f}'.format(rfc_test_score)\n",
        "plt.title(all_sample_title, size = 15);"
      ],
      "execution_count": null,
      "outputs": [
        {
          "output_type": "display_data",
          "data": {
            "image/png": "[encoded data removed]",
            "text/plain": [
              "<Figure size 360x360 with 2 Axes>"
            ]
          },
          "metadata": {
            "tags": [],
            "needs_background": "light"
          }
        }
      ]
    },
    {
      "cell_type": "markdown",
      "metadata": {
        "id": "IfZz9Yzuq0Ch"
      },
      "source": [
        "# XGB"
      ]
    },
    {
      "cell_type": "code",
      "metadata": {
        "id": "0QnCNtUnraxy"
      },
      "source": [
        "xg_cl = xgb.XGBClassifier(learning_rate = 0.1,max_depth = 5, alpha = 10, n_estimators = 100)\n",
        "xg_cl.fit(scaled_df,train_y)\n",
        "preds = xg_cl.predict(scaled_test_df)"
      ],
      "execution_count": null,
      "outputs": []
    },
    {
      "cell_type": "code",
      "metadata": {
        "colab": {
          "base_uri": "https://localhost:8080/",
          "height": 283
        },
        "id": "NsmvkoIs1VGf",
        "outputId": "d4c7f974-8e30-401a-c09a-cbdd335727bc"
      },
      "source": [
        "sns.countplot(preds)"
      ],
      "execution_count": null,
      "outputs": [
        {
          "output_type": "execute_result",
          "data": {
            "text/plain": [
              "<matplotlib.axes._subplots.AxesSubplot at 0x7f7911ad2350>"
            ]
          },
          "metadata": {
            "tags": []
          },
          "execution_count": 8
        },
        {
          "output_type": "display_data",
          "data": {
            "image/png": "[encoded data removed]",
            "text/plain": [
              "<Figure size 432x288 with 1 Axes>"
            ]
          },
          "metadata": {
            "tags": [],
            "needs_background": "light"
          }
        }
      ]
    },
    {
      "cell_type": "code",
      "metadata": {
        "id": "y_aNK7kr0VjV",
        "colab": {
          "base_uri": "https://localhost:8080/"
        },
        "outputId": "57966d5d-ea1e-414b-f795-b3472173e78b"
      },
      "source": [
        "from sklearn import metrics\n",
        "xgb_accuracy = metrics.accuracy_score(test_y, preds)\n",
        "print(\"Accuracy of XGB model:\",xgb_accuracy)"
      ],
      "execution_count": null,
      "outputs": [
        {
          "output_type": "stream",
          "text": [
            "Accuracy of XGB model: 0.7575676090964967\n"
          ],
          "name": "stdout"
        }
      ]
    },
    {
      "cell_type": "code",
      "metadata": {
        "colab": {
          "base_uri": "https://localhost:8080/",
          "height": 308
        },
        "id": "5TAXg-181s7W",
        "outputId": "3a8ea2ec-aa2b-4a0e-c1a6-89c66e767bcc"
      },
      "source": [
        "#show confusion matrix\n",
        "cm = confusion_matrix(test_y, preds)\n",
        "plt.figure(figsize=(5,5))\n",
        "sns.heatmap(cm, annot=True, fmt=\".3f\", linewidths=.5, square = True, cmap = 'Blues_r');\n",
        "plt.ylabel('Actual label');\n",
        "plt.xlabel('Predicted label');\n",
        "all_sample_title = 'Accuracy Score: {0:.4f}'.format(xgb_accuracy)\n",
        "plt.title(all_sample_title, size = 15);"
      ],
      "execution_count": null,
      "outputs": [
        {
          "output_type": "display_data",
          "data": {
            "image/png": "[encoded data removed]",
            "text/plain": [
              "<Figure size 360x360 with 2 Axes>"
            ]
          },
          "metadata": {
            "tags": [],
            "needs_background": "light"
          }
        }
      ]
    },
    {
      "cell_type": "markdown",
      "metadata": {
        "id": "_JaYxeHYKGup"
      },
      "source": [
        "# Light GBM"
      ]
    },
    {
      "cell_type": "code",
      "metadata": {
        "colab": {
          "base_uri": "https://localhost:8080/"
        },
        "id": "m9Cf3iL6KFUa",
        "outputId": "425bd500-48a8-49cc-8f0b-74766e51d997"
      },
      "source": [
        "clf = lgb.LGBMClassifier(n_estimators=100)\n",
        "%time clf.fit(scaled_df, train_y)"
      ],
      "execution_count": null,
      "outputs": [
        {
          "output_type": "stream",
          "text": [
            "CPU times: user 13.8 s, sys: 264 ms, total: 14.1 s\n",
            "Wall time: 14.1 s\n"
          ],
          "name": "stdout"
        },
        {
          "output_type": "execute_result",
          "data": {
            "text/plain": [
              "LGBMClassifier(boosting_type='gbdt', class_weight=None, colsample_bytree=1.0,\n",
              "               importance_type='split', learning_rate=0.1, max_depth=-1,\n",
              "               min_child_samples=20, min_child_weight=0.001, min_split_gain=0.0,\n",
              "               n_estimators=100, n_jobs=-1, num_leaves=31, objective=None,\n",
              "               random_state=None, reg_alpha=0.0, reg_lambda=0.0, silent=True,\n",
              "               subsample=1.0, subsample_for_bin=200000, subsample_freq=0)"
            ]
          },
          "metadata": {
            "tags": []
          },
          "execution_count": 23
        }
      ]
    },
    {
      "cell_type": "code",
      "metadata": {
        "id": "7rCIb3LAL88Q"
      },
      "source": [
        "# predict the results\n",
        "lgb_y_pred=clf.predict(scaled_test_df)"
      ],
      "execution_count": null,
      "outputs": []
    },
    {
      "cell_type": "code",
      "metadata": {
        "colab": {
          "base_uri": "https://localhost:8080/"
        },
        "id": "Jb1B0R9FMJba",
        "outputId": "0d1fbcf6-9287-4de0-bee9-b8fc556bd6e3"
      },
      "source": [
        "lgb_accuracy=accuracy_score(lgb_y_pred, test_y)\n",
        "print('LightGBM Model accuracy score: {0:0.4f}'.format(lgb_accuracy))"
      ],
      "execution_count": null,
      "outputs": [
        {
          "output_type": "stream",
          "text": [
            "LightGBM Model accuracy score: 0.7330\n"
          ],
          "name": "stdout"
        }
      ]
    },
    {
      "cell_type": "code",
      "metadata": {
        "colab": {
          "base_uri": "https://localhost:8080/",
          "height": 282
        },
        "id": "ebxOSWC65KHU",
        "outputId": "b8c47d86-3190-4ea7-fcdd-753ee5bab251"
      },
      "source": [
        "sns.countplot(lgb_y_pred)"
      ],
      "execution_count": null,
      "outputs": [
        {
          "output_type": "execute_result",
          "data": {
            "text/plain": [
              "<matplotlib.axes._subplots.AxesSubplot at 0x7f790901f110>"
            ]
          },
          "metadata": {
            "tags": []
          },
          "execution_count": 26
        },
        {
          "output_type": "display_data",
          "data": {
            "image/png": "[encoded data removed]",
            "text/plain": [
              "<Figure size 432x288 with 1 Axes>"
            ]
          },
          "metadata": {
            "tags": [],
            "needs_background": "light"
          }
        }
      ]
    },
    {
      "cell_type": "code",
      "metadata": {
        "colab": {
          "base_uri": "https://localhost:8080/",
          "height": 310
        },
        "id": "IQELyrzS5RMi",
        "outputId": "6145b9a8-1d28-4abc-ae31-506bad63777b"
      },
      "source": [
        "#show confusion matrix\n",
        "cm = confusion_matrix(test_y, lgb_y_pred)\n",
        "plt.figure(figsize=(5,5))\n",
        "sns.heatmap(cm, annot=True, fmt=\".3f\", linewidths=.5, square = True, cmap = 'Blues_r');\n",
        "plt.ylabel('Actual label');\n",
        "plt.xlabel('Predicted label');\n",
        "all_sample_title = 'Accuracy Score: {0:.4f}'.format(lgb_accuracy)\n",
        "plt.title(all_sample_title, size = 15);"
      ],
      "execution_count": null,
      "outputs": [
        {
          "output_type": "display_data",
          "data": {
            "image/png": "[encoded data removed]",
            "text/plain": [
              "<Figure size 360x360 with 2 Axes>"
            ]
          },
          "metadata": {
            "tags": [],
            "needs_background": "light"
          }
        }
      ]
    },
    {
      "cell_type": "code",
      "metadata": {
        "colab": {
          "base_uri": "https://localhost:8080/"
        },
        "id": "1XLYQCMS-_ud",
        "outputId": "0546d4a8-cd39-453d-e15a-9e1327412b9c"
      },
      "source": [
        "print(classification_report(test_y, lgb_y_pred))"
      ],
      "execution_count": null,
      "outputs": [
        {
          "output_type": "stream",
          "text": [
            "              precision    recall  f1-score   support\n",
            "\n",
            "           0       0.79      0.89      0.84     20388\n",
            "           1       0.29      0.15      0.20      5644\n",
            "\n",
            "    accuracy                           0.73     26032\n",
            "   macro avg       0.54      0.52      0.52     26032\n",
            "weighted avg       0.68      0.73      0.70     26032\n",
            "\n"
          ],
          "name": "stdout"
        }
      ]
    },
    {
      "cell_type": "markdown",
      "metadata": {
        "id": "Y-UvWK9IbscF"
      },
      "source": [
        "# Keras Classifier"
      ]
    },
    {
      "cell_type": "code",
      "metadata": {
        "colab": {
          "base_uri": "https://localhost:8080/",
          "height": 426
        },
        "id": "9AnOYidC5hST",
        "outputId": "2f422aea-929f-4962-b2e8-0a1051c5a779"
      },
      "source": [
        "KNN_imputed_trainX"
      ],
      "execution_count": null,
      "outputs": [
        {
          "output_type": "execute_result",
          "data": {
            "text/html": [
              "<div>\n",
              "<style scoped>\n",
              "    .dataframe tbody tr th:only-of-type {\n",
              "        vertical-align: middle;\n",
              "    }\n",
              "\n",
              "    .dataframe tbody tr th {\n",
              "        vertical-align: top;\n",
              "    }\n",
              "\n",
              "    .dataframe thead th {\n",
              "        text-align: right;\n",
              "    }\n",
              "</style>\n",
              "<table border=\"1\" class=\"dataframe\">\n",
              "  <thead>\n",
              "    <tr style=\"text-align: right;\">\n",
              "      <th></th>\n",
              "      <th>age</th>\n",
              "      <th>bmi</th>\n",
              "      <th>ethnicity</th>\n",
              "      <th>gender</th>\n",
              "      <th>height</th>\n",
              "      <th>hospital_admit_source</th>\n",
              "      <th>icu_admit_source</th>\n",
              "      <th>pre_icu_los_days</th>\n",
              "      <th>weight</th>\n",
              "      <th>albumin_apache</th>\n",
              "      <th>apache_3j_diagnosis</th>\n",
              "      <th>apache_post_operative</th>\n",
              "      <th>arf_apache</th>\n",
              "      <th>bilirubin_apache</th>\n",
              "      <th>bun_apache</th>\n",
              "      <th>creatinine_apache</th>\n",
              "      <th>gcs_eyes_apache</th>\n",
              "      <th>gcs_motor_apache</th>\n",
              "      <th>gcs_unable_apache</th>\n",
              "      <th>gcs_verbal_apache</th>\n",
              "      <th>glucose_apache</th>\n",
              "      <th>heart_rate_apache</th>\n",
              "      <th>hematocrit_apache</th>\n",
              "      <th>intubated_apache</th>\n",
              "      <th>map_apache</th>\n",
              "      <th>resprate_apache</th>\n",
              "      <th>sodium_apache</th>\n",
              "      <th>temp_apache</th>\n",
              "      <th>urineoutput_apache</th>\n",
              "      <th>ventilated_apache</th>\n",
              "      <th>wbc_apache</th>\n",
              "      <th>d1_diasbp_max</th>\n",
              "      <th>d1_diasbp_min</th>\n",
              "      <th>d1_diasbp_noninvasive_max</th>\n",
              "      <th>d1_diasbp_noninvasive_min</th>\n",
              "      <th>d1_heartrate_max</th>\n",
              "      <th>d1_heartrate_min</th>\n",
              "      <th>d1_mbp_max</th>\n",
              "      <th>d1_mbp_min</th>\n",
              "      <th>d1_mbp_noninvasive_max</th>\n",
              "      <th>...</th>\n",
              "      <th>h1_temp_max</th>\n",
              "      <th>h1_temp_min</th>\n",
              "      <th>d1_albumin_max</th>\n",
              "      <th>d1_albumin_min</th>\n",
              "      <th>d1_bilirubin_max</th>\n",
              "      <th>d1_bilirubin_min</th>\n",
              "      <th>d1_bun_max</th>\n",
              "      <th>d1_bun_min</th>\n",
              "      <th>d1_calcium_max</th>\n",
              "      <th>d1_calcium_min</th>\n",
              "      <th>d1_creatinine_max</th>\n",
              "      <th>d1_creatinine_min</th>\n",
              "      <th>d1_glucose_max</th>\n",
              "      <th>d1_glucose_min</th>\n",
              "      <th>d1_hco3_max</th>\n",
              "      <th>d1_hco3_min</th>\n",
              "      <th>d1_hemaglobin_max</th>\n",
              "      <th>d1_hemaglobin_min</th>\n",
              "      <th>d1_hematocrit_max</th>\n",
              "      <th>d1_hematocrit_min</th>\n",
              "      <th>d1_inr_max</th>\n",
              "      <th>d1_inr_min</th>\n",
              "      <th>d1_platelets_max</th>\n",
              "      <th>d1_platelets_min</th>\n",
              "      <th>d1_potassium_max</th>\n",
              "      <th>d1_potassium_min</th>\n",
              "      <th>d1_sodium_max</th>\n",
              "      <th>d1_sodium_min</th>\n",
              "      <th>d1_wbc_max</th>\n",
              "      <th>d1_wbc_min</th>\n",
              "      <th>h1_glucose_max</th>\n",
              "      <th>h1_glucose_min</th>\n",
              "      <th>h1_inr_max</th>\n",
              "      <th>h1_inr_min</th>\n",
              "      <th>d1_arterial_pco2_max</th>\n",
              "      <th>d1_arterial_pco2_min</th>\n",
              "      <th>d1_arterial_ph_max</th>\n",
              "      <th>d1_arterial_ph_min</th>\n",
              "      <th>d1_arterial_po2_max</th>\n",
              "      <th>d1_arterial_po2_min</th>\n",
              "    </tr>\n",
              "  </thead>\n",
              "  <tbody>\n",
              "    <tr>\n",
              "      <th>115201</th>\n",
              "      <td>60.000000</td>\n",
              "      <td>40.234881</td>\n",
              "      <td>2.0</td>\n",
              "      <td>1.0</td>\n",
              "      <td>185.4</td>\n",
              "      <td>8.0</td>\n",
              "      <td>2.0</td>\n",
              "      <td>0.096528</td>\n",
              "      <td>138.3</td>\n",
              "      <td>2.400000</td>\n",
              "      <td>1208.0</td>\n",
              "      <td>1.0</td>\n",
              "      <td>0.0</td>\n",
              "      <td>0.300000</td>\n",
              "      <td>94.000000</td>\n",
              "      <td>7.070000</td>\n",
              "      <td>4.0</td>\n",
              "      <td>6.0</td>\n",
              "      <td>0.0</td>\n",
              "      <td>5.0</td>\n",
              "      <td>51.000000</td>\n",
              "      <td>58.0</td>\n",
              "      <td>21.800000</td>\n",
              "      <td>0.0</td>\n",
              "      <td>59.0</td>\n",
              "      <td>12.0</td>\n",
              "      <td>134.0</td>\n",
              "      <td>35.0</td>\n",
              "      <td>4690.65600</td>\n",
              "      <td>0.0</td>\n",
              "      <td>16.200000</td>\n",
              "      <td>90.0</td>\n",
              "      <td>44.0</td>\n",
              "      <td>90.0</td>\n",
              "      <td>44.0</td>\n",
              "      <td>71.0</td>\n",
              "      <td>60.0</td>\n",
              "      <td>96.0</td>\n",
              "      <td>60.0</td>\n",
              "      <td>96.0</td>\n",
              "      <td>...</td>\n",
              "      <td>35.000000</td>\n",
              "      <td>35.000000</td>\n",
              "      <td>2.600000</td>\n",
              "      <td>2.400000</td>\n",
              "      <td>0.300000</td>\n",
              "      <td>0.300000</td>\n",
              "      <td>94.0</td>\n",
              "      <td>89.0</td>\n",
              "      <td>7.8</td>\n",
              "      <td>7.5</td>\n",
              "      <td>7.07</td>\n",
              "      <td>6.08</td>\n",
              "      <td>171.0</td>\n",
              "      <td>52.0</td>\n",
              "      <td>18.0</td>\n",
              "      <td>16.0</td>\n",
              "      <td>7.8</td>\n",
              "      <td>6.8</td>\n",
              "      <td>24.2</td>\n",
              "      <td>21.8</td>\n",
              "      <td>1.000000</td>\n",
              "      <td>1.000000</td>\n",
              "      <td>325.0</td>\n",
              "      <td>309.0</td>\n",
              "      <td>5.0</td>\n",
              "      <td>4.1</td>\n",
              "      <td>138.0</td>\n",
              "      <td>134.0</td>\n",
              "      <td>16.20</td>\n",
              "      <td>12.90</td>\n",
              "      <td>106.000000</td>\n",
              "      <td>52.000000</td>\n",
              "      <td>1.000000</td>\n",
              "      <td>1.000000</td>\n",
              "      <td>46.516667</td>\n",
              "      <td>38.010000</td>\n",
              "      <td>7.380233</td>\n",
              "      <td>7.310033</td>\n",
              "      <td>146.210000</td>\n",
              "      <td>92.786667</td>\n",
              "    </tr>\n",
              "    <tr>\n",
              "      <th>5903</th>\n",
              "      <td>73.000000</td>\n",
              "      <td>30.100790</td>\n",
              "      <td>2.0</td>\n",
              "      <td>1.0</td>\n",
              "      <td>175.3</td>\n",
              "      <td>8.0</td>\n",
              "      <td>2.0</td>\n",
              "      <td>0.000694</td>\n",
              "      <td>92.5</td>\n",
              "      <td>2.803333</td>\n",
              "      <td>1205.0</td>\n",
              "      <td>1.0</td>\n",
              "      <td>0.0</td>\n",
              "      <td>2.147667</td>\n",
              "      <td>21.000000</td>\n",
              "      <td>0.910000</td>\n",
              "      <td>4.0</td>\n",
              "      <td>6.0</td>\n",
              "      <td>0.0</td>\n",
              "      <td>5.0</td>\n",
              "      <td>200.000000</td>\n",
              "      <td>120.0</td>\n",
              "      <td>39.600000</td>\n",
              "      <td>0.0</td>\n",
              "      <td>122.0</td>\n",
              "      <td>43.0</td>\n",
              "      <td>138.0</td>\n",
              "      <td>36.4</td>\n",
              "      <td>1604.41632</td>\n",
              "      <td>0.0</td>\n",
              "      <td>15.100000</td>\n",
              "      <td>98.0</td>\n",
              "      <td>57.0</td>\n",
              "      <td>98.0</td>\n",
              "      <td>57.0</td>\n",
              "      <td>127.0</td>\n",
              "      <td>86.0</td>\n",
              "      <td>122.0</td>\n",
              "      <td>77.0</td>\n",
              "      <td>122.0</td>\n",
              "      <td>...</td>\n",
              "      <td>36.700000</td>\n",
              "      <td>36.700000</td>\n",
              "      <td>2.833333</td>\n",
              "      <td>2.793333</td>\n",
              "      <td>2.107667</td>\n",
              "      <td>2.090333</td>\n",
              "      <td>21.0</td>\n",
              "      <td>20.0</td>\n",
              "      <td>8.7</td>\n",
              "      <td>8.5</td>\n",
              "      <td>0.98</td>\n",
              "      <td>0.91</td>\n",
              "      <td>200.0</td>\n",
              "      <td>114.0</td>\n",
              "      <td>24.0</td>\n",
              "      <td>24.0</td>\n",
              "      <td>13.9</td>\n",
              "      <td>13.1</td>\n",
              "      <td>42.1</td>\n",
              "      <td>39.6</td>\n",
              "      <td>1.281667</td>\n",
              "      <td>1.223667</td>\n",
              "      <td>120.0</td>\n",
              "      <td>112.0</td>\n",
              "      <td>4.4</td>\n",
              "      <td>3.9</td>\n",
              "      <td>138.0</td>\n",
              "      <td>138.0</td>\n",
              "      <td>15.10</td>\n",
              "      <td>14.30</td>\n",
              "      <td>115.000000</td>\n",
              "      <td>115.000000</td>\n",
              "      <td>1.281667</td>\n",
              "      <td>1.223667</td>\n",
              "      <td>39.000000</td>\n",
              "      <td>39.000000</td>\n",
              "      <td>7.380000</td>\n",
              "      <td>7.380000</td>\n",
              "      <td>68.000000</td>\n",
              "      <td>68.000000</td>\n",
              "    </tr>\n",
              "    <tr>\n",
              "      <th>68265</th>\n",
              "      <td>70.000000</td>\n",
              "      <td>15.500031</td>\n",
              "      <td>2.0</td>\n",
              "      <td>1.0</td>\n",
              "      <td>177.8</td>\n",
              "      <td>15.0</td>\n",
              "      <td>1.0</td>\n",
              "      <td>0.604861</td>\n",
              "      <td>49.0</td>\n",
              "      <td>2.933333</td>\n",
              "      <td>703.0</td>\n",
              "      <td>0.0</td>\n",
              "      <td>0.0</td>\n",
              "      <td>0.984667</td>\n",
              "      <td>25.186667</td>\n",
              "      <td>1.442667</td>\n",
              "      <td>4.0</td>\n",
              "      <td>6.0</td>\n",
              "      <td>0.0</td>\n",
              "      <td>5.0</td>\n",
              "      <td>121.333333</td>\n",
              "      <td>104.0</td>\n",
              "      <td>32.946667</td>\n",
              "      <td>0.0</td>\n",
              "      <td>120.0</td>\n",
              "      <td>60.0</td>\n",
              "      <td>138.7</td>\n",
              "      <td>36.2</td>\n",
              "      <td>5879.77920</td>\n",
              "      <td>0.0</td>\n",
              "      <td>12.029333</td>\n",
              "      <td>96.0</td>\n",
              "      <td>76.0</td>\n",
              "      <td>96.0</td>\n",
              "      <td>76.0</td>\n",
              "      <td>96.0</td>\n",
              "      <td>62.0</td>\n",
              "      <td>110.0</td>\n",
              "      <td>82.0</td>\n",
              "      <td>110.0</td>\n",
              "      <td>...</td>\n",
              "      <td>37.247333</td>\n",
              "      <td>36.957333</td>\n",
              "      <td>3.200000</td>\n",
              "      <td>3.200000</td>\n",
              "      <td>0.600000</td>\n",
              "      <td>0.600000</td>\n",
              "      <td>5.0</td>\n",
              "      <td>5.0</td>\n",
              "      <td>8.6</td>\n",
              "      <td>8.6</td>\n",
              "      <td>0.48</td>\n",
              "      <td>0.48</td>\n",
              "      <td>107.0</td>\n",
              "      <td>104.0</td>\n",
              "      <td>23.0</td>\n",
              "      <td>22.6</td>\n",
              "      <td>12.1</td>\n",
              "      <td>12.1</td>\n",
              "      <td>36.0</td>\n",
              "      <td>36.0</td>\n",
              "      <td>1.705667</td>\n",
              "      <td>1.509000</td>\n",
              "      <td>107.0</td>\n",
              "      <td>107.0</td>\n",
              "      <td>3.5</td>\n",
              "      <td>3.5</td>\n",
              "      <td>139.0</td>\n",
              "      <td>139.0</td>\n",
              "      <td>10.90</td>\n",
              "      <td>10.90</td>\n",
              "      <td>127.366667</td>\n",
              "      <td>121.766667</td>\n",
              "      <td>1.705667</td>\n",
              "      <td>1.509000</td>\n",
              "      <td>38.873333</td>\n",
              "      <td>33.613333</td>\n",
              "      <td>7.386300</td>\n",
              "      <td>7.316733</td>\n",
              "      <td>148.576667</td>\n",
              "      <td>96.943333</td>\n",
              "    </tr>\n",
              "    <tr>\n",
              "      <th>109489</th>\n",
              "      <td>68.000000</td>\n",
              "      <td>28.069727</td>\n",
              "      <td>5.0</td>\n",
              "      <td>1.0</td>\n",
              "      <td>182.9</td>\n",
              "      <td>15.0</td>\n",
              "      <td>0.0</td>\n",
              "      <td>0.188889</td>\n",
              "      <td>93.9</td>\n",
              "      <td>2.983333</td>\n",
              "      <td>104.0</td>\n",
              "      <td>0.0</td>\n",
              "      <td>0.0</td>\n",
              "      <td>1.103333</td>\n",
              "      <td>20.000000</td>\n",
              "      <td>1.550000</td>\n",
              "      <td>4.0</td>\n",
              "      <td>6.0</td>\n",
              "      <td>0.0</td>\n",
              "      <td>5.0</td>\n",
              "      <td>105.000000</td>\n",
              "      <td>139.0</td>\n",
              "      <td>33.900000</td>\n",
              "      <td>0.0</td>\n",
              "      <td>189.0</td>\n",
              "      <td>35.0</td>\n",
              "      <td>132.0</td>\n",
              "      <td>36.3</td>\n",
              "      <td>5067.61920</td>\n",
              "      <td>0.0</td>\n",
              "      <td>7.600000</td>\n",
              "      <td>94.0</td>\n",
              "      <td>72.0</td>\n",
              "      <td>94.0</td>\n",
              "      <td>72.0</td>\n",
              "      <td>137.0</td>\n",
              "      <td>70.0</td>\n",
              "      <td>184.0</td>\n",
              "      <td>86.0</td>\n",
              "      <td>181.0</td>\n",
              "      <td>...</td>\n",
              "      <td>36.300000</td>\n",
              "      <td>36.300000</td>\n",
              "      <td>2.953333</td>\n",
              "      <td>2.943333</td>\n",
              "      <td>1.110000</td>\n",
              "      <td>1.063333</td>\n",
              "      <td>20.0</td>\n",
              "      <td>20.0</td>\n",
              "      <td>8.6</td>\n",
              "      <td>8.6</td>\n",
              "      <td>1.55</td>\n",
              "      <td>1.55</td>\n",
              "      <td>105.0</td>\n",
              "      <td>105.0</td>\n",
              "      <td>27.0</td>\n",
              "      <td>27.0</td>\n",
              "      <td>11.5</td>\n",
              "      <td>11.5</td>\n",
              "      <td>33.9</td>\n",
              "      <td>33.9</td>\n",
              "      <td>1.361000</td>\n",
              "      <td>1.327667</td>\n",
              "      <td>116.0</td>\n",
              "      <td>116.0</td>\n",
              "      <td>3.4</td>\n",
              "      <td>2.8</td>\n",
              "      <td>132.0</td>\n",
              "      <td>132.0</td>\n",
              "      <td>7.60</td>\n",
              "      <td>7.60</td>\n",
              "      <td>172.433333</td>\n",
              "      <td>168.800000</td>\n",
              "      <td>1.361000</td>\n",
              "      <td>1.327667</td>\n",
              "      <td>43.000000</td>\n",
              "      <td>36.000000</td>\n",
              "      <td>7.500000</td>\n",
              "      <td>7.450000</td>\n",
              "      <td>138.000000</td>\n",
              "      <td>78.000000</td>\n",
              "    </tr>\n",
              "    <tr>\n",
              "      <th>14762</th>\n",
              "      <td>51.000000</td>\n",
              "      <td>30.722940</td>\n",
              "      <td>3.0</td>\n",
              "      <td>0.0</td>\n",
              "      <td>167.6</td>\n",
              "      <td>3.0</td>\n",
              "      <td>0.0</td>\n",
              "      <td>0.059722</td>\n",
              "      <td>86.3</td>\n",
              "      <td>2.890000</td>\n",
              "      <td>201.0</td>\n",
              "      <td>0.0</td>\n",
              "      <td>0.0</td>\n",
              "      <td>0.703333</td>\n",
              "      <td>27.000000</td>\n",
              "      <td>0.680000</td>\n",
              "      <td>2.0</td>\n",
              "      <td>5.0</td>\n",
              "      <td>0.0</td>\n",
              "      <td>3.0</td>\n",
              "      <td>93.000000</td>\n",
              "      <td>139.0</td>\n",
              "      <td>29.700000</td>\n",
              "      <td>1.0</td>\n",
              "      <td>46.0</td>\n",
              "      <td>33.0</td>\n",
              "      <td>136.0</td>\n",
              "      <td>36.1</td>\n",
              "      <td>973.72800</td>\n",
              "      <td>1.0</td>\n",
              "      <td>27.410000</td>\n",
              "      <td>67.0</td>\n",
              "      <td>40.0</td>\n",
              "      <td>67.0</td>\n",
              "      <td>40.0</td>\n",
              "      <td>128.0</td>\n",
              "      <td>96.0</td>\n",
              "      <td>78.0</td>\n",
              "      <td>51.0</td>\n",
              "      <td>78.0</td>\n",
              "      <td>...</td>\n",
              "      <td>36.700000</td>\n",
              "      <td>36.700000</td>\n",
              "      <td>2.953333</td>\n",
              "      <td>2.923333</td>\n",
              "      <td>0.679667</td>\n",
              "      <td>0.663000</td>\n",
              "      <td>27.0</td>\n",
              "      <td>27.0</td>\n",
              "      <td>9.2</td>\n",
              "      <td>9.2</td>\n",
              "      <td>0.68</td>\n",
              "      <td>0.68</td>\n",
              "      <td>118.0</td>\n",
              "      <td>93.0</td>\n",
              "      <td>26.0</td>\n",
              "      <td>26.0</td>\n",
              "      <td>9.7</td>\n",
              "      <td>9.7</td>\n",
              "      <td>29.7</td>\n",
              "      <td>29.7</td>\n",
              "      <td>1.361667</td>\n",
              "      <td>1.338000</td>\n",
              "      <td>347.0</td>\n",
              "      <td>347.0</td>\n",
              "      <td>4.7</td>\n",
              "      <td>4.7</td>\n",
              "      <td>136.0</td>\n",
              "      <td>136.0</td>\n",
              "      <td>27.41</td>\n",
              "      <td>27.41</td>\n",
              "      <td>141.466667</td>\n",
              "      <td>140.300000</td>\n",
              "      <td>1.361667</td>\n",
              "      <td>1.338000</td>\n",
              "      <td>51.900000</td>\n",
              "      <td>48.700000</td>\n",
              "      <td>7.374000</td>\n",
              "      <td>7.353000</td>\n",
              "      <td>57.400000</td>\n",
              "      <td>57.100000</td>\n",
              "    </tr>\n",
              "    <tr>\n",
              "      <th>...</th>\n",
              "      <td>...</td>\n",
              "      <td>...</td>\n",
              "      <td>...</td>\n",
              "      <td>...</td>\n",
              "      <td>...</td>\n",
              "      <td>...</td>\n",
              "      <td>...</td>\n",
              "      <td>...</td>\n",
              "      <td>...</td>\n",
              "      <td>...</td>\n",
              "      <td>...</td>\n",
              "      <td>...</td>\n",
              "      <td>...</td>\n",
              "      <td>...</td>\n",
              "      <td>...</td>\n",
              "      <td>...</td>\n",
              "      <td>...</td>\n",
              "      <td>...</td>\n",
              "      <td>...</td>\n",
              "      <td>...</td>\n",
              "      <td>...</td>\n",
              "      <td>...</td>\n",
              "      <td>...</td>\n",
              "      <td>...</td>\n",
              "      <td>...</td>\n",
              "      <td>...</td>\n",
              "      <td>...</td>\n",
              "      <td>...</td>\n",
              "      <td>...</td>\n",
              "      <td>...</td>\n",
              "      <td>...</td>\n",
              "      <td>...</td>\n",
              "      <td>...</td>\n",
              "      <td>...</td>\n",
              "      <td>...</td>\n",
              "      <td>...</td>\n",
              "      <td>...</td>\n",
              "      <td>...</td>\n",
              "      <td>...</td>\n",
              "      <td>...</td>\n",
              "      <td>...</td>\n",
              "      <td>...</td>\n",
              "      <td>...</td>\n",
              "      <td>...</td>\n",
              "      <td>...</td>\n",
              "      <td>...</td>\n",
              "      <td>...</td>\n",
              "      <td>...</td>\n",
              "      <td>...</td>\n",
              "      <td>...</td>\n",
              "      <td>...</td>\n",
              "      <td>...</td>\n",
              "      <td>...</td>\n",
              "      <td>...</td>\n",
              "      <td>...</td>\n",
              "      <td>...</td>\n",
              "      <td>...</td>\n",
              "      <td>...</td>\n",
              "      <td>...</td>\n",
              "      <td>...</td>\n",
              "      <td>...</td>\n",
              "      <td>...</td>\n",
              "      <td>...</td>\n",
              "      <td>...</td>\n",
              "      <td>...</td>\n",
              "      <td>...</td>\n",
              "      <td>...</td>\n",
              "      <td>...</td>\n",
              "      <td>...</td>\n",
              "      <td>...</td>\n",
              "      <td>...</td>\n",
              "      <td>...</td>\n",
              "      <td>...</td>\n",
              "      <td>...</td>\n",
              "      <td>...</td>\n",
              "      <td>...</td>\n",
              "      <td>...</td>\n",
              "      <td>...</td>\n",
              "      <td>...</td>\n",
              "      <td>...</td>\n",
              "      <td>...</td>\n",
              "    </tr>\n",
              "    <tr>\n",
              "      <th>128106</th>\n",
              "      <td>20.000000</td>\n",
              "      <td>25.313660</td>\n",
              "      <td>0.0</td>\n",
              "      <td>0.0</td>\n",
              "      <td>165.1</td>\n",
              "      <td>2.0</td>\n",
              "      <td>0.0</td>\n",
              "      <td>0.000000</td>\n",
              "      <td>69.0</td>\n",
              "      <td>3.003333</td>\n",
              "      <td>409.0</td>\n",
              "      <td>0.0</td>\n",
              "      <td>0.0</td>\n",
              "      <td>0.783333</td>\n",
              "      <td>7.000000</td>\n",
              "      <td>0.680000</td>\n",
              "      <td>4.0</td>\n",
              "      <td>6.0</td>\n",
              "      <td>0.0</td>\n",
              "      <td>5.0</td>\n",
              "      <td>119.000000</td>\n",
              "      <td>103.0</td>\n",
              "      <td>36.000000</td>\n",
              "      <td>0.0</td>\n",
              "      <td>58.0</td>\n",
              "      <td>36.0</td>\n",
              "      <td>135.0</td>\n",
              "      <td>36.6</td>\n",
              "      <td>1079.22240</td>\n",
              "      <td>0.0</td>\n",
              "      <td>5.200000</td>\n",
              "      <td>80.0</td>\n",
              "      <td>51.0</td>\n",
              "      <td>80.0</td>\n",
              "      <td>51.0</td>\n",
              "      <td>86.0</td>\n",
              "      <td>49.0</td>\n",
              "      <td>93.0</td>\n",
              "      <td>65.0</td>\n",
              "      <td>93.0</td>\n",
              "      <td>...</td>\n",
              "      <td>36.900000</td>\n",
              "      <td>36.900000</td>\n",
              "      <td>3.010000</td>\n",
              "      <td>3.006667</td>\n",
              "      <td>0.793333</td>\n",
              "      <td>0.780000</td>\n",
              "      <td>7.0</td>\n",
              "      <td>7.0</td>\n",
              "      <td>9.7</td>\n",
              "      <td>9.7</td>\n",
              "      <td>0.68</td>\n",
              "      <td>0.68</td>\n",
              "      <td>119.0</td>\n",
              "      <td>119.0</td>\n",
              "      <td>25.0</td>\n",
              "      <td>25.0</td>\n",
              "      <td>11.3</td>\n",
              "      <td>11.3</td>\n",
              "      <td>36.0</td>\n",
              "      <td>36.0</td>\n",
              "      <td>1.120000</td>\n",
              "      <td>1.120000</td>\n",
              "      <td>319.0</td>\n",
              "      <td>319.0</td>\n",
              "      <td>5.1</td>\n",
              "      <td>5.1</td>\n",
              "      <td>135.0</td>\n",
              "      <td>135.0</td>\n",
              "      <td>5.20</td>\n",
              "      <td>5.20</td>\n",
              "      <td>130.533333</td>\n",
              "      <td>128.266667</td>\n",
              "      <td>1.120000</td>\n",
              "      <td>1.120000</td>\n",
              "      <td>34.700000</td>\n",
              "      <td>34.700000</td>\n",
              "      <td>7.422000</td>\n",
              "      <td>7.422000</td>\n",
              "      <td>300.000000</td>\n",
              "      <td>300.000000</td>\n",
              "    </tr>\n",
              "    <tr>\n",
              "      <th>103694</th>\n",
              "      <td>61.995103</td>\n",
              "      <td>17.566702</td>\n",
              "      <td>2.0</td>\n",
              "      <td>0.0</td>\n",
              "      <td>152.4</td>\n",
              "      <td>3.0</td>\n",
              "      <td>0.0</td>\n",
              "      <td>0.284028</td>\n",
              "      <td>40.8</td>\n",
              "      <td>1.900000</td>\n",
              "      <td>501.0</td>\n",
              "      <td>0.0</td>\n",
              "      <td>0.0</td>\n",
              "      <td>0.500000</td>\n",
              "      <td>18.000000</td>\n",
              "      <td>0.880000</td>\n",
              "      <td>4.0</td>\n",
              "      <td>6.0</td>\n",
              "      <td>0.0</td>\n",
              "      <td>5.0</td>\n",
              "      <td>381.000000</td>\n",
              "      <td>133.0</td>\n",
              "      <td>36.400000</td>\n",
              "      <td>0.0</td>\n",
              "      <td>41.0</td>\n",
              "      <td>36.0</td>\n",
              "      <td>135.0</td>\n",
              "      <td>32.1</td>\n",
              "      <td>1773.26208</td>\n",
              "      <td>1.0</td>\n",
              "      <td>11.800000</td>\n",
              "      <td>88.0</td>\n",
              "      <td>25.0</td>\n",
              "      <td>88.0</td>\n",
              "      <td>25.0</td>\n",
              "      <td>133.0</td>\n",
              "      <td>73.0</td>\n",
              "      <td>109.0</td>\n",
              "      <td>32.0</td>\n",
              "      <td>109.0</td>\n",
              "      <td>...</td>\n",
              "      <td>36.300000</td>\n",
              "      <td>36.300000</td>\n",
              "      <td>1.900000</td>\n",
              "      <td>1.900000</td>\n",
              "      <td>0.500000</td>\n",
              "      <td>0.500000</td>\n",
              "      <td>18.0</td>\n",
              "      <td>17.0</td>\n",
              "      <td>7.1</td>\n",
              "      <td>6.9</td>\n",
              "      <td>0.92</td>\n",
              "      <td>0.88</td>\n",
              "      <td>381.0</td>\n",
              "      <td>129.0</td>\n",
              "      <td>19.0</td>\n",
              "      <td>19.0</td>\n",
              "      <td>12.7</td>\n",
              "      <td>12.7</td>\n",
              "      <td>36.4</td>\n",
              "      <td>36.4</td>\n",
              "      <td>1.800000</td>\n",
              "      <td>1.500000</td>\n",
              "      <td>133.0</td>\n",
              "      <td>133.0</td>\n",
              "      <td>4.2</td>\n",
              "      <td>3.6</td>\n",
              "      <td>139.0</td>\n",
              "      <td>135.0</td>\n",
              "      <td>11.80</td>\n",
              "      <td>11.80</td>\n",
              "      <td>381.000000</td>\n",
              "      <td>340.000000</td>\n",
              "      <td>1.800000</td>\n",
              "      <td>1.500000</td>\n",
              "      <td>40.020000</td>\n",
              "      <td>34.266667</td>\n",
              "      <td>7.320000</td>\n",
              "      <td>7.210000</td>\n",
              "      <td>101.000000</td>\n",
              "      <td>97.000000</td>\n",
              "    </tr>\n",
              "    <tr>\n",
              "      <th>860</th>\n",
              "      <td>87.000000</td>\n",
              "      <td>28.566361</td>\n",
              "      <td>2.0</td>\n",
              "      <td>1.0</td>\n",
              "      <td>172.7</td>\n",
              "      <td>3.0</td>\n",
              "      <td>0.0</td>\n",
              "      <td>0.029167</td>\n",
              "      <td>85.2</td>\n",
              "      <td>2.960000</td>\n",
              "      <td>501.0</td>\n",
              "      <td>0.0</td>\n",
              "      <td>0.0</td>\n",
              "      <td>1.216667</td>\n",
              "      <td>15.600000</td>\n",
              "      <td>1.013000</td>\n",
              "      <td>3.0</td>\n",
              "      <td>5.0</td>\n",
              "      <td>0.0</td>\n",
              "      <td>5.0</td>\n",
              "      <td>123.466667</td>\n",
              "      <td>64.0</td>\n",
              "      <td>34.800000</td>\n",
              "      <td>0.0</td>\n",
              "      <td>98.0</td>\n",
              "      <td>20.0</td>\n",
              "      <td>139.2</td>\n",
              "      <td>38.3</td>\n",
              "      <td>1783.37664</td>\n",
              "      <td>1.0</td>\n",
              "      <td>20.400000</td>\n",
              "      <td>64.0</td>\n",
              "      <td>58.0</td>\n",
              "      <td>64.0</td>\n",
              "      <td>58.0</td>\n",
              "      <td>78.0</td>\n",
              "      <td>76.0</td>\n",
              "      <td>98.0</td>\n",
              "      <td>93.0</td>\n",
              "      <td>98.0</td>\n",
              "      <td>...</td>\n",
              "      <td>36.940000</td>\n",
              "      <td>36.836667</td>\n",
              "      <td>3.140000</td>\n",
              "      <td>3.076667</td>\n",
              "      <td>1.403333</td>\n",
              "      <td>1.390000</td>\n",
              "      <td>21.0</td>\n",
              "      <td>21.0</td>\n",
              "      <td>8.0</td>\n",
              "      <td>8.0</td>\n",
              "      <td>1.12</td>\n",
              "      <td>1.12</td>\n",
              "      <td>143.0</td>\n",
              "      <td>143.0</td>\n",
              "      <td>33.0</td>\n",
              "      <td>33.0</td>\n",
              "      <td>11.6</td>\n",
              "      <td>11.6</td>\n",
              "      <td>34.8</td>\n",
              "      <td>34.8</td>\n",
              "      <td>1.200000</td>\n",
              "      <td>1.200000</td>\n",
              "      <td>165.0</td>\n",
              "      <td>165.0</td>\n",
              "      <td>3.4</td>\n",
              "      <td>2.9</td>\n",
              "      <td>138.0</td>\n",
              "      <td>138.0</td>\n",
              "      <td>20.40</td>\n",
              "      <td>20.40</td>\n",
              "      <td>143.000000</td>\n",
              "      <td>143.000000</td>\n",
              "      <td>1.200000</td>\n",
              "      <td>1.200000</td>\n",
              "      <td>41.896667</td>\n",
              "      <td>38.326667</td>\n",
              "      <td>7.381409</td>\n",
              "      <td>7.335562</td>\n",
              "      <td>119.313333</td>\n",
              "      <td>94.346667</td>\n",
              "    </tr>\n",
              "    <tr>\n",
              "      <th>15795</th>\n",
              "      <td>63.000000</td>\n",
              "      <td>27.447725</td>\n",
              "      <td>3.0</td>\n",
              "      <td>1.0</td>\n",
              "      <td>167.6</td>\n",
              "      <td>15.0</td>\n",
              "      <td>0.0</td>\n",
              "      <td>0.184028</td>\n",
              "      <td>77.1</td>\n",
              "      <td>3.200000</td>\n",
              "      <td>111.0</td>\n",
              "      <td>0.0</td>\n",
              "      <td>0.0</td>\n",
              "      <td>0.700000</td>\n",
              "      <td>11.000000</td>\n",
              "      <td>1.100000</td>\n",
              "      <td>4.0</td>\n",
              "      <td>6.0</td>\n",
              "      <td>0.0</td>\n",
              "      <td>5.0</td>\n",
              "      <td>184.000000</td>\n",
              "      <td>53.0</td>\n",
              "      <td>42.500000</td>\n",
              "      <td>0.0</td>\n",
              "      <td>59.0</td>\n",
              "      <td>8.0</td>\n",
              "      <td>137.0</td>\n",
              "      <td>36.3</td>\n",
              "      <td>932.86080</td>\n",
              "      <td>0.0</td>\n",
              "      <td>13.500000</td>\n",
              "      <td>70.0</td>\n",
              "      <td>53.0</td>\n",
              "      <td>70.0</td>\n",
              "      <td>53.0</td>\n",
              "      <td>78.0</td>\n",
              "      <td>53.0</td>\n",
              "      <td>75.0</td>\n",
              "      <td>58.0</td>\n",
              "      <td>75.0</td>\n",
              "      <td>...</td>\n",
              "      <td>36.643481</td>\n",
              "      <td>36.480148</td>\n",
              "      <td>3.200000</td>\n",
              "      <td>3.200000</td>\n",
              "      <td>0.700000</td>\n",
              "      <td>0.700000</td>\n",
              "      <td>11.0</td>\n",
              "      <td>11.0</td>\n",
              "      <td>8.4</td>\n",
              "      <td>8.4</td>\n",
              "      <td>1.10</td>\n",
              "      <td>1.10</td>\n",
              "      <td>189.0</td>\n",
              "      <td>133.0</td>\n",
              "      <td>26.0</td>\n",
              "      <td>26.0</td>\n",
              "      <td>14.9</td>\n",
              "      <td>14.9</td>\n",
              "      <td>42.5</td>\n",
              "      <td>42.5</td>\n",
              "      <td>1.663000</td>\n",
              "      <td>1.451000</td>\n",
              "      <td>241.0</td>\n",
              "      <td>241.0</td>\n",
              "      <td>3.8</td>\n",
              "      <td>3.8</td>\n",
              "      <td>137.0</td>\n",
              "      <td>137.0</td>\n",
              "      <td>13.50</td>\n",
              "      <td>13.50</td>\n",
              "      <td>178.433333</td>\n",
              "      <td>173.500000</td>\n",
              "      <td>1.663000</td>\n",
              "      <td>1.451000</td>\n",
              "      <td>52.120000</td>\n",
              "      <td>46.207067</td>\n",
              "      <td>7.386167</td>\n",
              "      <td>7.342000</td>\n",
              "      <td>161.665500</td>\n",
              "      <td>123.476400</td>\n",
              "    </tr>\n",
              "    <tr>\n",
              "      <th>121958</th>\n",
              "      <td>67.000000</td>\n",
              "      <td>31.012569</td>\n",
              "      <td>2.0</td>\n",
              "      <td>1.0</td>\n",
              "      <td>185.4</td>\n",
              "      <td>15.0</td>\n",
              "      <td>2.0</td>\n",
              "      <td>0.688194</td>\n",
              "      <td>106.6</td>\n",
              "      <td>2.770000</td>\n",
              "      <td>1303.0</td>\n",
              "      <td>1.0</td>\n",
              "      <td>0.0</td>\n",
              "      <td>1.043333</td>\n",
              "      <td>19.000000</td>\n",
              "      <td>1.090000</td>\n",
              "      <td>4.0</td>\n",
              "      <td>6.0</td>\n",
              "      <td>0.0</td>\n",
              "      <td>5.0</td>\n",
              "      <td>220.000000</td>\n",
              "      <td>137.0</td>\n",
              "      <td>32.200000</td>\n",
              "      <td>0.0</td>\n",
              "      <td>56.0</td>\n",
              "      <td>33.0</td>\n",
              "      <td>138.0</td>\n",
              "      <td>36.7</td>\n",
              "      <td>1344.64320</td>\n",
              "      <td>0.0</td>\n",
              "      <td>13.600000</td>\n",
              "      <td>88.0</td>\n",
              "      <td>52.0</td>\n",
              "      <td>88.0</td>\n",
              "      <td>52.0</td>\n",
              "      <td>134.0</td>\n",
              "      <td>69.0</td>\n",
              "      <td>82.0</td>\n",
              "      <td>65.0</td>\n",
              "      <td>82.0</td>\n",
              "      <td>...</td>\n",
              "      <td>37.700000</td>\n",
              "      <td>37.700000</td>\n",
              "      <td>2.806667</td>\n",
              "      <td>2.743333</td>\n",
              "      <td>1.083333</td>\n",
              "      <td>1.006667</td>\n",
              "      <td>19.0</td>\n",
              "      <td>15.0</td>\n",
              "      <td>8.0</td>\n",
              "      <td>7.8</td>\n",
              "      <td>1.09</td>\n",
              "      <td>0.96</td>\n",
              "      <td>220.0</td>\n",
              "      <td>113.0</td>\n",
              "      <td>18.0</td>\n",
              "      <td>17.0</td>\n",
              "      <td>14.0</td>\n",
              "      <td>11.0</td>\n",
              "      <td>43.3</td>\n",
              "      <td>32.2</td>\n",
              "      <td>1.235333</td>\n",
              "      <td>1.218667</td>\n",
              "      <td>201.0</td>\n",
              "      <td>140.0</td>\n",
              "      <td>6.0</td>\n",
              "      <td>5.0</td>\n",
              "      <td>138.0</td>\n",
              "      <td>138.0</td>\n",
              "      <td>19.50</td>\n",
              "      <td>12.00</td>\n",
              "      <td>181.000000</td>\n",
              "      <td>181.000000</td>\n",
              "      <td>1.235333</td>\n",
              "      <td>1.218667</td>\n",
              "      <td>33.000000</td>\n",
              "      <td>33.000000</td>\n",
              "      <td>7.350000</td>\n",
              "      <td>7.350000</td>\n",
              "      <td>75.000000</td>\n",
              "      <td>75.000000</td>\n",
              "    </tr>\n",
              "  </tbody>\n",
              "</table>\n",
              "<p>104125 rows × 109 columns</p>\n",
              "</div>"
            ],
            "text/plain": [
              "              age        bmi  ...  d1_arterial_po2_max  d1_arterial_po2_min\n",
              "115201  60.000000  40.234881  ...           146.210000            92.786667\n",
              "5903    73.000000  30.100790  ...            68.000000            68.000000\n",
              "68265   70.000000  15.500031  ...           148.576667            96.943333\n",
              "109489  68.000000  28.069727  ...           138.000000            78.000000\n",
              "14762   51.000000  30.722940  ...            57.400000            57.100000\n",
              "...           ...        ...  ...                  ...                  ...\n",
              "128106  20.000000  25.313660  ...           300.000000           300.000000\n",
              "103694  61.995103  17.566702  ...           101.000000            97.000000\n",
              "860     87.000000  28.566361  ...           119.313333            94.346667\n",
              "15795   63.000000  27.447725  ...           161.665500           123.476400\n",
              "121958  67.000000  31.012569  ...            75.000000            75.000000\n",
              "\n",
              "[104125 rows x 109 columns]"
            ]
          },
          "metadata": {
            "tags": []
          },
          "execution_count": 44
        }
      ]
    },
    {
      "cell_type": "code",
      "metadata": {
        "id": "Xsrw0CfYMUJP"
      },
      "source": [
        "# Import `Sequential` from `keras.models`\n",
        "from keras.models import Sequential\n",
        "\n",
        "# Import `Dense` from `keras.layers`\n",
        "from keras.layers import Dense\n",
        "\n",
        "# Initialize the constructor\n",
        "nn_model = Sequential()\n",
        "\n",
        "# Add an input layer \n",
        "nn_model.add(Dense(109, activation='relu', input_dim=109))\n",
        "\n",
        "# Add two hidden layers \n",
        "nn_model.add(Dense(50, activation='relu'))\n",
        "nn_model.add(Dense(20, activation='relu'))\n",
        "\n",
        "# Add an output layer \n",
        "nn_model.add(Dense(1, activation='sigmoid'))"
      ],
      "execution_count": null,
      "outputs": []
    },
    {
      "cell_type": "code",
      "metadata": {
        "colab": {
          "base_uri": "https://localhost:8080/"
        },
        "id": "Yj3u3RX1O-SQ",
        "outputId": "32d80406-62e9-461e-dd09-82697ae58c72"
      },
      "source": [
        "# Model output shape\n",
        "nn_model.output_shape\n",
        "\n",
        "# Model summary\n",
        "nn_model.summary()\n",
        "\n",
        "# Model config\n",
        "nn_model.get_config()\n",
        "\n",
        "# List all weight tensors \n",
        "nn_model.get_weights()"
      ],
      "execution_count": null,
      "outputs": [
        {
          "output_type": "stream",
          "text": [
            "Model: \"sequential_3\"\n",
            "_________________________________________________________________\n",
            "Layer (type)                 Output Shape              Param #   \n",
            "=================================================================\n",
            "dense_12 (Dense)             (None, 109)               11990     \n",
            "_________________________________________________________________\n",
            "dense_13 (Dense)             (None, 50)                5500      \n",
            "_________________________________________________________________\n",
            "dense_14 (Dense)             (None, 20)                1020      \n",
            "_________________________________________________________________\n",
            "dense_15 (Dense)             (None, 1)                 21        \n",
            "=================================================================\n",
            "Total params: 18,531\n",
            "Trainable params: 18,531\n",
            "Non-trainable params: 0\n",
            "_________________________________________________________________\n"
          ],
          "name": "stdout"
        },
        {
          "output_type": "execute_result",
          "data": {
            "text/plain": [
              "[array([[-0.10893019,  0.00933069, -0.06603468, ..., -0.06644343,\n",
              "         -0.00265765,  0.14657325],\n",
              "        [ 0.11557436,  0.1046901 ,  0.16127333, ..., -0.1616711 ,\n",
              "          0.01780488,  0.10650241],\n",
              "        [-0.07583273, -0.04949469,  0.10270509, ..., -0.12740332,\n",
              "          0.12605643, -0.02858691],\n",
              "        ...,\n",
              "        [-0.02617133, -0.11960812, -0.02263221, ..., -0.05959561,\n",
              "         -0.05953363,  0.1290426 ],\n",
              "        [-0.00810535,  0.13591006, -0.00265038, ..., -0.15300752,\n",
              "          0.11938947,  0.11993384],\n",
              "        [-0.01868938, -0.04224426, -0.14274234, ..., -0.15042122,\n",
              "          0.09989607, -0.06558381]], dtype=float32),\n",
              " array([0., 0., 0., 0., 0., 0., 0., 0., 0., 0., 0., 0., 0., 0., 0., 0., 0.,\n",
              "        0., 0., 0., 0., 0., 0., 0., 0., 0., 0., 0., 0., 0., 0., 0., 0., 0.,\n",
              "        0., 0., 0., 0., 0., 0., 0., 0., 0., 0., 0., 0., 0., 0., 0., 0., 0.,\n",
              "        0., 0., 0., 0., 0., 0., 0., 0., 0., 0., 0., 0., 0., 0., 0., 0., 0.,\n",
              "        0., 0., 0., 0., 0., 0., 0., 0., 0., 0., 0., 0., 0., 0., 0., 0., 0.,\n",
              "        0., 0., 0., 0., 0., 0., 0., 0., 0., 0., 0., 0., 0., 0., 0., 0., 0.,\n",
              "        0., 0., 0., 0., 0., 0., 0.], dtype=float32),\n",
              " array([[ 0.05996317,  0.10766309, -0.19204125, ...,  0.17648643,\n",
              "         -0.14999887,  0.07763165],\n",
              "        [-0.00863391, -0.17523918, -0.03602663, ..., -0.05039354,\n",
              "          0.09593362, -0.03309733],\n",
              "        [-0.02733409, -0.13693781,  0.11047751, ...,  0.16877264,\n",
              "         -0.19094929, -0.18472815],\n",
              "        ...,\n",
              "        [ 0.18562832, -0.03756584,  0.07676929, ..., -0.04651403,\n",
              "          0.00985165,  0.12416506],\n",
              "        [ 0.04695329, -0.05875099, -0.05013838, ..., -0.04239316,\n",
              "         -0.03533733,  0.15559116],\n",
              "        [ 0.09575975, -0.18699686,  0.05684996, ..., -0.13836366,\n",
              "          0.12283003,  0.01574463]], dtype=float32),\n",
              " array([0., 0., 0., 0., 0., 0., 0., 0., 0., 0., 0., 0., 0., 0., 0., 0., 0.,\n",
              "        0., 0., 0., 0., 0., 0., 0., 0., 0., 0., 0., 0., 0., 0., 0., 0., 0.,\n",
              "        0., 0., 0., 0., 0., 0., 0., 0., 0., 0., 0., 0., 0., 0., 0., 0.],\n",
              "       dtype=float32),\n",
              " array([[ 0.10030785, -0.02281743, -0.23678765, -0.21009612,  0.03125152,\n",
              "          0.14646772,  0.24798328, -0.08472796,  0.28320664,  0.2560743 ,\n",
              "          0.02314907,  0.12836692,  0.16393885, -0.10450009,  0.00163624,\n",
              "          0.13995314,  0.27898502,  0.11207715, -0.1367537 , -0.08979048],\n",
              "        [-0.17323142, -0.13170059, -0.03778505, -0.1655396 , -0.27732575,\n",
              "         -0.2657057 , -0.19169107, -0.01917776,  0.09928685,  0.13180384,\n",
              "         -0.25318578,  0.20435506, -0.03020826,  0.26937807,  0.16836315,\n",
              "          0.25958288,  0.04582384,  0.13578218, -0.21499287, -0.10293269],\n",
              "        [ 0.00850102,  0.11498865,  0.05106741, -0.16973561, -0.28268638,\n",
              "          0.25194424, -0.04028848,  0.17251554,  0.08772531,  0.28330404,\n",
              "          0.10655436, -0.08860607, -0.04221922, -0.15713142, -0.17179817,\n",
              "         -0.01638669,  0.28387153,  0.173565  ,  0.22313547,  0.1017977 ],\n",
              "        [ 0.025399  ,  0.1777044 , -0.25167826,  0.10714334,  0.2864595 ,\n",
              "          0.24815911, -0.0680657 , -0.09479143,  0.0043301 , -0.21453944,\n",
              "         -0.16179712,  0.13493088, -0.15421091, -0.098408  ,  0.01393753,\n",
              "         -0.26082787,  0.08885542,  0.25734574,  0.12698409, -0.17928588],\n",
              "        [ 0.20949125, -0.05370747,  0.0551731 , -0.007319  ,  0.14239097,\n",
              "          0.11670199, -0.27351925, -0.11520712,  0.10754833,  0.25811493,\n",
              "          0.09074405,  0.00405857,  0.18221804,  0.17543033,  0.13984507,\n",
              "          0.04057586,  0.24441719,  0.2371    ,  0.14885062,  0.26960516],\n",
              "        [ 0.09419432, -0.03735757, -0.07274243, -0.18491903,  0.17246631,\n",
              "          0.26643103, -0.2264232 , -0.24890181, -0.23768649,  0.2484057 ,\n",
              "          0.28287274, -0.15609278, -0.18058357,  0.06667519,  0.20078269,\n",
              "          0.23521698,  0.00052303,  0.15416625,  0.11094573, -0.25641304],\n",
              "        [ 0.2915637 , -0.2855692 ,  0.15496275, -0.11628473, -0.04982202,\n",
              "         -0.2880459 , -0.22558627,  0.2221396 ,  0.05975908, -0.2821663 ,\n",
              "         -0.10452011, -0.21664536,  0.28199494, -0.17114434, -0.28612748,\n",
              "          0.14823973,  0.02887714,  0.18156758,  0.23202354,  0.03035137],\n",
              "        [-0.19385248,  0.14492014, -0.03018531,  0.20937538,  0.26868385,\n",
              "         -0.02636343,  0.06287134, -0.13574855, -0.04061678,  0.19334537,\n",
              "          0.07409316,  0.13089767,  0.2456134 , -0.11005023,  0.12294856,\n",
              "         -0.17368284,  0.24922884,  0.0280056 , -0.05709934, -0.07858449],\n",
              "        [-0.01066753,  0.2859748 ,  0.16692209,  0.1388494 ,  0.1532464 ,\n",
              "          0.18168071,  0.0218384 , -0.03188506,  0.05603606,  0.13451165,\n",
              "          0.21014363, -0.09542675,  0.23214853, -0.23570341,  0.22760439,\n",
              "          0.1457549 ,  0.05768526,  0.282398  ,  0.14697275,  0.03179619],\n",
              "        [ 0.05132702,  0.17096362, -0.29052478,  0.11029977, -0.18059649,\n",
              "          0.09797654, -0.18737271,  0.20915616, -0.15531749,  0.24927175,\n",
              "          0.23767364, -0.10888274, -0.00630602,  0.17344928,  0.0466288 ,\n",
              "         -0.17034072, -0.20775232,  0.00763667,  0.12748185,  0.05017528],\n",
              "        [ 0.05988333,  0.08318716,  0.07963848, -0.24148412, -0.22154851,\n",
              "         -0.18659595, -0.00183257, -0.2694496 , -0.19251612,  0.19802901,\n",
              "         -0.28392398,  0.23857087, -0.09098478,  0.08209294, -0.2281866 ,\n",
              "         -0.00398088,  0.21033877, -0.17722312,  0.20652333,  0.14182732],\n",
              "        [ 0.250714  , -0.02299201,  0.15122437,  0.22082299,  0.20224923,\n",
              "         -0.25003862,  0.08040345, -0.0755879 , -0.12866756,  0.17463332,\n",
              "          0.22998428,  0.05548462, -0.02671301, -0.15674339,  0.29070127,\n",
              "         -0.23032491,  0.28883445,  0.15532586,  0.28354895,  0.2766558 ],\n",
              "        [ 0.19930136,  0.09065372, -0.253895  , -0.2631802 ,  0.07334712,\n",
              "          0.18873349, -0.04956312, -0.21833952, -0.03011489,  0.2832542 ,\n",
              "          0.14735895, -0.28740624,  0.18859655,  0.24694312, -0.19353962,\n",
              "         -0.14851733,  0.02632946,  0.17490304, -0.10475515, -0.11299776],\n",
              "        [ 0.03751129,  0.1646668 , -0.12859519,  0.21794868, -0.00813052,\n",
              "         -0.04593763, -0.10776766,  0.2893228 ,  0.21771532, -0.176045  ,\n",
              "          0.09562507, -0.14624639, -0.11215022,  0.07489908, -0.0737792 ,\n",
              "         -0.15914555,  0.01526585, -0.1602656 ,  0.22466528, -0.20298415],\n",
              "        [ 0.22843379, -0.19773744,  0.01762104, -0.21438232,  0.21964395,\n",
              "          0.11123848,  0.02902973,  0.17516688,  0.18084037, -0.07824427,\n",
              "         -0.26357374, -0.12199186, -0.05486967, -0.2427046 ,  0.22753704,\n",
              "         -0.10897061, -0.25961494,  0.21474016, -0.09088497,  0.14678392],\n",
              "        [ 0.03799069,  0.17669874,  0.08864293,  0.09848505,  0.0397695 ,\n",
              "         -0.22226754,  0.02663666, -0.08404927, -0.26828858,  0.12813121,\n",
              "         -0.28202048, -0.00764883,  0.14399096, -0.10406885,  0.1995483 ,\n",
              "          0.01976898,  0.28417784,  0.2191661 , -0.0892486 , -0.25021967],\n",
              "        [ 0.23096412, -0.20736793,  0.06130764,  0.21140456, -0.10340175,\n",
              "         -0.22275825,  0.13697797, -0.16145739,  0.2124139 ,  0.10540333,\n",
              "         -0.07828881,  0.09260389,  0.19776914,  0.17886233,  0.12793207,\n",
              "          0.07861295, -0.09281813, -0.13159066,  0.1836316 ,  0.20129839],\n",
              "        [-0.2165484 , -0.00786883, -0.07974459,  0.07633737,  0.13209936,\n",
              "         -0.19623014, -0.1185745 , -0.0385673 ,  0.07779685, -0.2407676 ,\n",
              "          0.24440694,  0.02394503, -0.07583395,  0.09227639, -0.03378379,\n",
              "          0.1517576 ,  0.10221598, -0.16378982,  0.18624759,  0.05834621],\n",
              "        [-0.08614627,  0.13507608, -0.24280855, -0.15053278,  0.10314015,\n",
              "         -0.2647804 ,  0.01867479,  0.28256458,  0.01208186,  0.13404992,\n",
              "          0.08881372,  0.19803807,  0.19245115,  0.2709909 , -0.00294662,\n",
              "          0.2491467 ,  0.07214123, -0.07746312,  0.00777683, -0.07716075],\n",
              "        [ 0.03810871,  0.17584306, -0.10587344,  0.1739651 , -0.17755935,\n",
              "         -0.17670888, -0.10576901, -0.12311693,  0.23129147,  0.09471881,\n",
              "         -0.2682578 , -0.08584541, -0.11334558,  0.28485793, -0.07912217,\n",
              "         -0.28531772,  0.15512538, -0.20188144,  0.27782238, -0.20892723],\n",
              "        [-0.18638968, -0.00270671,  0.2805906 ,  0.17827559,  0.26171023,\n",
              "         -0.22870508,  0.24243492,  0.11543468, -0.17419797,  0.24852198,\n",
              "          0.09418806,  0.22418153,  0.0509159 , -0.25150335,  0.08096007,\n",
              "          0.11952841,  0.2705831 , -0.13318019, -0.01134202, -0.11529724],\n",
              "        [ 0.08438927, -0.08694731,  0.21955311,  0.00998306,  0.17852038,\n",
              "         -0.14004533,  0.11227062, -0.03348231,  0.27144527,  0.28383178,\n",
              "         -0.05547653, -0.2188099 , -0.2664849 , -0.1752318 ,  0.25380123,\n",
              "          0.27187264, -0.25145677,  0.22607946,  0.239734  ,  0.16058841],\n",
              "        [ 0.26899272, -0.08089946,  0.28687525, -0.18420085, -0.20337883,\n",
              "          0.2665453 ,  0.25259876,  0.26212817, -0.2773866 , -0.17832312,\n",
              "         -0.0594188 , -0.02503777,  0.17376295, -0.2353112 , -0.2672771 ,\n",
              "         -0.03461242,  0.20223743,  0.24585044, -0.27186158,  0.16849118],\n",
              "        [-0.10622846, -0.16652647, -0.11061417,  0.27407843,  0.17850864,\n",
              "          0.03479549, -0.19655597, -0.03692964,  0.1906763 ,  0.1432715 ,\n",
              "          0.05617321,  0.14563933, -0.05845217,  0.07515499,  0.03057683,\n",
              "         -0.28455603,  0.10828277,  0.02756369, -0.10501033, -0.03018376],\n",
              "        [ 0.00523201,  0.28661174, -0.15307021, -0.20053425, -0.16172738,\n",
              "          0.1915262 , -0.02369812, -0.04779603, -0.21867254, -0.2708681 ,\n",
              "          0.03471169, -0.02461246,  0.03564766,  0.02465874, -0.13815154,\n",
              "         -0.01748124, -0.05980828,  0.14252728,  0.131892  , -0.02801928],\n",
              "        [-0.23872437, -0.11772355,  0.273948  ,  0.28025   ,  0.0641765 ,\n",
              "         -0.02151313, -0.16423891, -0.20026433, -0.20850018,  0.23920244,\n",
              "         -0.1317794 ,  0.08984506, -0.08324341, -0.01043823,  0.18769562,\n",
              "          0.09936294, -0.08139855,  0.03654516, -0.13362105,  0.19554922],\n",
              "        [-0.06785895,  0.16560933,  0.2764008 , -0.2792966 , -0.22758372,\n",
              "         -0.07493043,  0.06083423, -0.24034712, -0.23294479,  0.11628124,\n",
              "         -0.1917185 ,  0.22354192, -0.03069744, -0.0631081 , -0.03163949,\n",
              "         -0.26674294,  0.18492636, -0.07861799,  0.22117615,  0.20602411],\n",
              "        [-0.00930962, -0.23302351, -0.23154357,  0.13328034,  0.14787725,\n",
              "          0.03181714, -0.17524303,  0.10935494, -0.11045586, -0.22506694,\n",
              "          0.25427544,  0.28128165,  0.00599876, -0.25053966,  0.24541438,\n",
              "         -0.26686427, -0.24723272, -0.08047242, -0.13989645,  0.17088321],\n",
              "        [ 0.09079987, -0.23533592, -0.2773092 , -0.23293829, -0.05246221,\n",
              "          0.18468842,  0.03955975, -0.10251988,  0.26154643,  0.07447073,\n",
              "          0.08956745,  0.1504994 , -0.21113569,  0.15874776,  0.01214188,\n",
              "          0.14509013, -0.26417857, -0.23220362, -0.00975356,  0.11746508],\n",
              "        [ 0.18694058, -0.07801338, -0.28742564,  0.03924936, -0.11404486,\n",
              "         -0.23593411,  0.15358773, -0.17767856, -0.22756207, -0.16827019,\n",
              "         -0.14133814, -0.00600505, -0.09390697, -0.04747941, -0.27270705,\n",
              "         -0.2908624 , -0.13197477,  0.22560126, -0.04097122,  0.177641  ],\n",
              "        [-0.06038359, -0.18444264, -0.07506341, -0.13734114,  0.22991848,\n",
              "         -0.04281336, -0.20011893,  0.21178967,  0.25930917, -0.07501796,\n",
              "          0.08623728, -0.28402036,  0.19055337, -0.08250456, -0.04732339,\n",
              "          0.09219611, -0.15267786, -0.02918729, -0.2011398 , -0.14610127],\n",
              "        [ 0.19904733,  0.20063671, -0.20209092, -0.14825508, -0.0760543 ,\n",
              "         -0.21790081, -0.27709946, -0.15360063,  0.02560714, -0.0408915 ,\n",
              "          0.0075365 ,  0.13418895,  0.10202268,  0.25108886, -0.10635619,\n",
              "         -0.07160389,  0.2807457 ,  0.16218144,  0.05224001, -0.08850068],\n",
              "        [ 0.03588566, -0.03179669,  0.25970393, -0.14143537,  0.12192792,\n",
              "         -0.18182744,  0.20912504, -0.13288863,  0.04960829, -0.17245293,\n",
              "         -0.04573373,  0.25959945,  0.04638728,  0.17676026, -0.21051493,\n",
              "         -0.10591888, -0.02705538, -0.03924412, -0.2555801 ,  0.01029772],\n",
              "        [ 0.0678235 ,  0.17413816, -0.13110435,  0.05320308,  0.26233733,\n",
              "          0.125909  ,  0.22836024,  0.26175654,  0.19967353,  0.16069886,\n",
              "         -0.07521935,  0.03679958, -0.27222168,  0.09160832, -0.14860234,\n",
              "          0.17343041, -0.15828337,  0.17467353, -0.02706796, -0.12578154],\n",
              "        [ 0.05365351, -0.26482627,  0.1318273 , -0.12440597, -0.03067294,\n",
              "          0.18648261,  0.04087901,  0.24769944, -0.24738383, -0.23679087,\n",
              "         -0.1899907 , -0.23910925,  0.0622344 ,  0.19483656, -0.15690994,\n",
              "          0.13105848, -0.20155546, -0.16873974, -0.05360878,  0.02369931],\n",
              "        [-0.18371964, -0.00691023,  0.02444872, -0.11841096, -0.05936357,\n",
              "         -0.02554467,  0.16162038,  0.0765467 ,  0.13410619, -0.16955265,\n",
              "          0.26419687,  0.24436224, -0.1112992 ,  0.07394519, -0.09913023,\n",
              "          0.24893022,  0.24406475, -0.23160584, -0.26521954,  0.12071541],\n",
              "        [-0.27313945,  0.23947781,  0.17000037, -0.22350988, -0.24222074,\n",
              "          0.10565057,  0.14344323, -0.04025367,  0.01402619,  0.01892152,\n",
              "          0.02286574,  0.09825689, -0.07888798, -0.11176953, -0.10402836,\n",
              "         -0.18567234,  0.07176507, -0.05517638, -0.1772564 , -0.07499835],\n",
              "        [ 0.19676057, -0.04958686, -0.2577536 ,  0.2029224 , -0.28552747,\n",
              "         -0.08467016, -0.16382605,  0.06233713,  0.03626701,  0.1363836 ,\n",
              "         -0.08074926, -0.20290361,  0.20947963,  0.2441079 ,  0.19717115,\n",
              "          0.21203315,  0.13193479, -0.17901778, -0.17178932, -0.1563955 ],\n",
              "        [ 0.11880681,  0.12749678, -0.2224597 , -0.25057498, -0.24071065,\n",
              "          0.2902851 , -0.03420994, -0.11651166, -0.1277496 , -0.17952217,\n",
              "         -0.15103137,  0.05027741, -0.29167148,  0.01043245, -0.08663201,\n",
              "          0.19237694,  0.00895989,  0.28793466,  0.14550343, -0.28660235],\n",
              "        [ 0.11364895,  0.1654687 , -0.19318363, -0.09546843, -0.18126254,\n",
              "         -0.2671762 ,  0.14604983, -0.08260556, -0.13103329,  0.23193336,\n",
              "         -0.01398179,  0.17836556, -0.07425077, -0.2534469 ,  0.13243595,\n",
              "          0.0318523 ,  0.00184563, -0.05967699,  0.18940422,  0.01935276],\n",
              "        [-0.03875956,  0.06084722,  0.10500711, -0.27411026,  0.10321015,\n",
              "          0.17185229,  0.13153851,  0.19600406,  0.12674615, -0.09942487,\n",
              "          0.08057329,  0.09262568,  0.20722875,  0.05820432, -0.19112247,\n",
              "         -0.07260834, -0.03595185, -0.15584609,  0.15426368, -0.03323418],\n",
              "        [ 0.14948994,  0.14465964,  0.06238544, -0.08591068,  0.17273402,\n",
              "          0.27124172, -0.18211488,  0.03848788,  0.16771296,  0.09695521,\n",
              "          0.00285774, -0.11707573,  0.06428552, -0.081085  , -0.07589976,\n",
              "          0.1561498 ,  0.1282875 , -0.22498974,  0.25670892, -0.10696039],\n",
              "        [-0.11843309,  0.12014902,  0.09812349, -0.08178204,  0.26083452,\n",
              "          0.26998228, -0.14341725,  0.18135738, -0.01204625, -0.02884182,\n",
              "         -0.27859998,  0.09036374, -0.1774804 , -0.2895639 ,  0.07056886,\n",
              "          0.12496004, -0.11934477,  0.13340348, -0.22754896, -0.2781002 ],\n",
              "        [-0.28858584,  0.25759387, -0.25421458, -0.17580724,  0.09924799,\n",
              "         -0.13745967, -0.27834395, -0.15465151,  0.06468311, -0.249596  ,\n",
              "          0.19274724, -0.10875562,  0.11251402,  0.14337105,  0.2635544 ,\n",
              "         -0.13267858, -0.04668149, -0.1119464 , -0.14087138,  0.27494216],\n",
              "        [-0.20441252,  0.17084986, -0.12136553, -0.06186646, -0.23397799,\n",
              "          0.13624212,  0.0808351 , -0.20569924, -0.00631392, -0.09638207,\n",
              "          0.11744252,  0.11026299,  0.25596052, -0.25862145, -0.07910165,\n",
              "         -0.09171706, -0.2666152 ,  0.18064138,  0.17240119,  0.09278587],\n",
              "        [-0.20004684, -0.24946281, -0.26091388,  0.22509688, -0.18276781,\n",
              "         -0.1983487 ,  0.03636995, -0.26278457, -0.0595191 ,  0.06107897,\n",
              "         -0.2646482 , -0.23727605, -0.26400205,  0.06095219, -0.08349086,\n",
              "         -0.12873283, -0.2885484 , -0.10316883, -0.09080225, -0.03682226],\n",
              "        [-0.09569836,  0.27024347, -0.16871181,  0.11530876, -0.14686728,\n",
              "         -0.0877272 , -0.03704458, -0.17134565, -0.26188767,  0.20959437,\n",
              "          0.27356797, -0.03726265, -0.0980127 , -0.2004075 , -0.1694814 ,\n",
              "          0.09954333,  0.06721404, -0.2632595 ,  0.07185307,  0.04370221],\n",
              "        [-0.23276734,  0.19655025,  0.03198585, -0.12002827, -0.0857396 ,\n",
              "          0.27373624,  0.25285518,  0.2448026 , -0.13912514, -0.27465108,\n",
              "         -0.21826714,  0.18049932, -0.14025153, -0.17673631,  0.14110667,\n",
              "         -0.18437849,  0.14253515,  0.04993007,  0.21925652,  0.09263635],\n",
              "        [-0.16984358,  0.03284153, -0.21391067, -0.09567875,  0.13961697,\n",
              "         -0.07095578, -0.20058402, -0.0571522 ,  0.04293907, -0.1190507 ,\n",
              "         -0.25034314, -0.06506331,  0.13737333, -0.03692621,  0.23819768,\n",
              "          0.03661287, -0.07664888,  0.17659977,  0.10467222,  0.13478526],\n",
              "        [ 0.12523004,  0.04847485,  0.07842115, -0.09394369, -0.03996643,\n",
              "          0.22600806, -0.00517735,  0.11652198, -0.28639755, -0.12417589,\n",
              "          0.04003295,  0.25794703, -0.1138379 ,  0.08152139, -0.02071321,\n",
              "          0.13608003, -0.08887893,  0.16020027,  0.28309113, -0.08496912]],\n",
              "       dtype=float32),\n",
              " array([0., 0., 0., 0., 0., 0., 0., 0., 0., 0., 0., 0., 0., 0., 0., 0., 0.,\n",
              "        0., 0., 0.], dtype=float32),\n",
              " array([[-0.07245454],\n",
              "        [-0.31618384],\n",
              "        [ 0.2430386 ],\n",
              "        [-0.4239877 ],\n",
              "        [-0.39300257],\n",
              "        [ 0.4107381 ],\n",
              "        [ 0.06721777],\n",
              "        [-0.26291132],\n",
              "        [-0.18002823],\n",
              "        [ 0.26222622],\n",
              "        [ 0.45339411],\n",
              "        [ 0.19875401],\n",
              "        [ 0.11047947],\n",
              "        [ 0.23320264],\n",
              "        [ 0.12527537],\n",
              "        [ 0.25202107],\n",
              "        [-0.46247435],\n",
              "        [-0.40475163],\n",
              "        [ 0.11752129],\n",
              "        [-0.5244283 ]], dtype=float32),\n",
              " array([0.], dtype=float32)]"
            ]
          },
          "metadata": {
            "tags": []
          },
          "execution_count": 48
        }
      ]
    },
    {
      "cell_type": "code",
      "metadata": {
        "colab": {
          "base_uri": "https://localhost:8080/"
        },
        "id": "6-D6lNLYPAuM",
        "outputId": "6cbe359b-bdf5-42cb-f8ac-3a6573ad537f"
      },
      "source": [
        "nn_model.compile(loss='binary_crossentropy',\n",
        "              optimizer='adam',\n",
        "              metrics=['accuracy'])\n",
        "                   \n",
        "%time nn_model.fit(scaled_df, train_y, epochs=20, batch_size=1, verbose=1)"
      ],
      "execution_count": null,
      "outputs": [
        {
          "output_type": "stream",
          "text": [
            "Epoch 1/20\n",
            "104125/104125 [==============================] - 163s 2ms/step - loss: 0.4243 - accuracy: 0.8105\n",
            "Epoch 2/20\n",
            "104125/104125 [==============================] - 164s 2ms/step - loss: 0.3962 - accuracy: 0.8213\n",
            "Epoch 3/20\n",
            "104125/104125 [==============================] - 164s 2ms/step - loss: 0.3887 - accuracy: 0.8247\n",
            "Epoch 4/20\n",
            "104125/104125 [==============================] - 164s 2ms/step - loss: 0.3851 - accuracy: 0.8262\n",
            "Epoch 5/20\n",
            "104125/104125 [==============================] - 164s 2ms/step - loss: 0.3849 - accuracy: 0.8265\n",
            "Epoch 6/20\n",
            "104125/104125 [==============================] - 162s 2ms/step - loss: 0.3816 - accuracy: 0.8278\n",
            "Epoch 7/20\n",
            "104125/104125 [==============================] - 161s 2ms/step - loss: 0.3808 - accuracy: 0.8298\n",
            "Epoch 8/20\n",
            "104125/104125 [==============================] - 159s 2ms/step - loss: 0.3791 - accuracy: 0.8319\n",
            "Epoch 9/20\n",
            "104125/104125 [==============================] - 159s 2ms/step - loss: 0.3765 - accuracy: 0.8330\n",
            "Epoch 10/20\n",
            "104125/104125 [==============================] - 161s 2ms/step - loss: 0.3749 - accuracy: 0.8335\n",
            "Epoch 11/20\n",
            "104125/104125 [==============================] - 160s 2ms/step - loss: 0.3740 - accuracy: 0.8335\n",
            "Epoch 12/20\n",
            "104125/104125 [==============================] - 159s 2ms/step - loss: 0.3738 - accuracy: 0.8372\n",
            "Epoch 13/20\n",
            "104125/104125 [==============================] - 162s 2ms/step - loss: 0.3718 - accuracy: 0.8373\n",
            "Epoch 14/20\n",
            "104125/104125 [==============================] - 161s 2ms/step - loss: 0.3712 - accuracy: 0.8364\n",
            "Epoch 15/20\n",
            "104125/104125 [==============================] - 164s 2ms/step - loss: 0.3720 - accuracy: 0.8367\n",
            "Epoch 16/20\n",
            "104125/104125 [==============================] - 161s 2ms/step - loss: 0.3691 - accuracy: 0.8384\n",
            "Epoch 17/20\n",
            "104125/104125 [==============================] - 164s 2ms/step - loss: 0.3699 - accuracy: 0.8395\n",
            "Epoch 18/20\n",
            "104125/104125 [==============================] - 160s 2ms/step - loss: 0.3692 - accuracy: 0.8410\n",
            "Epoch 19/20\n",
            "104125/104125 [==============================] - 162s 2ms/step - loss: 0.3933 - accuracy: 0.8398\n",
            "Epoch 20/20\n",
            "104125/104125 [==============================] - 162s 2ms/step - loss: 0.3761 - accuracy: 0.8409\n",
            "CPU times: user 58min 32s, sys: 5min 59s, total: 1h 4min 31s\n",
            "Wall time: 53min 56s\n"
          ],
          "name": "stdout"
        },
        {
          "output_type": "execute_result",
          "data": {
            "text/plain": [
              "<tensorflow.python.keras.callbacks.History at 0x7fe4ab20f650>"
            ]
          },
          "metadata": {
            "tags": []
          },
          "execution_count": 49
        }
      ]
    },
    {
      "cell_type": "code",
      "metadata": {
        "colab": {
          "base_uri": "https://localhost:8080/"
        },
        "id": "X7LzBypMph8R",
        "outputId": "1ad9e923-ccfc-49b9-f4ef-fd1c4f8da1d3"
      },
      "source": [
        "%time nn_y_pred= nn_model.predict_classes(scaled_test_df)\n",
        "pickle.dump(nn_y_pred, open(\"nn_y_pred.pkl\", \"wb\"))  "
      ],
      "execution_count": null,
      "outputs": [
        {
          "output_type": "stream",
          "text": [
            "CPU times: user 613 ms, sys: 58.6 ms, total: 672 ms\n",
            "Wall time: 559 ms\n"
          ],
          "name": "stdout"
        }
      ]
    },
    {
      "cell_type": "code",
      "metadata": {
        "id": "2PAuRtUlGyQM"
      },
      "source": [
        "nn_y_pred = pickle.load(open(\"nn_y_pred.pkl\", \"rb\"))\n",
        "nn_y_pred = nn_y_pred.flatten()"
      ],
      "execution_count": null,
      "outputs": []
    },
    {
      "cell_type": "code",
      "metadata": {
        "colab": {
          "base_uri": "https://localhost:8080/",
          "height": 282
        },
        "id": "_CJZMeWiGtxe",
        "outputId": "2c022134-c6d5-4006-f855-5db61bfcc09a"
      },
      "source": [
        "sns.countplot(nn_y_pred)"
      ],
      "execution_count": null,
      "outputs": [
        {
          "output_type": "execute_result",
          "data": {
            "text/plain": [
              "<matplotlib.axes._subplots.AxesSubplot at 0x7fe4a8266a50>"
            ]
          },
          "metadata": {
            "tags": []
          },
          "execution_count": 65
        },
        {
          "output_type": "display_data",
          "data": {
            "image/png": "[encoded data removed]",
            "text/plain": [
              "<Figure size 432x288 with 1 Axes>"
            ]
          },
          "metadata": {
            "tags": [],
            "needs_background": "light"
          }
        }
      ]
    },
    {
      "cell_type": "code",
      "metadata": {
        "id": "jqDtP9mrbWs1",
        "colab": {
          "base_uri": "https://localhost:8080/"
        },
        "outputId": "ab3e6efd-9585-48aa-f770-aa321bc02782"
      },
      "source": [
        "nn_scores = nn_model.evaluate(scaled_test_df, test_y, verbose=0)\n",
        "print('Accuracy on test data: {}'.format(nn_scores[1]))  "
      ],
      "execution_count": null,
      "outputs": [
        {
          "output_type": "stream",
          "text": [
            "Accuracy on test data: 0.7822679877281189\n"
          ],
          "name": "stdout"
        }
      ]
    },
    {
      "cell_type": "code",
      "metadata": {
        "colab": {
          "base_uri": "https://localhost:8080/",
          "height": 308
        },
        "id": "OHNv-ZXkH3v8",
        "outputId": "5195e956-bde4-4290-b930-273b6f8d818a"
      },
      "source": [
        "#show confusion matrix\n",
        "cm = confusion_matrix(test_y, nn_y_pred)\n",
        "plt.figure(figsize=(5,5))\n",
        "sns.heatmap(cm, annot=True, fmt=\".3f\", linewidths=.5, square = True, cmap = 'Blues_r');\n",
        "plt.ylabel('Actual label');\n",
        "plt.xlabel('Predicted label');\n",
        "all_sample_title = 'Accuracy Score: {0:.4f}'.format(nn_scores[1])\n",
        "plt.title(all_sample_title, size = 15);"
      ],
      "execution_count": null,
      "outputs": [
        {
          "output_type": "display_data",
          "data": {
            "image/png": "[encoded data removed]",
            "text/plain": [
              "<Figure size 360x360 with 2 Axes>"
            ]
          },
          "metadata": {
            "tags": [],
            "needs_background": "light"
          }
        }
      ]
    },
    {
      "cell_type": "code",
      "metadata": {
        "colab": {
          "base_uri": "https://localhost:8080/"
        },
        "id": "PdrcYpGQ_eaU",
        "outputId": "3a080339-66a6-45df-c833-f48cff19884a"
      },
      "source": [
        "print(classification_report(test_y, nn_y_pred))"
      ],
      "execution_count": null,
      "outputs": [
        {
          "output_type": "stream",
          "text": [
            "              precision    recall  f1-score   support\n",
            "\n",
            "           0       0.78      1.00      0.88     20388\n",
            "           1       0.18      0.00      0.00      5644\n",
            "\n",
            "    accuracy                           0.78     26032\n",
            "   macro avg       0.48      0.50      0.44     26032\n",
            "weighted avg       0.65      0.78      0.69     26032\n",
            "\n"
          ],
          "name": "stdout"
        }
      ]
    },
    {
      "cell_type": "markdown",
      "metadata": {
        "id": "jGID_-6mGZcL"
      },
      "source": [
        "#Logistic Regression"
      ]
    },
    {
      "cell_type": "code",
      "metadata": {
        "id": "rYAV6fYxGj0Y",
        "outputId": "f628cf9d-126b-4437-988d-b5da9b5c7838",
        "colab": {
          "base_uri": "https://localhost:8080/",
          "height": 299
        }
      },
      "source": [
        "# Apply logistic regression\n",
        "clf = LogisticRegression(random_state=0, max_iter=200).fit(scaled_df, train_y)\n",
        "pred = clf.predict(scaled_test_df)\n",
        "score = clf.score(scaled_test_df,test_y)\n",
        "print('Accuracy on test data: {}'.format(score))  \n",
        "sns.countplot(pred)\n"
      ],
      "execution_count": 6,
      "outputs": [
        {
          "output_type": "stream",
          "text": [
            "Accuracy on test data: 0.7377842655193608\n"
          ],
          "name": "stdout"
        },
        {
          "output_type": "execute_result",
          "data": {
            "text/plain": [
              "<matplotlib.axes._subplots.AxesSubplot at 0x7fbd6889bad0>"
            ]
          },
          "metadata": {
            "tags": []
          },
          "execution_count": 6
        },
        {
          "output_type": "display_data",
          "data": {
            "image/png": "[encoded data removed]",
            "text/plain": [
              "<Figure size 432x288 with 1 Axes>"
            ]
          },
          "metadata": {
            "tags": [],
            "needs_background": "light"
          }
        }
      ]
    },
    {
      "cell_type": "code",
      "metadata": {
        "id": "OGl_hZQ_Gkv0",
        "outputId": "4826bd68-94a6-44bb-92c8-17f660893eda",
        "colab": {
          "base_uri": "https://localhost:8080/",
          "height": 309
        }
      },
      "source": [
        "#show confusion matrix\n",
        "cm = confusion_matrix(test_y, pred)\n",
        "plt.figure(figsize=(5,5))\n",
        "sns.heatmap(cm, annot=True, fmt=\".3f\", linewidths=.5, square = True, cmap = 'Blues_r');\n",
        "plt.ylabel('Actual label');\n",
        "plt.xlabel('Predicted label');\n",
        "all_sample_title = 'Accuracy Score: {0:.4f}'.format(score)\n",
        "plt.title(all_sample_title, size = 15);"
      ],
      "execution_count": 10,
      "outputs": [
        {
          "output_type": "display_data",
          "data": {
            "image/png": "[encoded data removed]",
            "text/plain": [
              "<Figure size 360x360 with 2 Axes>"
            ]
          },
          "metadata": {
            "tags": [],
            "needs_background": "light"
          }
        }
      ]
    },
    {
      "cell_type": "code",
      "metadata": {
        "id": "DdJ9s6E0ILQ7",
        "outputId": "0813eaf2-911c-4854-9612-29fdf7835cb4",
        "colab": {
          "base_uri": "https://localhost:8080/"
        }
      },
      "source": [
        "print(classification_report(test_y, pred))"
      ],
      "execution_count": 13,
      "outputs": [
        {
          "output_type": "stream",
          "text": [
            "              precision    recall  f1-score   support\n",
            "\n",
            "           0       0.79      0.90      0.84     20388\n",
            "           1       0.29      0.14      0.19      5644\n",
            "\n",
            "    accuracy                           0.74     26032\n",
            "   macro avg       0.54      0.52      0.52     26032\n",
            "weighted avg       0.68      0.74      0.70     26032\n",
            "\n"
          ],
          "name": "stdout"
        }
      ]
    },
    {
      "cell_type": "code",
      "metadata": {
        "id": "QSSW5Y2qGy8U",
        "outputId": "d9b3fdbf-c01d-4102-9b8b-f84e00b5d834",
        "colab": {
          "base_uri": "https://localhost:8080/"
        }
      },
      "source": [
        "# Hyperparameter tuning\n",
        "model = LogisticRegression()\n",
        "solvers = ['newton-cg', 'lbfgs', 'liblinear']\n",
        "penalty = ['l2']\n",
        "c_values = [100, 10, 1.0, 0.1, 0.01]\n",
        "max_iter = [200,300]\n",
        "# define grid search\n",
        "grid = dict(solver=solvers,penalty=penalty,C=c_values, max_iter = max_iter)\n",
        "cv = RepeatedStratifiedKFold(n_splits=5, n_repeats=2, random_state=1)\n",
        "grid_search = RandomizedSearchCV(estimator=model, param_distributions=grid, n_jobs=-1, cv=cv, scoring='accuracy',error_score=0)\n",
        "grid_result = grid_search.fit(scaled_df, train_y)\n",
        "# summarize results\n",
        "print(\"Best: %f using %s\" % (grid_result.best_score_, grid_result.best_params_))\n",
        "means = grid_result.cv_results_['mean_test_score']\n",
        "stds = grid_result.cv_results_['std_test_score']\n",
        "params = grid_result.cv_results_['params']\n",
        "for mean, stdev, param in zip(means, stds, params):\n",
        "    print(\"%f (%f) with: %r\" % (mean, stdev, param))"
      ],
      "execution_count": 11,
      "outputs": [
        {
          "output_type": "stream",
          "text": [
            "Best: 0.811803 using {'solver': 'lbfgs', 'penalty': 'l2', 'max_iter': 200, 'C': 10}\n",
            "0.811693 (0.001834) with: {'solver': 'lbfgs', 'penalty': 'l2', 'max_iter': 200, 'C': 0.01}\n",
            "0.811798 (0.001823) with: {'solver': 'newton-cg', 'penalty': 'l2', 'max_iter': 300, 'C': 1.0}\n",
            "0.811717 (0.001738) with: {'solver': 'liblinear', 'penalty': 'l2', 'max_iter': 200, 'C': 0.01}\n",
            "0.811693 (0.001834) with: {'solver': 'lbfgs', 'penalty': 'l2', 'max_iter': 300, 'C': 0.01}\n",
            "0.811794 (0.001823) with: {'solver': 'liblinear', 'penalty': 'l2', 'max_iter': 300, 'C': 100}\n",
            "0.811789 (0.001818) with: {'solver': 'newton-cg', 'penalty': 'l2', 'max_iter': 200, 'C': 10}\n",
            "0.811717 (0.001852) with: {'solver': 'newton-cg', 'penalty': 'l2', 'max_iter': 200, 'C': 0.1}\n",
            "0.811803 (0.001823) with: {'solver': 'lbfgs', 'penalty': 'l2', 'max_iter': 200, 'C': 10}\n",
            "0.811794 (0.001823) with: {'solver': 'liblinear', 'penalty': 'l2', 'max_iter': 200, 'C': 100}\n",
            "0.811803 (0.001811) with: {'solver': 'liblinear', 'penalty': 'l2', 'max_iter': 300, 'C': 1.0}\n"
          ],
          "name": "stdout"
        }
      ]
    },
    {
      "cell_type": "markdown",
      "metadata": {
        "id": "Okw3izq0OTlG"
      },
      "source": [
        "## Logistic Regression on PCA data"
      ]
    },
    {
      "cell_type": "code",
      "metadata": {
        "id": "PDNGuMT-K7yX",
        "outputId": "e2e5d945-5275-486e-c4d4-aa02cfef80c0",
        "colab": {
          "base_uri": "https://localhost:8080/"
        }
      },
      "source": [
        "lgreg_pca = LogisticRegression(max_iter=200)\n",
        "scaler = StandardScaler()\n",
        "pca_97per_train_scaled = scaler.fit_transform(pca_97per_train)\n",
        "pca_97per_test_scaled = scaler.fit_transform(pca_97per_test)\n",
        "%time lgreg_pca.fit(pca_97per_train_scaled, train_y)"
      ],
      "execution_count": 25,
      "outputs": [
        {
          "output_type": "stream",
          "text": [
            "CPU times: user 376 ms, sys: 121 ms, total: 498 ms\n",
            "Wall time: 278 ms\n"
          ],
          "name": "stdout"
        },
        {
          "output_type": "execute_result",
          "data": {
            "text/plain": [
              "LogisticRegression(C=1.0, class_weight=None, dual=False, fit_intercept=True,\n",
              "                   intercept_scaling=1, l1_ratio=None, max_iter=200,\n",
              "                   multi_class='auto', n_jobs=None, penalty='l2',\n",
              "                   random_state=None, solver='lbfgs', tol=0.0001, verbose=0,\n",
              "                   warm_start=False)"
            ]
          },
          "metadata": {
            "tags": []
          },
          "execution_count": 25
        }
      ]
    },
    {
      "cell_type": "code",
      "metadata": {
        "id": "xiIdQe6MNjrU",
        "outputId": "ae94bfe3-730d-408b-b2e7-dd51bd9b8497",
        "colab": {
          "base_uri": "https://localhost:8080/"
        }
      },
      "source": [
        "# predict the results\n",
        "lgreg_pca_y_pred=lgreg_pca.predict(pca_97per_test_scaled)\n",
        "lgreg_pca_accuracy=accuracy_score(lgreg_pca_y_pred, test_y)\n",
        "print('Logistic Regression Model accuracy score: {0:0.4f}'.format(lgreg_pca_accuracy))"
      ],
      "execution_count": 27,
      "outputs": [
        {
          "output_type": "stream",
          "text": [
            "Logistic Regression Model accuracy score: 0.8049\n"
          ],
          "name": "stdout"
        }
      ]
    },
    {
      "cell_type": "code",
      "metadata": {
        "id": "yp1A0ji5NpLd",
        "outputId": "396288b9-7d2d-46d5-b028-45125d1eb610",
        "colab": {
          "base_uri": "https://localhost:8080/",
          "height": 282
        }
      },
      "source": [
        "sns.countplot(lgreg_pca_y_pred)\n"
      ],
      "execution_count": 30,
      "outputs": [
        {
          "output_type": "execute_result",
          "data": {
            "text/plain": [
              "<matplotlib.axes._subplots.AxesSubplot at 0x7fbd5f5e8290>"
            ]
          },
          "metadata": {
            "tags": []
          },
          "execution_count": 30
        },
        {
          "output_type": "display_data",
          "data": {
            "image/png": "[encoded data removed]",
            "text/plain": [
              "<Figure size 432x288 with 1 Axes>"
            ]
          },
          "metadata": {
            "tags": [],
            "needs_background": "light"
          }
        }
      ]
    },
    {
      "cell_type": "code",
      "metadata": {
        "id": "z5wHbcEDNt-W",
        "outputId": "286224a8-f648-4a67-f152-ffa8d3ade6c7",
        "colab": {
          "base_uri": "https://localhost:8080/",
          "height": 309
        }
      },
      "source": [
        "#show confusion matrix\n",
        "cm = confusion_matrix(test_y, lgreg_pca_y_pred)\n",
        "plt.figure(figsize=(5,5))\n",
        "sns.heatmap(cm, annot=True, fmt=\".3f\", linewidths=.5, square = True, cmap = 'Blues_r');\n",
        "plt.ylabel('Actual label');\n",
        "plt.xlabel('Predicted label');\n",
        "all_sample_title = 'Accuracy Score: {0:.4f}'.format(lgreg_pca_accuracy)\n",
        "plt.title(all_sample_title, size = 15);"
      ],
      "execution_count": 32,
      "outputs": [
        {
          "output_type": "display_data",
          "data": {
            "image/png": "[encoded data removed]",
            "text/plain": [
              "<Figure size 360x360 with 2 Axes>"
            ]
          },
          "metadata": {
            "tags": [],
            "needs_background": "light"
          }
        }
      ]
    }
  ]
}